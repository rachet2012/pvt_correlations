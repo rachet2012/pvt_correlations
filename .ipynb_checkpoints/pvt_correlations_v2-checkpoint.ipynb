{
 "cells": [
  {
   "cell_type": "markdown",
   "id": "a11bec9c",
   "metadata": {},
   "source": [
    "# Корелляции  \n",
    "\n",
    "Задача: \n",
    "\n",
    "**№1.** Используя язык Python, необходимо запрогроммировать модифицированные корреляции для тяжелых и сверхтяжелых нефтей. \n",
    "\n",
    "**№2** Построить зависимости вязкости газонасыщенной нефти, газосодержания, сжимаемости и пластовой температуры для различных температур. Исходные данные: газовый фактор, пластовая температура, относительная плотность нефти, относительная плотность газа, давление в сепараторе.\n",
    "\n",
    "## Границы применимости корреляций\n",
    "\n",
    "\n",
    "  \n",
    "  \n",
    "| Параметр      | Обозначение              | Значение | Размерность |\n",
    "| :------------- |:------------------:| :-----:| :---------:|\n",
    "| Плотность нефти     | $$API$$   | [6;22.3] | $$API^0$$ |\n",
    "| Пластовое давление   | $$P_r$$ |  [1038.49;7411.54] | $$psia$$  |\n",
    "| Пластовая температура  | $$T_r$$ |  [131.4;250.7] | $$F^0$$  |\n",
    "| Газосодержание нефти в пластовых условиях    | $$R_s$$   | [17.21;640.25] | $$\\frac{scf}{STB}$$ |\n",
    "| Давление насыщения   | $$API$$   | [208.86;4021.96] | $$psia$$ |\n",
    "| Давление в сепараторе  | $$API$$   | [14.5;752.2] | $$psia$$ |\n",
    "| Температура в сепараторе  | $$T_{sp}$$   | [59;177.8] | $$F^0$$ |\n",
    "| Газосодержание в сепараторе     | $$R_{sp}$$   | [11.1;575.62] | $$\\frac{scf}{STB}$$ |\n",
    "| Газосодержание в поверхностных условиях     | $$R_{st}$$   | [4.39;311.41] | $$\\frac{scf}{STB}$$ | \n",
    "| Относительная плотность газа на поверхности     | $$\\gamma_{g}$$   | [0.623;1.517] | $$$$ |\n",
    "| Относительная плотность газа в сепараторе     | $$\\gamma_{Psp}$$   | [0.623;1.517] | $$$$ |\n",
    "| Мольная концентрация углекислого газа     | $$YCO2$$   | [0.5;98.8] | _%mol._ |\n",
    "| Мольная концентрация азота    | $$YN2$$   | [0;63.32] | _%mol._ |\n",
    "| Мольная концентрация сероводорода    | $$YH2S$$   | [0;1.99] | _%mol._ |\n",
    "| Объемный коэффициент нефти   | $$OFVF$$   | [1.057;1.362] | $$\\frac{bbl}{STB}$$ |\n",
    "| Cжимаемость нефти    | $$C_o$$   | [3.02;42.9] |  $$psia^{-1} \\bullet 10^6$$ |\n",
    "| Вязкость дегазированной нефти    | $$ \\mu_{od}$$   | [7.7;1386.9] | $$cp$$ |\n",
    "| Вязкость насыщенной нефти    | $$ \\mu_{ol}$$   | [2.1;295.9] | $$cp$$ |\n",
    "| Вязкость недонасыщенной нефти    | $$ \\mu_{o}$$   | [2.4;354.6] | $$cp$$ |\n",
    "\n",
    "\n",
    "\n",
    "\n",
    "\n",
    "\n"
   ]
  },
  {
   "cell_type": "markdown",
   "id": "12a086ef",
   "metadata": {},
   "source": [
    "## Пункт №1\n",
    "\n",
    "**Прогроммируем модифицированные корреляции:**\n",
    "\n",
    "1.Для вычисления давления насыщения в работе используется **Moddified Standing's correlation**:\n",
    "\n",
    "$$P_b=15.7286\\bullet \\left[ (\\frac{R_s}{\\gamma_g}) \\bullet \\frac{10^{0.0020\\bullet T}}{10^{0.0142\\bullet API}} \\right]$$\n",
    "\n",
    "Корреляция применима для тяжелых нефтей ($ 10< API^\\circ \\le22.3 $)."
   ]
  },
  {
   "cell_type": "code",
   "execution_count": 2,
   "id": "90563dc3",
   "metadata": {},
   "outputs": [
    {
     "name": "stdout",
     "output_type": "stream",
     "text": [
      "2112.4282561966543\n"
     ]
    }
   ],
   "source": [
    "def Bubblepoint_P_HO(Rs, Yg, T, API):\n",
    "    if 10 < API <= 22.3:\n",
    "        Pb = 15.7286*((Rs/Yg)**0.7885)*10**(0.0020*T-0.0142*API)\n",
    "        return Pb\n",
    "    \n",
    "    else:\n",
    "        return 'Корреляция не подходит для данного значения плотности'\n",
    "\n",
    "\n",
    "print(Bubblepoint_P_HO(231.46,0.696,147.9,11.0))"
   ]
  },
  {
   "cell_type": "markdown",
   "id": "8bba2ab0",
   "metadata": {},
   "source": [
    "2.Газонасыщенность:\n",
    ">Cверхтяжелых нефтей вычисляют с помощью **Modified Standing's correlation**:\n",
    "$$R_s=\\gamma_g\\bullet \\left(\\frac{P_b}{10.7025}\\bullet10^{(0.0169\\bullet API-0.00156\\bullet T)}\\right)^{1.1128} $$\n",
    ">Тяжелых нефтей с помощью **Modifiend Vasquez-Beggs correlation**:\n",
    "$$R_s= \\frac{\\gamma_{gcorr} \\bullet P_b^{1.2057}}{56.434}\\bullet 10^{10.9267\\bullet API/(T+460)}$$\n",
    ">Где:\n",
    "$$\\gamma_{gcorr}=\\gamma_{gPsp} \\bullet \\left[1+0.5912 \\bullet API \\bullet T_{sp} \\bullet Log(\\frac{P_{sp}}{114.7})10^{-4} \\right]$$"
   ]
  },
  {
   "cell_type": "code",
   "execution_count": 3,
   "id": "8a7e6af9",
   "metadata": {},
   "outputs": [
    {
     "name": "stdout",
     "output_type": "stream",
     "text": [
      "56.564085705371255\n"
     ]
    }
   ],
   "source": [
    "import math as m\n",
    "\n",
    "\n",
    "def Solution_GOR(Pb, Yg, T, API, Ygpsp, Tsp, Psp):\n",
    "    if API <= 10:\n",
    "        Rs = Yg*(Pb/10.7025*10**(0.0169*API-0.00156*T))**1.1128\n",
    "        return Rs\n",
    "    \n",
    "    elif 10 < API <= 22.3:\n",
    "        Ygcorr = Ygpsp*(1+0.5912*API*Tsp*m.log10(Psp/114.7)*10**(-4))\n",
    "        Rs = Ygcorr*Pb**(1.2057)/56.434*10.9267*(API/(T+460))\n",
    "        return Rs\n",
    "    \n",
    "    else:\n",
    "        return 'Корреляция не подходит для данного значения плотности'\n",
    "\n",
    "print(Solution_GOR(2503.39,0.696,147.9,22,0.679,131.0,58.02))"
   ]
  },
  {
   "cell_type": "markdown",
   "id": "ca2aa8fc",
   "metadata": {},
   "source": [
    "3.Сжимаемость для сверхтяжелых нефтей вычисляют с помощью **Modifiend Vasquez-Beggs correlation**:\n",
    "$$C_o= \\frac{-889.6+3.1374\\bullet R_s+20 \\bullet T_g-627.3 \\bullet \\gamma_{gcorr}+41.91 \\bullet API}{P_g \\bullet 10^5}$$\n",
    ">Где:\n",
    "$$\\gamma_{gcorr}=\\gamma_{gPsp} \\bullet \\left[1+0.5912 \\bullet API \\bullet T_{sp} \\bullet Log(\\frac{P_{sp}}{114.7})10^{-4} \\right]$$\n",
    "\n",
    "Сжимаемость для тяжелых нефтей вычисляют с помощью **Modifiend Vasquez-Beggs correlation**:\n",
    "$$C_o= \\frac{-2841.8+2.9646\\bullet R_s+25.5439 \\bullet T_g-1230.5 \\bullet \\gamma_{gcorr}+41.91 \\bullet API}{P_g \\bullet 10^5}$$\n",
    ">Где:\n",
    "$$\\gamma_{gcorr}=\\gamma_{gPsp} \\bullet \\left[1+0.5912 \\bullet API \\bullet T_{sp} \\bullet Log(\\frac{P_{sp}}{114.7})10^{-4} \\right]$$"
   ]
  },
  {
   "cell_type": "code",
   "execution_count": 13,
   "id": "3ec2830a",
   "metadata": {
    "scrolled": true
   },
   "outputs": [
    {
     "name": "stdout",
     "output_type": "stream",
     "text": [
      "0.0004103918029077642\n"
     ]
    }
   ],
   "source": [
    "import math as m\n",
    "\n",
    "\n",
    "def Isotherm_Compressibility(Rs, Tg, Pg, API, Ygpsp, Tsp, Psp):\n",
    "    if API <= 10:\n",
    "        Ygcorr = Ygpsp*(1+0.5912*API*Tsp*m.log10(Psp/114.7)*10**(-4))\n",
    "        Co = (-889.6+3.1374*Rs+20*Tg-627.3*Ygcorr-81.4476*API)/(Pg*10**(5))\n",
    "        return Co\n",
    "    \n",
    "    elif 10 < API <=  22.3:\n",
    "        Ygcorr = Ygpsp*(1+0.5912*API*Tsp*m.log10(Psp/114.7)*10**(-4))\n",
    "        Co = (-2841.8+2.9646*Rs+25.5439*Tg-1230.5*Ygcorr+41.91*API)/(Pg*10**(5))\n",
    "        return Co\n",
    "    \n",
    "    else:\n",
    "        return 'Корреляция не подходит для данного значения плотности'\n",
    "\n",
    "print(Isotherm_Compressibility(2503.39,0.696,147.9,6.0,0.679,131.0,58.0))"
   ]
  },
  {
   "cell_type": "markdown",
   "id": "e87ec299",
   "metadata": {},
   "source": [
    "4.Вязкость дегазированной нефти в находят с помощью следующих корреляций:\n",
    ">**Modifiend Egbogah-Jack's correlation** для сверхтяжелых нефтей:\n",
    "$$log\\bullet log(\\mu_{od} +1)=1.90296-0.012619\\bullet API -0.61748 \\bullet log(T_g)$$\n",
    ">**Modifiend Egbogah-Jack's correlation** для тяжелых нефтей:\n",
    "$$log\\bullet log(\\mu_{od} +1)=2.06492-0.0179\\bullet API -0.70226 \\bullet log(T_g)$$"
   ]
  },
  {
   "cell_type": "code",
   "execution_count": 5,
   "id": "4769e2b0",
   "metadata": {},
   "outputs": [
    {
     "name": "stdout",
     "output_type": "stream",
     "text": [
      "1177.646405184529\n"
     ]
    }
   ],
   "source": [
    "def D_visc(API, T):\n",
    "    if API <= 10:\n",
    "        Mod = 10**(10**(1.90296-0.012619*API-0.61748*m.log10(T)))-1\n",
    "        return Mod\n",
    "     \n",
    "    elif 10 < API <= 22.3:\n",
    "        Mod = 10**(10**(2.06492-0.0179*API-0.70226*m.log10(T)))-1\n",
    "        return Mod\n",
    "    \n",
    "    else:\n",
    "        return 'Корреляция не подходит для данного значения плотности'\n",
    "\n",
    "print(D_visc(6.0,147.9))"
   ]
  },
  {
   "cell_type": "markdown",
   "id": "28295eb9",
   "metadata": {},
   "source": [
    "5.Вязкость насыщенной нефти в находят с помощью следующих корреляций:\n",
    ">**Modifiend Kartoatmodjo's correlation** для сверхтяжелых нефтей:\n",
    "$$\\mu_{ol}=2.3945+0.8927\\bullet F+0.001567 \\bullet F^2$$\n",
    "Где\n",
    "$$F= \\left(-0.0335+1.0785\\bullet10^{-0.000845\\bullet R_s}\\right)\\bullet\\mu_{od}^{(0.5798+0.3432\\bullet y)}$$\n",
    "$$y=10^{-0.00081\\bullet R_s}$$\n",
    "$$\\gamma_{gcorr}=\\gamma_{gPsp}\\bullet \\left[1+0.1595\\bullet API^{0.4078} \\bullet (T_{sp})^{-0.2466}\\bullet Log(\\frac{P_{sp}}{114.7})\\right]$$\n",
    "\n",
    "\n",
    ">**Modifiend Kartoatmodjo's correlation** для тяжелых нефтей:\n",
    "$$\\mu_{ol}=-0.6311+1.078\\bullet F-0.003653 \\bullet F^2$$\n",
    "Где\n",
    "$$F= \\left(0.2478+0.6114\\bullet10^{-0.000845\\bullet R_s}\\right)\\bullet\\mu_{od}^{(0.4731+0.5158\\bullet y)}$$\n",
    "$$y=10^{-0.00081\\bullet R_s}$$\n",
    "$$\\gamma_{gcorr}=\\gamma_{gPsp}\\bullet \\left[1+0.1595\\bullet API^{0.4078} \\bullet (T_{sp})^{-0.2466}\\bullet Log(\\frac{P_{sp}}{114.7})\\right]$$"
   ]
  },
  {
   "cell_type": "code",
   "execution_count": 6,
   "id": "7ce69962",
   "metadata": {},
   "outputs": [
    {
     "name": "stdout",
     "output_type": "stream",
     "text": [
      "270.78565954057524\n"
     ]
    }
   ],
   "source": [
    "def G_S_visc(Rs, Mod, API, Ygpsp, Tsp, Psp):\n",
    "    if API <= 10:\n",
    "        Ygcorr = Ygpsp*(1+0.1595*API**(0.4078)*Tsp**(-0.2466)*m.log10(Psp/114.7))\n",
    "        Y = 10**(-0.00081*Rs)\n",
    "        F = (-0.0335+1.0785*10**(-0.000845*Rs))*Mod**(0.5798+0.3432*Y)\n",
    "        Mol = 2.3945+0.8927*F+0.001567*F**2\n",
    "        return Mol\n",
    "    elif 10 < API <= 22.3:\n",
    "        Ygcorr = Ygpsp*(1+0.1595*API**(0.4078)*Tsp**(-0.2466)*m.log10(Psp/114.7))\n",
    "        Y = 10**(-0.00081*Rs)\n",
    "        F = (0.2478+0.6114*10**(-0.000845*Rs))*Mod**(0.4731+0.5158*Y)\n",
    "        Mol = -0.6311+1.078*F-0.003653*F**2\n",
    "        return Mol\n",
    "    else:\n",
    "        return 'Корреляция не подходит для данного значения плотности'\n",
    "\n",
    "print(G_S_visc(231.46,1386.9,6.0,0.679,131.0,58.02))"
   ]
  },
  {
   "cell_type": "markdown",
   "id": "447e88f9",
   "metadata": {},
   "source": [
    "6.Вязкость недонасыщенной нефти в находят с помощью следующих корреляций:\n",
    ">**Modifiend Labedi's correlation** для сверхтяжелых нефтей:\n",
    "$$\\mu_o=\\mu_{ol}-\\left[(1- \\frac{P}{P_b})\\bullet \\left(\\frac{10^{-2.19}\\bullet \\mu_{od}^{1.055}\\bullet P_b^{0.3132}}{10^{0.0099\\bullet API}}\\right)\\right]$$\n",
    "\n",
    "\n",
    "\n",
    ">**Modifiend Kartoatmodjo's correlation** для тяжелых нефтей:\n",
    "$$\\mu_{o}=0.9886\\bullet \\mu_{ol}+0.002763\\bullet(P-P_b)\\bullet(-0.01153\\bullet \\mu_{ol}^{1.7933}+0.0316\\bullet \\mu_{ol}^{1.5939})$$\n",
    "Где\n",
    "\n",
    "$$\\gamma_{gcorr}=\\gamma_{gPsp}\\bullet \\left[1+0.1595\\bullet API^{0.4078} \\bullet (T_{sp})^{-0.2466}\\bullet Log(\\frac{P_{sp}}{114.7})\\right]$$"
   ]
  },
  {
   "cell_type": "code",
   "execution_count": 19,
   "id": "49de45ae",
   "metadata": {},
   "outputs": [
    {
     "name": "stdout",
     "output_type": "stream",
     "text": [
      "305.2112442848726\n"
     ]
    }
   ],
   "source": [
    "def Un_S_visc(Mol, Mod, P, Pb, API, Ygpsp, Tsp, Psp):\n",
    "    if API <= 10:\n",
    "        Mo = Mol-((1-P/Pb)*10**(-2.19)*Mod**(1.055)*Pb**(0.3132)/10**(0.0099)/API)\n",
    "        return Mo\n",
    "    elif 10 < API <= 22.3:\n",
    "        Ygcorr = Ygpsp*(1+0.1595*API**(0.4078)*Tsp**(-0.2466)*m.log10(Psp/114.7))\n",
    "        Mo = 0.9886*Mol+0.002763*(P-Pb)*(-0.01153*Mol**(1.7933)+0.0316*Mol**(1.5939))\n",
    "        return Mo\n",
    "    else:\n",
    "        return 'Корреляция не подходит для данного значения плотности'\n",
    "\n",
    "    \n",
    "Un_S_visc(295.9,1386.9,3428.75,2503.39,6.0,0.679,131.0,58.02)\n",
    "\n",
    "print(Un_S_visc(295.9,1386.9,3428.75,2503.39,6.0,0.679,131.0,58.02))"
   ]
  },
  {
   "cell_type": "markdown",
   "id": "c3971745",
   "metadata": {},
   "source": [
    "**Сравнение результатов расчетов с данными из статьи по образцу №1 показало хорошую сходимость результатов.** "
   ]
  },
  {
   "cell_type": "markdown",
   "id": "3beeab0b",
   "metadata": {},
   "source": [
    "# Пункт №2\n",
    "Построим зависимости для t = 30 °С; 50 °С; 70 °С; 90 °С:\n",
    "\n",
    "𝜇𝑜 = 𝑓(𝑝,𝑡 = 𝑐𝑜𝑛𝑠𝑡); 𝑝𝑏 = 𝑓(𝑝,𝑡 = 𝑐𝑜𝑛𝑠𝑡); 𝑅𝑠 = 𝑓(𝑝,𝑡 = 𝑐𝑜𝑛𝑠𝑡); 𝑐𝑜 = 𝑓(𝑝,𝑡 = 𝑐𝑜𝑛𝑠𝑡)\n",
    "\n",
    "где: 𝜇𝑜 – вязкость газонасыщенной нефти, 𝑝𝑏 – давление насыщения; 𝑅𝑠 – газосодержание; 𝑐𝑜 – сжимаемость нефти\n",
    "\n",
    "Графики построим при помощи библиотеки plotly.\n",
    "\n",
    "Учтем, что для t = 30 °С; 50 °С расчеты могут быть некорректны, т.к. данные значения находятся за пределами границ применимости модиффицированных корреляций,для наглядности их визуализировать не будем."
   ]
  },
  {
   "cell_type": "code",
   "execution_count": 21,
   "id": "5ba95eee",
   "metadata": {
    "scrolled": true
   },
   "outputs": [
    {
     "name": "stdout",
     "output_type": "stream",
     "text": [
      "0.010252811023249153\n",
      "0.01953640955997953\n"
     ]
    }
   ],
   "source": [
    "import math as m\n",
    "import plotly\n",
    "import plotly.graph_objs as go\n",
    "import plotly.express as px\n",
    "\n",
    "class Converter:\n",
    "    \"\"\"\n",
    "    Класс для конвертации\n",
    "    \"\"\"\n",
    "    def convert_t_fromsi_to_F(self, t_c: float) -> float: \n",
    "        t_f = t_c * 1.8 +32\n",
    "        return t_f\n",
    "\n",
    "    def convert_rs_fromsi_to_scfSTB(self,rs_m3m3) -> float:\n",
    "        rs_imp = rs_m3m3 * 5.5525\n",
    "        return rs_imp\n",
    "    \n",
    "    def convert_fromatm_to_psia(self,p_atm) -> float:\n",
    "        p_psia = 14.696 * p_atm\n",
    "        return p_psia\n",
    "    \n",
    "    def convert_sg_to_api(self,sg) -> float:\n",
    "        api = 141.5 / sg -131.5\n",
    "        return api\n",
    "\n",
    "    def convert_t_fromF_to_si(self,t_f: float) -> float:\n",
    "        t_c = (t_f - 32) / 1.8\n",
    "        return t_c\n",
    "    \n",
    "    def convert_rs_fromscfSTB_to_si(self,rs_imp) -> float:\n",
    "        rs_m3m3 = rs_imp * 0.1801\n",
    "        return rs_m3m3\n",
    "    \n",
    "    def convert_frompsia_to_atm(self,p_psia) -> float:\n",
    "        p_atm = p_psia * 0.06804\n",
    "        return p_atm\n",
    "    \n",
    "\n",
    "    \n",
    "\n",
    "\n",
    "class Fluid(Converter):\n",
    "    \"\"\"\n",
    "    Класс для расчета свойств флюида\n",
    "    \"\"\"\n",
    "    def __init__(self, rs_m3m3 = 33.64, yg: float = 0.696, t_c:float = 70, yg_psp: float = 0.679, p_sp_atm: float = 3.65, sg:float = 0.966,\n",
    "                 p_atm: float = 30, pb_atm: float = 30, t_sp_c: float = 1, mu_od: float = 111, mu_ol: float = 50) -> None:\n",
    "        self.rs_m3m3 = rs_m3m3\n",
    "        self.t_c = t_c\n",
    "        self.t_sp_c = t_sp_c\n",
    "        self.psp_atm = p_sp_atm\n",
    "        self.p_atm = p_atm\n",
    "        self.pb_atm = pb_atm\n",
    "        self.yg = yg\n",
    "        self.yg_psp = yg_psp\n",
    "        self.sg = sg\n",
    "        self.mu_od = mu_od\n",
    "        self.mu_ol = mu_ol\n",
    "\n",
    "        self.rs_imp = None\n",
    "        self.t_f = None\n",
    "        self.t_sp_f = None\n",
    "        self.psp_psi = None\n",
    "        self.p_psi = None\n",
    "        self.pb_psi = None\n",
    "        self.api = None\n",
    "        \n",
    "        self.convert_initdata()\n",
    "         \n",
    "        self.pb_r = self.calc_pb(self.rs_imp, self.yg, self.t_f, self.api)\n",
    "        self.rs_r = self.calc_rs(self.p_psi, self.yg, self.t_f, self.api, self.yg_psp, self.t_sp_f, self.psp_psi)\n",
    "        self.co_r = self.calc_co(self.rs_imp, self.t_f, self.p_psi, self.api, self.yg_psp, self.t_sp_f, self.psp_psi)\n",
    "        self.mu_odr = self.calc_muod(self.api, self.t_f)\n",
    "        self.mu_olr = self.calc_muol(self.rs_imp, self.mu_od, self.api, self.yg_psp, self.t_sp_f, self.psp_psi)\n",
    "        self.mu_r = self.calc_mo(self.mu_ol, self.mu_od, self.p_psi, self.pb_psi, self.api, yg_psp, self.t_sp_f, self.psp_psi)\n",
    "\n",
    "    def convert_initdata(self) -> float :\n",
    "        self.rs_imp = self.convert_rs_fromsi_to_scfSTB(self.rs_m3m3)\n",
    "        self.t_f = self.convert_t_fromsi_to_F(self.t_c)\n",
    "        self.t_sp_f = self.convert_t_fromsi_to_F(self.t_sp_c)\n",
    "        self.psp_psi = self.convert_fromatm_to_psia(self.psp_atm)\n",
    "        self.p_psi = self.convert_fromatm_to_psia(self.p_atm)\n",
    "        self.pb_psi = self.convert_fromatm_to_psia(self.pb_atm)\n",
    "        self.api = self.convert_sg_to_api(self.sg)\n",
    "        \n",
    "    def calc_pb(self, rs_imp, yg, t_f, api) -> float :\n",
    "        Pb = 15.7286*((rs_imp/yg)**0.7885)*10**(0.0020*t_f-0.0142*api)\n",
    "        return Pb * 0.06804\n",
    "\n",
    "        #2\n",
    "    def calc_rs(self, pb_psi, yg, t_f, api, yg_psp, t_sp_f, psp_psi) -> float :\n",
    "        if api <= 10:\n",
    "            Rs = yg * (pb_psi/10.7025*10**(0.0169*api-0.00156*t_f))**1.1128\n",
    "            return Rs * 0.1801\n",
    "        elif 10 < api <= 22.3:\n",
    "            Ygcorr = yg_psp*(1+0.5912*api*t_sp_f*(m.log10(psp_psi/114.7))*10**(-4))\n",
    "            Rs = Ygcorr*pb_psi**(1.2057)/56.434*10.9267*(api/(t_f+460))\n",
    "            return Rs * 0.1801\n",
    "        else:\n",
    "            raise Exception\n",
    "            # print('Корреляция не подходит для данного значения плотности')\n",
    "\n",
    "    #3\n",
    "    def calc_co(self, rs_imp, t_f, p_psi, api, yg_psp, t_sp_f, psp_psi) -> float :\n",
    "        if api <= 10:\n",
    "            Ygcorr = yg_psp* ( 1 + 0.5912 * api * t_sp_f * ( m.log10(psp_psi/114.7)) * 10**(-4))\n",
    "            Co = (-889.6+3.1374*rs_imp+20*t_f-627.3*Ygcorr-81.4476*api)/(p_psi*10**(5))\n",
    "            return Co * 14.696\n",
    "        elif 10 < api <= 22.3:\n",
    "            Ygcorr = yg_psp*(1 + 0.5912 * api*t_sp_f*(m.log10(psp_psi/114.7))*10**(-4))\n",
    "            Co = (-2841.8+2.9646*rs_imp +25.5439*t_f-1230.5*Ygcorr+41.91*api)/(p_psi*10**(5))\n",
    "            return Co * 14.696\n",
    "        else:\n",
    "            return 'Корреляция не подходит для данного значения плотности'\n",
    "\n",
    "    #4\n",
    "    def calc_muod(self, api, t_f) -> float :\n",
    "        if api <= 10:\n",
    "            Mod = 10**(10**(1.90296-0.012619*api-0.61748*m.log10(t_f)))-1\n",
    "            return Mod\n",
    "        elif 10 < api <= 22.3:\n",
    "            Mod = 10**(10**(2.06492-0.0179*api-0.70226*m.log10(t_f)))-1\n",
    "            return Mod\n",
    "        else:\n",
    "            return 'Корреляция не подходит для данного значения плотности'\n",
    "\n",
    "    #5\n",
    "    def calc_muol(self, rs_imp, mu_od, api, yg_psp, t_sp_f, p_sp_psi) -> float :\n",
    "        if api <= 10:\n",
    "            Ygcorr = yg_psp*(1+0.1595*api**(0.4078)*t_sp_f**(-0.2466)*m.log10(p_sp_psi/114.7))\n",
    "            Y = 10**(-0.00081*rs_imp)\n",
    "            F = (-0.0335+1.0785*10**(-0.000845*rs_imp))*mu_od**(0.5798+0.3432*Y)\n",
    "            Mol = 2.3945+0.8927*F+0.001567*F**2\n",
    "            return Mol\n",
    "        elif 10 < api <= 22.3:\n",
    "            Ygcorr = yg_psp*(1+0.1595*api**(0.4078)*t_sp_f**(-0.2466)*m.log10(p_sp_psi/114.7))\n",
    "            Y = 10**(-0.00081*rs_imp)\n",
    "            F = (0.2478+0.6114*10**(-0.000845*rs_imp))*mu_od**(0.4731+0.5158*Y)\n",
    "            Mol = -0.6311+1.078*F-0.003653*F**2\n",
    "            return Mol\n",
    "        else:\n",
    "            return 'Корреляция не подходит для данного значения плотности'\n",
    "\n",
    "    #6\n",
    "    def calc_mo(self, mu_ol, mu_od, p_psi, pb_psi, api, yg_psp, t_sp_f, p_sp_psi) -> float :\n",
    "        if api <= 10:\n",
    "            Mo = mu_ol -((1-p_psi/pb_psi)*10**(-2.19)*mu_od**(1.055)*pb_psi**(0.3132)/10**(0.0099)/api)\n",
    "            return Mo\n",
    "        elif 10 < api <= 22.3:\n",
    "            Ygcorr = yg_psp*(1+0.1595*api**(0.4078)*t_sp_f**(-0.2466)*m.log10(p_sp_psi/114.7))\n",
    "            Mo = 0.9886*mu_ol+0.002763*(p_psi-pb_psi)*(-0.01153*mu_ol**(1.7933)+0.0316*mu_ol**(1.5939))\n",
    "            return Mo\n",
    "        else:\n",
    "            return 'Корреляция не подходит для данного значения плотности'\n",
    "\n",
    "def calc_rs_list(p:list,t):\n",
    "    rsr = []\n",
    "    for i in p:\n",
    "        rasc = Fluid(p_atm=i,t_c=t)\n",
    "        rsr.append(rasc.rs_r)\n",
    "    return rsr\n",
    "\n",
    "def calc_muol_list(p,t):\n",
    "    muol_r = []\n",
    "    rasc = Fluid(t_c=t)\n",
    "    muod_r = rasc.mu_odr\n",
    "    rs = calc_rs_list(p,t)\n",
    "    for i in rs:\n",
    "        rasc = Fluid(rs_m3m3=i, t_c=t, mu_od=muod_r)\n",
    "        muol_r.append(rasc.mu_olr)\n",
    "    return muol_r\n",
    "\n",
    "def calc_co_list(p,t):\n",
    "    co = []\n",
    "    rs = calc_rs_list(p,t)\n",
    "    for pr, rr in zip(p,rs):\n",
    "        rasc = Fluid(rs_m3m3=rr, p_atm=pr, t_c=t, t_sp_c=t)\n",
    "        co.append(rasc.co_r)\n",
    "    return co\n",
    "\n",
    "if __name__ == '__main__':\n",
    "    rasc = Fluid(t_c=70)\n",
    "    pb = rasc.pb_r\n",
    "    pb = m.ceil(pb)\n",
    "    p_list = [i for i in range(1, pb, 1)]\n",
    "\n",
    "    rs_30 = calc_rs_list(p=p_list, t = 30)\n",
    "    rs_50 = calc_rs_list(p=p_list, t = 50)\n",
    "    rs_70 = calc_rs_list(p=p_list, t = 70)\n",
    "    rs_90 = calc_rs_list(p=p_list, t = 90)\n",
    "\n",
    "    mu_ol_30 = calc_muol_list(p_list, t=30)\n",
    "    mu_ol_50 = calc_muol_list(p_list, t=50)\n",
    "    mu_ol_70 = calc_muol_list(p_list, t=70)\n",
    "    mu_ol_90 = calc_muol_list(p_list, t=90)\n",
    "\n",
    "    co_30 = calc_co_list(p_list, t=30)\n",
    "    co_50 = calc_co_list(p_list, t=50)\n",
    "    co_70 = calc_co_list(p_list, t=70)\n",
    "    co_90 = calc_co_list(p_list, t=90)\n",
    "\n",
    "\n",
    "\n",
    "print(co_70[0])\n",
    "print(co_90[0])\n",
    "\n",
    "    \n"
   ]
  },
  {
   "cell_type": "markdown",
   "id": "af4b6324",
   "metadata": {},
   "source": [
    "**Построим графики зависимости газосодержания,вязкости насыщенной нефти и сжимаемости от давления.**\n",
    "\n",
    "Графики будем строить до давления насыщения."
   ]
  },
  {
   "cell_type": "markdown",
   "id": "ed63d61c",
   "metadata": {},
   "source": [
    "**Газонасыщенность с увеличением давления до давления насыщения растет, так как на газ и нефть действует все большее давление, способствующее растворению газа в нефти, а нефть до давления насыщения еще может растворить в себе газ. Газонасыщенность при увеличении температуры падает.**"
   ]
  },
  {
   "cell_type": "code",
   "execution_count": 18,
   "id": "421afd1b",
   "metadata": {
    "scrolled": false
   },
   "outputs": [
    {
     "name": "stdout",
     "output_type": "stream",
     "text": [
      "Давление насыщения = 112 атм.\n"
     ]
    },
    {
     "data": {
      "application/vnd.plotly.v1+json": {
       "config": {
        "plotlyServerURL": "https://plot.ly"
       },
       "data": [
        {
         "hoverinfo": "x+y",
         "name": "$$R_s(T=70^0 C)$$",
         "type": "scatter",
         "x": [
          1,
          2,
          3,
          4,
          5,
          6,
          7,
          8,
          9,
          10,
          11,
          12,
          13,
          14,
          15,
          16,
          17,
          18,
          19,
          20,
          21,
          22,
          23,
          24,
          25,
          26,
          27,
          28,
          29,
          30,
          31,
          32,
          33,
          34,
          35,
          36,
          37,
          38,
          39,
          40,
          41,
          42,
          43,
          44,
          45,
          46,
          47,
          48,
          49,
          50,
          51,
          52,
          53,
          54,
          55,
          56,
          57,
          58,
          59,
          60,
          61,
          62,
          63,
          64,
          65,
          66,
          67,
          68,
          69,
          70,
          71,
          72,
          73,
          74,
          75,
          76,
          77,
          78,
          79,
          80,
          81,
          82,
          83,
          84,
          85,
          86,
          87,
          88,
          89,
          90,
          91,
          92,
          93,
          94,
          95,
          96,
          97,
          98,
          99,
          100,
          101,
          102,
          103,
          104,
          105,
          106,
          107,
          108,
          109,
          110,
          111
         ],
         "y": [
          0.014515908444825632,
          0.0334808200062357,
          0.05458952522159504,
          0.07722322805704485,
          0.1010630392532633,
          0.125910278031658,
          0.15162783262290844,
          0.17811472211372623,
          0.2052931289313431,
          0.23310104492480407,
          0.2614877696822368,
          0.29041099093014244,
          0.3198348031795256,
          0.34972831299393137,
          0.3800646271128599,
          0.41082009949408943,
          0.4419737587932417,
          0.4735068648574548,
          0.5054025595378251,
          0.5376455878085126,
          0.5702220721993178,
          0.6031193282762645,
          0.6363257121602146,
          0.6698304933598971,
          0.7036237478300883,
          0.7376962673528457,
          0.7720394822145996,
          0.806645394805322,
          0.8415065222599146,
          0.8766158466395317,
          0.9119667714421617,
          0.9475530834591643,
          0.9833689191733235,
          1.0194087350358534,
          1.0556672810731762,
          1.0921395773655869,
          1.1288208930139048,
          1.1657067272705586,
          1.202792792561067,
          1.240074999162743,
          1.2775494413413295,
          1.3152123847745467,
          1.353060255115186,
          1.391089627566327,
          1.429297217358055,
          1.4676798710293748,
          1.5062345584311552,
          1.5449583653763646,
          1.583848486872769,
          1.6229022208809576,
          1.6621169625471999,
          1.7014901988663818,
          1.7410195037352847,
          1.7807025333607989,
          1.8205370219915038,
          1.8605207779443487,
          1.9006516799011268,
          1.9409276734519942,
          1.9813467678655707,
          2.0219070330671705,
          2.062606596808511,
          2.1034436420138007,
          2.144416404288554,
          2.1855231695787265,
          2.226762271968878,
          2.268132091609102,
          2.309631052761346,
          2.3512576219565577,
          2.393010306254844,
          2.434887651601457,
          2.4768882412720483,
          2.5190106944011372,
          2.5612536645882575,
          2.603615838576666,
          2.6460959349999005,
          2.6886927031918524,
          2.731404922056333,
          2.7742313989924328,
          2.817170968872222,
          2.8602224930676337,
          2.9033848585235624,
          2.946656976874439,
          2.9900377836017484,
          3.0335262372301055,
          3.077121318559698,
          3.1208220299330414,
          3.164627394534117,
          3.2085364557181273,
          3.252548276370177,
          3.296661938291346,
          3.340876541610655,
          3.385191204221596,
          3.4296050612419315,
          3.474117264495545,
          3.518726982015249,
          3.5634333975654635,
          3.608235710183779,
          3.653133133740493,
          3.698124896515192,
          3.743210240789599,
          3.7883884224558817,
          3.8336587106396887,
          3.8790203873372295,
          3.924472747065734,
          3.970015096526674,
          4.0156467542811844,
          4.061367050437089,
          4.107175326347066,
          4.153070934317397,
          4.199053237326896,
          4.245121608755517
         ]
        },
        {
         "hoverinfo": "x+y",
         "name": "$$R_s(T=90^0 C)$$",
         "type": "scatter",
         "x": [
          1,
          2,
          3,
          4,
          5,
          6,
          7,
          8,
          9,
          10,
          11,
          12,
          13,
          14,
          15,
          16,
          17,
          18,
          19,
          20,
          21,
          22,
          23,
          24,
          25,
          26,
          27,
          28,
          29,
          30,
          31,
          32,
          33,
          34,
          35,
          36,
          37,
          38,
          39,
          40,
          41,
          42,
          43,
          44,
          45,
          46,
          47,
          48,
          49,
          50,
          51,
          52,
          53,
          54,
          55,
          56,
          57,
          58,
          59,
          60,
          61,
          62,
          63,
          64,
          65,
          66,
          67,
          68,
          69,
          70,
          71,
          72,
          73,
          74,
          75,
          76,
          77,
          78,
          79,
          80,
          81,
          82,
          83,
          84,
          85,
          86,
          87,
          88,
          89,
          90,
          91,
          92,
          93,
          94,
          95,
          96,
          97,
          98,
          99,
          100,
          101,
          102,
          103,
          104,
          105,
          106,
          107,
          108,
          109,
          110,
          111
         ],
         "y": [
          0.013716867613000366,
          0.03163783908846126,
          0.05158459722774577,
          0.07297240816399651,
          0.09549993617510202,
          0.11897943703908968,
          0.14328134642348228,
          0.16831024199737432,
          0.19399258972411323,
          0.22026979474545705,
          0.24709394749789348,
          0.2744250648238961,
          0.302229217683405,
          0.3304772131961003,
          0.3591436384644455,
          0.3882061490632221,
          0.4176449280339807,
          0.4474422667919068,
          0.47758223515959625,
          0.5080504178374018,
          0.5388337012525664,
          0.5699200991968371,
          0.6012986087385515,
          0.6329590900556825,
          0.6648921653807256,
          0.6970891333701202,
          0.7295418960376493,
          0.7622428960086989,
          0.7951850623190019,
          0.828361763338273,
          0.8617667656747032,
          0.8953941981311367,
          0.9292385199527736,
          0.9632944927403017,
          0.9975571555095151,
          1.032021802464729,
          1.066683963123231,
          1.1015393844850232,
          1.1365840149888982,
          1.1718139900345188,
          1.2072256188821737,
          1.2428153727686082,
          1.2785798740996712,
          1.3145158865993731,
          1.3506203063108226,
          1.3868901533580331,
          1.4233225643890732,
          1.4599147856308767,
          1.4966641664944516,
          1.5335681536765011,
          1.5706242857097394,
          1.6078301879196086,
          1.645183567749856,
          1.682682210423507,
          1.7203239749094028,
          1.7581067901675957,
          1.796028651649689,
          1.8340876180326182,
          1.8722818081665484,
          1.9106093982194365,
          1.9490686190025384,
          1.9876577534625823,
          2.0263751343277163,
          2.065219141895494,
          2.1041882019522427,
          2.143280783814106,
          2.182495398480905,
          2.221830596894729,
          2.261284968295862,
          2.300857138669267,
          2.340545769275422,
          2.3803495552597904,
          2.4202672243356935,
          2.4602975355357484,
          2.5004392780274287,
          2.540691269988631,
          2.5810523575394706,
          2.6215214137267946,
          2.662097337558155,
          2.7027790530822595,
          2.743565508513091,
          2.784455675395112,
          2.8254485478071567,
          2.86654314160276,
          2.9077384936848523,
          2.9490336613128743,
          2.9904277214404957,
          3.0319197700822667,
          3.0735089217075986,
          3.1151943086606293,
          3.1569750806045644,
          3.198850403989215,
          3.240819461540541,
          3.28288145177102,
          3.325035588509823,
          3.367281100451768,
          3.409617230724122,
          3.4520432364703746,
          3.4945583884501352,
          3.5371619706543918,
          3.5798532799353744,
          3.622631625650348,
          3.665496329318666,
          3.708446724291474,
          3.751482155433463,
          3.7946019788161647,
          3.8378055614222033,
          3.881092280860071,
          3.924461525088917,
          3.967912692152938,
          4.011445189924938
         ]
        }
       ],
       "layout": {
        "legend": {
         "orientation": "h",
         "x": 0.5,
         "xanchor": "center"
        },
        "margin": {
         "b": 0,
         "l": 0,
         "r": 0,
         "t": 30
        },
        "template": {
         "data": {
          "bar": [
           {
            "error_x": {
             "color": "#2a3f5f"
            },
            "error_y": {
             "color": "#2a3f5f"
            },
            "marker": {
             "line": {
              "color": "#E5ECF6",
              "width": 0.5
             },
             "pattern": {
              "fillmode": "overlay",
              "size": 10,
              "solidity": 0.2
             }
            },
            "type": "bar"
           }
          ],
          "barpolar": [
           {
            "marker": {
             "line": {
              "color": "#E5ECF6",
              "width": 0.5
             },
             "pattern": {
              "fillmode": "overlay",
              "size": 10,
              "solidity": 0.2
             }
            },
            "type": "barpolar"
           }
          ],
          "carpet": [
           {
            "aaxis": {
             "endlinecolor": "#2a3f5f",
             "gridcolor": "white",
             "linecolor": "white",
             "minorgridcolor": "white",
             "startlinecolor": "#2a3f5f"
            },
            "baxis": {
             "endlinecolor": "#2a3f5f",
             "gridcolor": "white",
             "linecolor": "white",
             "minorgridcolor": "white",
             "startlinecolor": "#2a3f5f"
            },
            "type": "carpet"
           }
          ],
          "choropleth": [
           {
            "colorbar": {
             "outlinewidth": 0,
             "ticks": ""
            },
            "type": "choropleth"
           }
          ],
          "contour": [
           {
            "colorbar": {
             "outlinewidth": 0,
             "ticks": ""
            },
            "colorscale": [
             [
              0,
              "#0d0887"
             ],
             [
              0.1111111111111111,
              "#46039f"
             ],
             [
              0.2222222222222222,
              "#7201a8"
             ],
             [
              0.3333333333333333,
              "#9c179e"
             ],
             [
              0.4444444444444444,
              "#bd3786"
             ],
             [
              0.5555555555555556,
              "#d8576b"
             ],
             [
              0.6666666666666666,
              "#ed7953"
             ],
             [
              0.7777777777777778,
              "#fb9f3a"
             ],
             [
              0.8888888888888888,
              "#fdca26"
             ],
             [
              1,
              "#f0f921"
             ]
            ],
            "type": "contour"
           }
          ],
          "contourcarpet": [
           {
            "colorbar": {
             "outlinewidth": 0,
             "ticks": ""
            },
            "type": "contourcarpet"
           }
          ],
          "heatmap": [
           {
            "colorbar": {
             "outlinewidth": 0,
             "ticks": ""
            },
            "colorscale": [
             [
              0,
              "#0d0887"
             ],
             [
              0.1111111111111111,
              "#46039f"
             ],
             [
              0.2222222222222222,
              "#7201a8"
             ],
             [
              0.3333333333333333,
              "#9c179e"
             ],
             [
              0.4444444444444444,
              "#bd3786"
             ],
             [
              0.5555555555555556,
              "#d8576b"
             ],
             [
              0.6666666666666666,
              "#ed7953"
             ],
             [
              0.7777777777777778,
              "#fb9f3a"
             ],
             [
              0.8888888888888888,
              "#fdca26"
             ],
             [
              1,
              "#f0f921"
             ]
            ],
            "type": "heatmap"
           }
          ],
          "heatmapgl": [
           {
            "colorbar": {
             "outlinewidth": 0,
             "ticks": ""
            },
            "colorscale": [
             [
              0,
              "#0d0887"
             ],
             [
              0.1111111111111111,
              "#46039f"
             ],
             [
              0.2222222222222222,
              "#7201a8"
             ],
             [
              0.3333333333333333,
              "#9c179e"
             ],
             [
              0.4444444444444444,
              "#bd3786"
             ],
             [
              0.5555555555555556,
              "#d8576b"
             ],
             [
              0.6666666666666666,
              "#ed7953"
             ],
             [
              0.7777777777777778,
              "#fb9f3a"
             ],
             [
              0.8888888888888888,
              "#fdca26"
             ],
             [
              1,
              "#f0f921"
             ]
            ],
            "type": "heatmapgl"
           }
          ],
          "histogram": [
           {
            "marker": {
             "pattern": {
              "fillmode": "overlay",
              "size": 10,
              "solidity": 0.2
             }
            },
            "type": "histogram"
           }
          ],
          "histogram2d": [
           {
            "colorbar": {
             "outlinewidth": 0,
             "ticks": ""
            },
            "colorscale": [
             [
              0,
              "#0d0887"
             ],
             [
              0.1111111111111111,
              "#46039f"
             ],
             [
              0.2222222222222222,
              "#7201a8"
             ],
             [
              0.3333333333333333,
              "#9c179e"
             ],
             [
              0.4444444444444444,
              "#bd3786"
             ],
             [
              0.5555555555555556,
              "#d8576b"
             ],
             [
              0.6666666666666666,
              "#ed7953"
             ],
             [
              0.7777777777777778,
              "#fb9f3a"
             ],
             [
              0.8888888888888888,
              "#fdca26"
             ],
             [
              1,
              "#f0f921"
             ]
            ],
            "type": "histogram2d"
           }
          ],
          "histogram2dcontour": [
           {
            "colorbar": {
             "outlinewidth": 0,
             "ticks": ""
            },
            "colorscale": [
             [
              0,
              "#0d0887"
             ],
             [
              0.1111111111111111,
              "#46039f"
             ],
             [
              0.2222222222222222,
              "#7201a8"
             ],
             [
              0.3333333333333333,
              "#9c179e"
             ],
             [
              0.4444444444444444,
              "#bd3786"
             ],
             [
              0.5555555555555556,
              "#d8576b"
             ],
             [
              0.6666666666666666,
              "#ed7953"
             ],
             [
              0.7777777777777778,
              "#fb9f3a"
             ],
             [
              0.8888888888888888,
              "#fdca26"
             ],
             [
              1,
              "#f0f921"
             ]
            ],
            "type": "histogram2dcontour"
           }
          ],
          "mesh3d": [
           {
            "colorbar": {
             "outlinewidth": 0,
             "ticks": ""
            },
            "type": "mesh3d"
           }
          ],
          "parcoords": [
           {
            "line": {
             "colorbar": {
              "outlinewidth": 0,
              "ticks": ""
             }
            },
            "type": "parcoords"
           }
          ],
          "pie": [
           {
            "automargin": true,
            "type": "pie"
           }
          ],
          "scatter": [
           {
            "marker": {
             "colorbar": {
              "outlinewidth": 0,
              "ticks": ""
             }
            },
            "type": "scatter"
           }
          ],
          "scatter3d": [
           {
            "line": {
             "colorbar": {
              "outlinewidth": 0,
              "ticks": ""
             }
            },
            "marker": {
             "colorbar": {
              "outlinewidth": 0,
              "ticks": ""
             }
            },
            "type": "scatter3d"
           }
          ],
          "scattercarpet": [
           {
            "marker": {
             "colorbar": {
              "outlinewidth": 0,
              "ticks": ""
             }
            },
            "type": "scattercarpet"
           }
          ],
          "scattergeo": [
           {
            "marker": {
             "colorbar": {
              "outlinewidth": 0,
              "ticks": ""
             }
            },
            "type": "scattergeo"
           }
          ],
          "scattergl": [
           {
            "marker": {
             "colorbar": {
              "outlinewidth": 0,
              "ticks": ""
             }
            },
            "type": "scattergl"
           }
          ],
          "scattermapbox": [
           {
            "marker": {
             "colorbar": {
              "outlinewidth": 0,
              "ticks": ""
             }
            },
            "type": "scattermapbox"
           }
          ],
          "scatterpolar": [
           {
            "marker": {
             "colorbar": {
              "outlinewidth": 0,
              "ticks": ""
             }
            },
            "type": "scatterpolar"
           }
          ],
          "scatterpolargl": [
           {
            "marker": {
             "colorbar": {
              "outlinewidth": 0,
              "ticks": ""
             }
            },
            "type": "scatterpolargl"
           }
          ],
          "scatterternary": [
           {
            "marker": {
             "colorbar": {
              "outlinewidth": 0,
              "ticks": ""
             }
            },
            "type": "scatterternary"
           }
          ],
          "surface": [
           {
            "colorbar": {
             "outlinewidth": 0,
             "ticks": ""
            },
            "colorscale": [
             [
              0,
              "#0d0887"
             ],
             [
              0.1111111111111111,
              "#46039f"
             ],
             [
              0.2222222222222222,
              "#7201a8"
             ],
             [
              0.3333333333333333,
              "#9c179e"
             ],
             [
              0.4444444444444444,
              "#bd3786"
             ],
             [
              0.5555555555555556,
              "#d8576b"
             ],
             [
              0.6666666666666666,
              "#ed7953"
             ],
             [
              0.7777777777777778,
              "#fb9f3a"
             ],
             [
              0.8888888888888888,
              "#fdca26"
             ],
             [
              1,
              "#f0f921"
             ]
            ],
            "type": "surface"
           }
          ],
          "table": [
           {
            "cells": {
             "fill": {
              "color": "#EBF0F8"
             },
             "line": {
              "color": "white"
             }
            },
            "header": {
             "fill": {
              "color": "#C8D4E3"
             },
             "line": {
              "color": "white"
             }
            },
            "type": "table"
           }
          ]
         },
         "layout": {
          "annotationdefaults": {
           "arrowcolor": "#2a3f5f",
           "arrowhead": 0,
           "arrowwidth": 1
          },
          "autotypenumbers": "strict",
          "coloraxis": {
           "colorbar": {
            "outlinewidth": 0,
            "ticks": ""
           }
          },
          "colorscale": {
           "diverging": [
            [
             0,
             "#8e0152"
            ],
            [
             0.1,
             "#c51b7d"
            ],
            [
             0.2,
             "#de77ae"
            ],
            [
             0.3,
             "#f1b6da"
            ],
            [
             0.4,
             "#fde0ef"
            ],
            [
             0.5,
             "#f7f7f7"
            ],
            [
             0.6,
             "#e6f5d0"
            ],
            [
             0.7,
             "#b8e186"
            ],
            [
             0.8,
             "#7fbc41"
            ],
            [
             0.9,
             "#4d9221"
            ],
            [
             1,
             "#276419"
            ]
           ],
           "sequential": [
            [
             0,
             "#0d0887"
            ],
            [
             0.1111111111111111,
             "#46039f"
            ],
            [
             0.2222222222222222,
             "#7201a8"
            ],
            [
             0.3333333333333333,
             "#9c179e"
            ],
            [
             0.4444444444444444,
             "#bd3786"
            ],
            [
             0.5555555555555556,
             "#d8576b"
            ],
            [
             0.6666666666666666,
             "#ed7953"
            ],
            [
             0.7777777777777778,
             "#fb9f3a"
            ],
            [
             0.8888888888888888,
             "#fdca26"
            ],
            [
             1,
             "#f0f921"
            ]
           ],
           "sequentialminus": [
            [
             0,
             "#0d0887"
            ],
            [
             0.1111111111111111,
             "#46039f"
            ],
            [
             0.2222222222222222,
             "#7201a8"
            ],
            [
             0.3333333333333333,
             "#9c179e"
            ],
            [
             0.4444444444444444,
             "#bd3786"
            ],
            [
             0.5555555555555556,
             "#d8576b"
            ],
            [
             0.6666666666666666,
             "#ed7953"
            ],
            [
             0.7777777777777778,
             "#fb9f3a"
            ],
            [
             0.8888888888888888,
             "#fdca26"
            ],
            [
             1,
             "#f0f921"
            ]
           ]
          },
          "colorway": [
           "#636efa",
           "#EF553B",
           "#00cc96",
           "#ab63fa",
           "#FFA15A",
           "#19d3f3",
           "#FF6692",
           "#B6E880",
           "#FF97FF",
           "#FECB52"
          ],
          "font": {
           "color": "#2a3f5f"
          },
          "geo": {
           "bgcolor": "white",
           "lakecolor": "white",
           "landcolor": "#E5ECF6",
           "showlakes": true,
           "showland": true,
           "subunitcolor": "white"
          },
          "hoverlabel": {
           "align": "left"
          },
          "hovermode": "closest",
          "mapbox": {
           "style": "light"
          },
          "paper_bgcolor": "white",
          "plot_bgcolor": "#E5ECF6",
          "polar": {
           "angularaxis": {
            "gridcolor": "white",
            "linecolor": "white",
            "ticks": ""
           },
           "bgcolor": "#E5ECF6",
           "radialaxis": {
            "gridcolor": "white",
            "linecolor": "white",
            "ticks": ""
           }
          },
          "scene": {
           "xaxis": {
            "backgroundcolor": "#E5ECF6",
            "gridcolor": "white",
            "gridwidth": 2,
            "linecolor": "white",
            "showbackground": true,
            "ticks": "",
            "zerolinecolor": "white"
           },
           "yaxis": {
            "backgroundcolor": "#E5ECF6",
            "gridcolor": "white",
            "gridwidth": 2,
            "linecolor": "white",
            "showbackground": true,
            "ticks": "",
            "zerolinecolor": "white"
           },
           "zaxis": {
            "backgroundcolor": "#E5ECF6",
            "gridcolor": "white",
            "gridwidth": 2,
            "linecolor": "white",
            "showbackground": true,
            "ticks": "",
            "zerolinecolor": "white"
           }
          },
          "shapedefaults": {
           "line": {
            "color": "#2a3f5f"
           }
          },
          "ternary": {
           "aaxis": {
            "gridcolor": "white",
            "linecolor": "white",
            "ticks": ""
           },
           "baxis": {
            "gridcolor": "white",
            "linecolor": "white",
            "ticks": ""
           },
           "bgcolor": "#E5ECF6",
           "caxis": {
            "gridcolor": "white",
            "linecolor": "white",
            "ticks": ""
           }
          },
          "title": {
           "x": 0.05
          },
          "xaxis": {
           "automargin": true,
           "gridcolor": "white",
           "linecolor": "white",
           "ticks": "",
           "title": {
            "standoff": 15
           },
           "zerolinecolor": "white",
           "zerolinewidth": 2
          },
          "yaxis": {
           "automargin": true,
           "gridcolor": "white",
           "linecolor": "white",
           "ticks": "",
           "title": {
            "standoff": 15
           },
           "zerolinecolor": "white",
           "zerolinewidth": 2
          }
         }
        },
        "title": {
         "text": "Зависимость газосодержания от давления"
        },
        "xaxis": {
         "title": {
          "text": "Давление, атм"
         }
        },
        "yaxis": {
         "title": {
          "text": "Газосодержание, м3/м3"
         }
        }
       }
      },
      "text/html": [
       "<div>                            <div id=\"33c1e7b1-f44c-4ee9-90cc-cd8add43e7c3\" class=\"plotly-graph-div\" style=\"height:525px; width:100%;\"></div>            <script type=\"text/javascript\">                require([\"plotly\"], function(Plotly) {                    window.PLOTLYENV=window.PLOTLYENV || {};                                    if (document.getElementById(\"33c1e7b1-f44c-4ee9-90cc-cd8add43e7c3\")) {                    Plotly.newPlot(                        \"33c1e7b1-f44c-4ee9-90cc-cd8add43e7c3\",                        [{\"hoverinfo\":\"x+y\",\"name\":\"$$R_s(T=70^0 C)$$\",\"type\":\"scatter\",\"x\":[1,2,3,4,5,6,7,8,9,10,11,12,13,14,15,16,17,18,19,20,21,22,23,24,25,26,27,28,29,30,31,32,33,34,35,36,37,38,39,40,41,42,43,44,45,46,47,48,49,50,51,52,53,54,55,56,57,58,59,60,61,62,63,64,65,66,67,68,69,70,71,72,73,74,75,76,77,78,79,80,81,82,83,84,85,86,87,88,89,90,91,92,93,94,95,96,97,98,99,100,101,102,103,104,105,106,107,108,109,110,111],\"y\":[0.014515908444825632,0.0334808200062357,0.05458952522159504,0.07722322805704485,0.1010630392532633,0.125910278031658,0.15162783262290844,0.17811472211372623,0.2052931289313431,0.23310104492480407,0.2614877696822368,0.29041099093014244,0.3198348031795256,0.34972831299393137,0.3800646271128599,0.41082009949408943,0.4419737587932417,0.4735068648574548,0.5054025595378251,0.5376455878085126,0.5702220721993178,0.6031193282762645,0.6363257121602146,0.6698304933598971,0.7036237478300883,0.7376962673528457,0.7720394822145996,0.806645394805322,0.8415065222599146,0.8766158466395317,0.9119667714421617,0.9475530834591643,0.9833689191733235,1.0194087350358534,1.0556672810731762,1.0921395773655869,1.1288208930139048,1.1657067272705586,1.202792792561067,1.240074999162743,1.2775494413413295,1.3152123847745467,1.353060255115186,1.391089627566327,1.429297217358055,1.4676798710293748,1.5062345584311552,1.5449583653763646,1.583848486872769,1.6229022208809576,1.6621169625471999,1.7014901988663818,1.7410195037352847,1.7807025333607989,1.8205370219915038,1.8605207779443487,1.9006516799011268,1.9409276734519942,1.9813467678655707,2.0219070330671705,2.062606596808511,2.1034436420138007,2.144416404288554,2.1855231695787265,2.226762271968878,2.268132091609102,2.309631052761346,2.3512576219565577,2.393010306254844,2.434887651601457,2.4768882412720483,2.5190106944011372,2.5612536645882575,2.603615838576666,2.6460959349999005,2.6886927031918524,2.731404922056333,2.7742313989924328,2.817170968872222,2.8602224930676337,2.9033848585235624,2.946656976874439,2.9900377836017484,3.0335262372301055,3.077121318559698,3.1208220299330414,3.164627394534117,3.2085364557181273,3.252548276370177,3.296661938291346,3.340876541610655,3.385191204221596,3.4296050612419315,3.474117264495545,3.518726982015249,3.5634333975654635,3.608235710183779,3.653133133740493,3.698124896515192,3.743210240789599,3.7883884224558817,3.8336587106396887,3.8790203873372295,3.924472747065734,3.970015096526674,4.0156467542811844,4.061367050437089,4.107175326347066,4.153070934317397,4.199053237326896,4.245121608755517]},{\"hoverinfo\":\"x+y\",\"name\":\"$$R_s(T=90^0 C)$$\",\"type\":\"scatter\",\"x\":[1,2,3,4,5,6,7,8,9,10,11,12,13,14,15,16,17,18,19,20,21,22,23,24,25,26,27,28,29,30,31,32,33,34,35,36,37,38,39,40,41,42,43,44,45,46,47,48,49,50,51,52,53,54,55,56,57,58,59,60,61,62,63,64,65,66,67,68,69,70,71,72,73,74,75,76,77,78,79,80,81,82,83,84,85,86,87,88,89,90,91,92,93,94,95,96,97,98,99,100,101,102,103,104,105,106,107,108,109,110,111],\"y\":[0.013716867613000366,0.03163783908846126,0.05158459722774577,0.07297240816399651,0.09549993617510202,0.11897943703908968,0.14328134642348228,0.16831024199737432,0.19399258972411323,0.22026979474545705,0.24709394749789348,0.2744250648238961,0.302229217683405,0.3304772131961003,0.3591436384644455,0.3882061490632221,0.4176449280339807,0.4474422667919068,0.47758223515959625,0.5080504178374018,0.5388337012525664,0.5699200991968371,0.6012986087385515,0.6329590900556825,0.6648921653807256,0.6970891333701202,0.7295418960376493,0.7622428960086989,0.7951850623190019,0.828361763338273,0.8617667656747032,0.8953941981311367,0.9292385199527736,0.9632944927403017,0.9975571555095151,1.032021802464729,1.066683963123231,1.1015393844850232,1.1365840149888982,1.1718139900345188,1.2072256188821737,1.2428153727686082,1.2785798740996712,1.3145158865993731,1.3506203063108226,1.3868901533580331,1.4233225643890732,1.4599147856308767,1.4966641664944516,1.5335681536765011,1.5706242857097394,1.6078301879196086,1.645183567749856,1.682682210423507,1.7203239749094028,1.7581067901675957,1.796028651649689,1.8340876180326182,1.8722818081665484,1.9106093982194365,1.9490686190025384,1.9876577534625823,2.0263751343277163,2.065219141895494,2.1041882019522427,2.143280783814106,2.182495398480905,2.221830596894729,2.261284968295862,2.300857138669267,2.340545769275422,2.3803495552597904,2.4202672243356935,2.4602975355357484,2.5004392780274287,2.540691269988631,2.5810523575394706,2.6215214137267946,2.662097337558155,2.7027790530822595,2.743565508513091,2.784455675395112,2.8254485478071567,2.86654314160276,2.9077384936848523,2.9490336613128743,2.9904277214404957,3.0319197700822667,3.0735089217075986,3.1151943086606293,3.1569750806045644,3.198850403989215,3.240819461540541,3.28288145177102,3.325035588509823,3.367281100451768,3.409617230724122,3.4520432364703746,3.4945583884501352,3.5371619706543918,3.5798532799353744,3.622631625650348,3.665496329318666,3.708446724291474,3.751482155433463,3.7946019788161647,3.8378055614222033,3.881092280860071,3.924461525088917,3.967912692152938,4.011445189924938]}],                        {\"legend\":{\"orientation\":\"h\",\"x\":0.5,\"xanchor\":\"center\"},\"margin\":{\"b\":0,\"l\":0,\"r\":0,\"t\":30},\"template\":{\"data\":{\"bar\":[{\"error_x\":{\"color\":\"#2a3f5f\"},\"error_y\":{\"color\":\"#2a3f5f\"},\"marker\":{\"line\":{\"color\":\"#E5ECF6\",\"width\":0.5},\"pattern\":{\"fillmode\":\"overlay\",\"size\":10,\"solidity\":0.2}},\"type\":\"bar\"}],\"barpolar\":[{\"marker\":{\"line\":{\"color\":\"#E5ECF6\",\"width\":0.5},\"pattern\":{\"fillmode\":\"overlay\",\"size\":10,\"solidity\":0.2}},\"type\":\"barpolar\"}],\"carpet\":[{\"aaxis\":{\"endlinecolor\":\"#2a3f5f\",\"gridcolor\":\"white\",\"linecolor\":\"white\",\"minorgridcolor\":\"white\",\"startlinecolor\":\"#2a3f5f\"},\"baxis\":{\"endlinecolor\":\"#2a3f5f\",\"gridcolor\":\"white\",\"linecolor\":\"white\",\"minorgridcolor\":\"white\",\"startlinecolor\":\"#2a3f5f\"},\"type\":\"carpet\"}],\"choropleth\":[{\"colorbar\":{\"outlinewidth\":0,\"ticks\":\"\"},\"type\":\"choropleth\"}],\"contour\":[{\"colorbar\":{\"outlinewidth\":0,\"ticks\":\"\"},\"colorscale\":[[0.0,\"#0d0887\"],[0.1111111111111111,\"#46039f\"],[0.2222222222222222,\"#7201a8\"],[0.3333333333333333,\"#9c179e\"],[0.4444444444444444,\"#bd3786\"],[0.5555555555555556,\"#d8576b\"],[0.6666666666666666,\"#ed7953\"],[0.7777777777777778,\"#fb9f3a\"],[0.8888888888888888,\"#fdca26\"],[1.0,\"#f0f921\"]],\"type\":\"contour\"}],\"contourcarpet\":[{\"colorbar\":{\"outlinewidth\":0,\"ticks\":\"\"},\"type\":\"contourcarpet\"}],\"heatmap\":[{\"colorbar\":{\"outlinewidth\":0,\"ticks\":\"\"},\"colorscale\":[[0.0,\"#0d0887\"],[0.1111111111111111,\"#46039f\"],[0.2222222222222222,\"#7201a8\"],[0.3333333333333333,\"#9c179e\"],[0.4444444444444444,\"#bd3786\"],[0.5555555555555556,\"#d8576b\"],[0.6666666666666666,\"#ed7953\"],[0.7777777777777778,\"#fb9f3a\"],[0.8888888888888888,\"#fdca26\"],[1.0,\"#f0f921\"]],\"type\":\"heatmap\"}],\"heatmapgl\":[{\"colorbar\":{\"outlinewidth\":0,\"ticks\":\"\"},\"colorscale\":[[0.0,\"#0d0887\"],[0.1111111111111111,\"#46039f\"],[0.2222222222222222,\"#7201a8\"],[0.3333333333333333,\"#9c179e\"],[0.4444444444444444,\"#bd3786\"],[0.5555555555555556,\"#d8576b\"],[0.6666666666666666,\"#ed7953\"],[0.7777777777777778,\"#fb9f3a\"],[0.8888888888888888,\"#fdca26\"],[1.0,\"#f0f921\"]],\"type\":\"heatmapgl\"}],\"histogram\":[{\"marker\":{\"pattern\":{\"fillmode\":\"overlay\",\"size\":10,\"solidity\":0.2}},\"type\":\"histogram\"}],\"histogram2d\":[{\"colorbar\":{\"outlinewidth\":0,\"ticks\":\"\"},\"colorscale\":[[0.0,\"#0d0887\"],[0.1111111111111111,\"#46039f\"],[0.2222222222222222,\"#7201a8\"],[0.3333333333333333,\"#9c179e\"],[0.4444444444444444,\"#bd3786\"],[0.5555555555555556,\"#d8576b\"],[0.6666666666666666,\"#ed7953\"],[0.7777777777777778,\"#fb9f3a\"],[0.8888888888888888,\"#fdca26\"],[1.0,\"#f0f921\"]],\"type\":\"histogram2d\"}],\"histogram2dcontour\":[{\"colorbar\":{\"outlinewidth\":0,\"ticks\":\"\"},\"colorscale\":[[0.0,\"#0d0887\"],[0.1111111111111111,\"#46039f\"],[0.2222222222222222,\"#7201a8\"],[0.3333333333333333,\"#9c179e\"],[0.4444444444444444,\"#bd3786\"],[0.5555555555555556,\"#d8576b\"],[0.6666666666666666,\"#ed7953\"],[0.7777777777777778,\"#fb9f3a\"],[0.8888888888888888,\"#fdca26\"],[1.0,\"#f0f921\"]],\"type\":\"histogram2dcontour\"}],\"mesh3d\":[{\"colorbar\":{\"outlinewidth\":0,\"ticks\":\"\"},\"type\":\"mesh3d\"}],\"parcoords\":[{\"line\":{\"colorbar\":{\"outlinewidth\":0,\"ticks\":\"\"}},\"type\":\"parcoords\"}],\"pie\":[{\"automargin\":true,\"type\":\"pie\"}],\"scatter\":[{\"marker\":{\"colorbar\":{\"outlinewidth\":0,\"ticks\":\"\"}},\"type\":\"scatter\"}],\"scatter3d\":[{\"line\":{\"colorbar\":{\"outlinewidth\":0,\"ticks\":\"\"}},\"marker\":{\"colorbar\":{\"outlinewidth\":0,\"ticks\":\"\"}},\"type\":\"scatter3d\"}],\"scattercarpet\":[{\"marker\":{\"colorbar\":{\"outlinewidth\":0,\"ticks\":\"\"}},\"type\":\"scattercarpet\"}],\"scattergeo\":[{\"marker\":{\"colorbar\":{\"outlinewidth\":0,\"ticks\":\"\"}},\"type\":\"scattergeo\"}],\"scattergl\":[{\"marker\":{\"colorbar\":{\"outlinewidth\":0,\"ticks\":\"\"}},\"type\":\"scattergl\"}],\"scattermapbox\":[{\"marker\":{\"colorbar\":{\"outlinewidth\":0,\"ticks\":\"\"}},\"type\":\"scattermapbox\"}],\"scatterpolar\":[{\"marker\":{\"colorbar\":{\"outlinewidth\":0,\"ticks\":\"\"}},\"type\":\"scatterpolar\"}],\"scatterpolargl\":[{\"marker\":{\"colorbar\":{\"outlinewidth\":0,\"ticks\":\"\"}},\"type\":\"scatterpolargl\"}],\"scatterternary\":[{\"marker\":{\"colorbar\":{\"outlinewidth\":0,\"ticks\":\"\"}},\"type\":\"scatterternary\"}],\"surface\":[{\"colorbar\":{\"outlinewidth\":0,\"ticks\":\"\"},\"colorscale\":[[0.0,\"#0d0887\"],[0.1111111111111111,\"#46039f\"],[0.2222222222222222,\"#7201a8\"],[0.3333333333333333,\"#9c179e\"],[0.4444444444444444,\"#bd3786\"],[0.5555555555555556,\"#d8576b\"],[0.6666666666666666,\"#ed7953\"],[0.7777777777777778,\"#fb9f3a\"],[0.8888888888888888,\"#fdca26\"],[1.0,\"#f0f921\"]],\"type\":\"surface\"}],\"table\":[{\"cells\":{\"fill\":{\"color\":\"#EBF0F8\"},\"line\":{\"color\":\"white\"}},\"header\":{\"fill\":{\"color\":\"#C8D4E3\"},\"line\":{\"color\":\"white\"}},\"type\":\"table\"}]},\"layout\":{\"annotationdefaults\":{\"arrowcolor\":\"#2a3f5f\",\"arrowhead\":0,\"arrowwidth\":1},\"autotypenumbers\":\"strict\",\"coloraxis\":{\"colorbar\":{\"outlinewidth\":0,\"ticks\":\"\"}},\"colorscale\":{\"diverging\":[[0,\"#8e0152\"],[0.1,\"#c51b7d\"],[0.2,\"#de77ae\"],[0.3,\"#f1b6da\"],[0.4,\"#fde0ef\"],[0.5,\"#f7f7f7\"],[0.6,\"#e6f5d0\"],[0.7,\"#b8e186\"],[0.8,\"#7fbc41\"],[0.9,\"#4d9221\"],[1,\"#276419\"]],\"sequential\":[[0.0,\"#0d0887\"],[0.1111111111111111,\"#46039f\"],[0.2222222222222222,\"#7201a8\"],[0.3333333333333333,\"#9c179e\"],[0.4444444444444444,\"#bd3786\"],[0.5555555555555556,\"#d8576b\"],[0.6666666666666666,\"#ed7953\"],[0.7777777777777778,\"#fb9f3a\"],[0.8888888888888888,\"#fdca26\"],[1.0,\"#f0f921\"]],\"sequentialminus\":[[0.0,\"#0d0887\"],[0.1111111111111111,\"#46039f\"],[0.2222222222222222,\"#7201a8\"],[0.3333333333333333,\"#9c179e\"],[0.4444444444444444,\"#bd3786\"],[0.5555555555555556,\"#d8576b\"],[0.6666666666666666,\"#ed7953\"],[0.7777777777777778,\"#fb9f3a\"],[0.8888888888888888,\"#fdca26\"],[1.0,\"#f0f921\"]]},\"colorway\":[\"#636efa\",\"#EF553B\",\"#00cc96\",\"#ab63fa\",\"#FFA15A\",\"#19d3f3\",\"#FF6692\",\"#B6E880\",\"#FF97FF\",\"#FECB52\"],\"font\":{\"color\":\"#2a3f5f\"},\"geo\":{\"bgcolor\":\"white\",\"lakecolor\":\"white\",\"landcolor\":\"#E5ECF6\",\"showlakes\":true,\"showland\":true,\"subunitcolor\":\"white\"},\"hoverlabel\":{\"align\":\"left\"},\"hovermode\":\"closest\",\"mapbox\":{\"style\":\"light\"},\"paper_bgcolor\":\"white\",\"plot_bgcolor\":\"#E5ECF6\",\"polar\":{\"angularaxis\":{\"gridcolor\":\"white\",\"linecolor\":\"white\",\"ticks\":\"\"},\"bgcolor\":\"#E5ECF6\",\"radialaxis\":{\"gridcolor\":\"white\",\"linecolor\":\"white\",\"ticks\":\"\"}},\"scene\":{\"xaxis\":{\"backgroundcolor\":\"#E5ECF6\",\"gridcolor\":\"white\",\"gridwidth\":2,\"linecolor\":\"white\",\"showbackground\":true,\"ticks\":\"\",\"zerolinecolor\":\"white\"},\"yaxis\":{\"backgroundcolor\":\"#E5ECF6\",\"gridcolor\":\"white\",\"gridwidth\":2,\"linecolor\":\"white\",\"showbackground\":true,\"ticks\":\"\",\"zerolinecolor\":\"white\"},\"zaxis\":{\"backgroundcolor\":\"#E5ECF6\",\"gridcolor\":\"white\",\"gridwidth\":2,\"linecolor\":\"white\",\"showbackground\":true,\"ticks\":\"\",\"zerolinecolor\":\"white\"}},\"shapedefaults\":{\"line\":{\"color\":\"#2a3f5f\"}},\"ternary\":{\"aaxis\":{\"gridcolor\":\"white\",\"linecolor\":\"white\",\"ticks\":\"\"},\"baxis\":{\"gridcolor\":\"white\",\"linecolor\":\"white\",\"ticks\":\"\"},\"bgcolor\":\"#E5ECF6\",\"caxis\":{\"gridcolor\":\"white\",\"linecolor\":\"white\",\"ticks\":\"\"}},\"title\":{\"x\":0.05},\"xaxis\":{\"automargin\":true,\"gridcolor\":\"white\",\"linecolor\":\"white\",\"ticks\":\"\",\"title\":{\"standoff\":15},\"zerolinecolor\":\"white\",\"zerolinewidth\":2},\"yaxis\":{\"automargin\":true,\"gridcolor\":\"white\",\"linecolor\":\"white\",\"ticks\":\"\",\"title\":{\"standoff\":15},\"zerolinecolor\":\"white\",\"zerolinewidth\":2}}},\"title\":{\"text\":\"\\u0417\\u0430\\u0432\\u0438\\u0441\\u0438\\u043c\\u043e\\u0441\\u0442\\u044c \\u0433\\u0430\\u0437\\u043e\\u0441\\u043e\\u0434\\u0435\\u0440\\u0436\\u0430\\u043d\\u0438\\u044f \\u043e\\u0442 \\u0434\\u0430\\u0432\\u043b\\u0435\\u043d\\u0438\\u044f\"},\"xaxis\":{\"title\":{\"text\":\"\\u0414\\u0430\\u0432\\u043b\\u0435\\u043d\\u0438\\u0435, \\u0430\\u0442\\u043c\"}},\"yaxis\":{\"title\":{\"text\":\"\\u0413\\u0430\\u0437\\u043e\\u0441\\u043e\\u0434\\u0435\\u0440\\u0436\\u0430\\u043d\\u0438\\u0435, \\u043c3/\\u043c3\"}}},                        {\"responsive\": true}                    ).then(function(){\n",
       "                            \n",
       "var gd = document.getElementById('33c1e7b1-f44c-4ee9-90cc-cd8add43e7c3');\n",
       "var x = new MutationObserver(function (mutations, observer) {{\n",
       "        var display = window.getComputedStyle(gd).display;\n",
       "        if (!display || display === 'none') {{\n",
       "            console.log([gd, 'removed!']);\n",
       "            Plotly.purge(gd);\n",
       "            observer.disconnect();\n",
       "        }}\n",
       "}});\n",
       "\n",
       "// Listen for the removal of the full notebook cells\n",
       "var notebookContainer = gd.closest('#notebook-container');\n",
       "if (notebookContainer) {{\n",
       "    x.observe(notebookContainer, {childList: true});\n",
       "}}\n",
       "\n",
       "// Listen for the clearing of the current output cell\n",
       "var outputEl = gd.closest('.output');\n",
       "if (outputEl) {{\n",
       "    x.observe(outputEl, {childList: true});\n",
       "}}\n",
       "\n",
       "                        })                };                });            </script>        </div>"
      ]
     },
     "metadata": {},
     "output_type": "display_data"
    }
   ],
   "source": [
    "#визуализация\n",
    "\n",
    "\n",
    "print(\"Давление насыщения = \" + str(pb) + \" атм.\")\n",
    "\n",
    "fig = go.Figure()\n",
    "\n",
    "fig.add_trace(go.Scatter(x=p_list, y=rs_70, name='$$R_s(T=70^0 C)$$'))\n",
    "fig.add_trace(go.Scatter(x=p_list, y=rs_90, name='$$R_s(T=90^0 C)$$'))\n",
    "fig.update_layout(legend_orientation=\"h\",\n",
    "                  legend=dict(x=.5, xanchor=\"center\"),\n",
    "                  title=\"Зависимость газосодержания от давления\",\n",
    "                  xaxis_title=\"Давление, атм\",\n",
    "                  yaxis_title=\"Газосодержание, м3/м3\",\n",
    "                  margin=dict(l=0, r=0, t=30, b=0))\n",
    "fig.update_traces(hoverinfo=\"x+y\")\n",
    "fig.show()\n",
    "\n",
    "\n"
   ]
  },
  {
   "cell_type": "markdown",
   "id": "41c13372",
   "metadata": {},
   "source": [
    "**С повышением давления до давления насыщения вязкость газонасыщенной нефти падает, так как в ней растворяется все больше газа. С повышением температуры вязкость нефти так же уменьшается.**"
   ]
  },
  {
   "cell_type": "code",
   "execution_count": 19,
   "id": "9301cf49",
   "metadata": {
    "scrolled": true
   },
   "outputs": [
    {
     "data": {
      "application/vnd.plotly.v1+json": {
       "config": {
        "plotlyServerURL": "https://plot.ly"
       },
       "data": [
        {
         "hoverinfo": "x+y",
         "name": "$$M_{ol}(T=70^0 C)$$",
         "type": "scatter",
         "x": [
          1,
          2,
          3,
          4,
          5,
          6,
          7,
          8,
          9,
          10,
          11,
          12,
          13,
          14,
          15,
          16,
          17,
          18,
          19,
          20,
          21,
          22,
          23,
          24,
          25,
          26,
          27,
          28,
          29,
          30,
          31,
          32,
          33,
          34,
          35,
          36,
          37,
          38,
          39,
          40,
          41,
          42,
          43,
          44,
          45,
          46,
          47,
          48,
          49,
          50,
          51,
          52,
          53,
          54,
          55,
          56,
          57,
          58,
          59,
          60,
          61,
          62,
          63,
          64,
          65,
          66,
          67,
          68,
          69,
          70,
          71,
          72,
          73,
          74,
          75,
          76,
          77,
          78,
          79,
          80,
          81,
          82,
          83,
          84,
          85,
          86,
          87,
          88,
          89,
          90,
          91,
          92,
          93,
          94,
          95,
          96,
          97,
          98,
          99,
          100,
          101,
          102,
          103,
          104,
          105,
          106,
          107,
          108,
          109,
          110,
          111
         ],
         "y": [
          43.93900639614582,
          43.91905615748651,
          43.896860994783054,
          43.87307434136849,
          43.84803356747649,
          43.82194927600523,
          43.79496709826382,
          43.767194511898566,
          43.73871451724349,
          43.70959339638763,
          43.67988546484651,
          43.64963615460224,
          43.618884107277175,
          43.587662648225546,
          43.556000856461694,
          43.523924361174885,
          43.49145594764597,
          43.45861602684136,
          43.425423005313775,
          43.39189358076522,
          43.35804298122183,
          43.323885160778374,
          43.28943296143468,
          43.25469824813051,
          43.21969202235991,
          43.184424518491866,
          43.148905285999696,
          43.11314326011069,
          43.077146822865885,
          43.04092385618027,
          43.004481788185686,
          42.9678276338979,
          42.93096803105986,
          42.89390927186406,
          42.856657331135565,
          42.819217891461676,
          42.78159636567493,
          42.74379791703349,
          42.70582747738892,
          42.66768976358973,
          42.629389292331496,
          42.59093039363566,
          42.55231722311392,
          42.513553773152736,
          42.47464388313651,
          42.43559124881101,
          42.3963994308773,
          42.3570718628943,
          42.317611858558784,
          42.27802261842403,
          42.23830723611074,
          42.19846870405774,
          42.15850991885521,
          42.118433686197704,
          42.07824272549095,
          42.037939674142606,
          41.99752709156358,
          41.95700746290469,
          41.91638320255033,
          41.8756566573884,
          41.83483010987526,
          41.793905780910855,
          41.7528858325391,
          41.711772370486884,
          41.670567446553406,
          41.629273060861024,
          41.58789116397786,
          41.54642365892072,
          41.50487240304749,
          41.46323920984596,
          41.421525850626786,
          41.37973405612638,
          41.33786551802631,
          41.295921890394155,
          41.2539047910515,
          41.211815802872806,
          41.16965647502063,
          41.127428324119975,
          41.08513283537643,
          41.04277146364107,
          41.0003456344252,
          40.95785674486823,
          40.915306164661025,
          40.87269523692767,
          40.830025279067755,
          40.78729758356144,
          40.744513418739444,
          40.70167402951985,
          40.658780638113356,
          40.61583444469905,
          40.57283662807184,
          40.529788346263295,
          40.48669073713726,
          40.44354491896124,
          40.400351990955336,
          40.357113033819346,
          40.31382911023928,
          40.27050126537452,
          40.227130527326146,
          40.18371790758766,
          40.14026440147903,
          40.09677098856429,
          40.053238633054164,
          40.009668284193985,
          39.96606087663751,
          39.92241733080776,
          39.87873855324484,
          39.83502543694172,
          39.7912788616686,
          39.74749969428586,
          39.70368878904664
         ]
        },
        {
         "hoverinfo": "x+y",
         "name": "$$M_{ol}(T=90^0 C)$$",
         "type": "scatter",
         "x": [
          1,
          2,
          3,
          4,
          5,
          6,
          7,
          8,
          9,
          10,
          11,
          12,
          13,
          14,
          15,
          16,
          17,
          18,
          19,
          20,
          21,
          22,
          23,
          24,
          25,
          26,
          27,
          28,
          29,
          30,
          31,
          32,
          33,
          34,
          35,
          36,
          37,
          38,
          39,
          40,
          41,
          42,
          43,
          44,
          45,
          46,
          47,
          48,
          49,
          50,
          51,
          52,
          53,
          54,
          55,
          56,
          57,
          58,
          59,
          60,
          61,
          62,
          63,
          64,
          65,
          66,
          67,
          68,
          69,
          70,
          71,
          72,
          73,
          74,
          75,
          76,
          77,
          78,
          79,
          80,
          81,
          82,
          83,
          84,
          85,
          86,
          87,
          88,
          89,
          90,
          91,
          92,
          93,
          94,
          95,
          96,
          97,
          98,
          99,
          100,
          101,
          102,
          103,
          104,
          105,
          106,
          107,
          108,
          109,
          110,
          111
         ],
         "y": [
          27.062791066961587,
          27.051005403115465,
          27.037894565868573,
          27.02384481647558,
          27.00905564195966,
          26.993651608503644,
          26.977718878581094,
          26.961321059642238,
          26.94450728704856,
          26.927316810136805,
          26.90978180094702,
          26.891929176758897,
          26.873781837568405,
          26.8553595376372,
          26.836679518136066,
          26.81775697816115,
          26.798605433072847,
          26.779236992239095,
          26.75966257783505,
          26.739892099688543,
          26.719934596781904,
          26.699798353071397,
          26.6794909932535,
          26.659019562679987,
          26.638390594603575,
          26.617610167194222,
          26.59668395221985,
          26.57561725687651,
          26.55441505994516,
          26.533082043215284,
          26.511622618933707,
          26.49004095389481,
          26.468340990676218,
          26.446526466435362,
          26.42460092961126,
          26.402567754818826,
          26.38043015617672,
          26.358191199271708,
          26.335853811931532,
          26.313420793953185,
          26.29089482591125,
          26.2682784771543,
          26.24557421308178,
          26.222784401781418,
          26.199911320097154,
          26.176957159187925,
          26.153924029630183,
          26.13081396611098,
          26.10762893175226,
          26.084370822102194,
          26.061041468825778,
          26.037642643122677,
          26.014176058897394,
          25.990643375704217,
          25.96704620148684,
          25.94338609513048,
          25.9196645688425,
          25.895883090375936,
          25.872043085108928,
          25.848145937991546,
          25.824192995370726,
          25.800185566702822,
          25.776124926162456,
          25.752012314155355,
          25.72784893874259,
          25.70363597698253,
          25.67937457619658,
          25.655065855164015,
          25.630710905250968,
          25.606310791478172,
          25.581866553531405,
          25.557379206718824,
          25.53284974287831,
          25.508279131238538,
          25.483668319236234,
          25.45901823329296,
          25.43432977955347,
          25.409603844588332,
          25.38484129606284,
          25.360042983374314,
          25.33520973825972,
          25.31034237537519,
          25.285441692849233,
          25.260508472811026,
          25.23554348189542,
          25.21054747172548,
          25.185521179374533,
          25.16046532780807,
          25.13538062630714,
          25.110267770874028,
          25.085127444621115,
          25.059960318143858,
          25.034767049878663,
          25.009548286446595,
          24.984304662983334,
          24.95903680345626,
          24.93374532096944,
          24.908430818056768,
          24.883093886964012,
          24.857735109920483,
          24.832355059400385,
          24.806954298374777,
          24.781533380554283,
          24.75609285062313,
          24.73063324446479,
          24.70515508937978,
          24.679658904295756,
          24.654145199970426,
          24.628614479187465,
          24.60306723694588,
          24.577503960642908
         ]
        }
       ],
       "layout": {
        "legend": {
         "orientation": "h",
         "x": 0.5,
         "xanchor": "center"
        },
        "margin": {
         "b": 0,
         "l": 0,
         "r": 0,
         "t": 30
        },
        "template": {
         "data": {
          "bar": [
           {
            "error_x": {
             "color": "#2a3f5f"
            },
            "error_y": {
             "color": "#2a3f5f"
            },
            "marker": {
             "line": {
              "color": "#E5ECF6",
              "width": 0.5
             },
             "pattern": {
              "fillmode": "overlay",
              "size": 10,
              "solidity": 0.2
             }
            },
            "type": "bar"
           }
          ],
          "barpolar": [
           {
            "marker": {
             "line": {
              "color": "#E5ECF6",
              "width": 0.5
             },
             "pattern": {
              "fillmode": "overlay",
              "size": 10,
              "solidity": 0.2
             }
            },
            "type": "barpolar"
           }
          ],
          "carpet": [
           {
            "aaxis": {
             "endlinecolor": "#2a3f5f",
             "gridcolor": "white",
             "linecolor": "white",
             "minorgridcolor": "white",
             "startlinecolor": "#2a3f5f"
            },
            "baxis": {
             "endlinecolor": "#2a3f5f",
             "gridcolor": "white",
             "linecolor": "white",
             "minorgridcolor": "white",
             "startlinecolor": "#2a3f5f"
            },
            "type": "carpet"
           }
          ],
          "choropleth": [
           {
            "colorbar": {
             "outlinewidth": 0,
             "ticks": ""
            },
            "type": "choropleth"
           }
          ],
          "contour": [
           {
            "colorbar": {
             "outlinewidth": 0,
             "ticks": ""
            },
            "colorscale": [
             [
              0,
              "#0d0887"
             ],
             [
              0.1111111111111111,
              "#46039f"
             ],
             [
              0.2222222222222222,
              "#7201a8"
             ],
             [
              0.3333333333333333,
              "#9c179e"
             ],
             [
              0.4444444444444444,
              "#bd3786"
             ],
             [
              0.5555555555555556,
              "#d8576b"
             ],
             [
              0.6666666666666666,
              "#ed7953"
             ],
             [
              0.7777777777777778,
              "#fb9f3a"
             ],
             [
              0.8888888888888888,
              "#fdca26"
             ],
             [
              1,
              "#f0f921"
             ]
            ],
            "type": "contour"
           }
          ],
          "contourcarpet": [
           {
            "colorbar": {
             "outlinewidth": 0,
             "ticks": ""
            },
            "type": "contourcarpet"
           }
          ],
          "heatmap": [
           {
            "colorbar": {
             "outlinewidth": 0,
             "ticks": ""
            },
            "colorscale": [
             [
              0,
              "#0d0887"
             ],
             [
              0.1111111111111111,
              "#46039f"
             ],
             [
              0.2222222222222222,
              "#7201a8"
             ],
             [
              0.3333333333333333,
              "#9c179e"
             ],
             [
              0.4444444444444444,
              "#bd3786"
             ],
             [
              0.5555555555555556,
              "#d8576b"
             ],
             [
              0.6666666666666666,
              "#ed7953"
             ],
             [
              0.7777777777777778,
              "#fb9f3a"
             ],
             [
              0.8888888888888888,
              "#fdca26"
             ],
             [
              1,
              "#f0f921"
             ]
            ],
            "type": "heatmap"
           }
          ],
          "heatmapgl": [
           {
            "colorbar": {
             "outlinewidth": 0,
             "ticks": ""
            },
            "colorscale": [
             [
              0,
              "#0d0887"
             ],
             [
              0.1111111111111111,
              "#46039f"
             ],
             [
              0.2222222222222222,
              "#7201a8"
             ],
             [
              0.3333333333333333,
              "#9c179e"
             ],
             [
              0.4444444444444444,
              "#bd3786"
             ],
             [
              0.5555555555555556,
              "#d8576b"
             ],
             [
              0.6666666666666666,
              "#ed7953"
             ],
             [
              0.7777777777777778,
              "#fb9f3a"
             ],
             [
              0.8888888888888888,
              "#fdca26"
             ],
             [
              1,
              "#f0f921"
             ]
            ],
            "type": "heatmapgl"
           }
          ],
          "histogram": [
           {
            "marker": {
             "pattern": {
              "fillmode": "overlay",
              "size": 10,
              "solidity": 0.2
             }
            },
            "type": "histogram"
           }
          ],
          "histogram2d": [
           {
            "colorbar": {
             "outlinewidth": 0,
             "ticks": ""
            },
            "colorscale": [
             [
              0,
              "#0d0887"
             ],
             [
              0.1111111111111111,
              "#46039f"
             ],
             [
              0.2222222222222222,
              "#7201a8"
             ],
             [
              0.3333333333333333,
              "#9c179e"
             ],
             [
              0.4444444444444444,
              "#bd3786"
             ],
             [
              0.5555555555555556,
              "#d8576b"
             ],
             [
              0.6666666666666666,
              "#ed7953"
             ],
             [
              0.7777777777777778,
              "#fb9f3a"
             ],
             [
              0.8888888888888888,
              "#fdca26"
             ],
             [
              1,
              "#f0f921"
             ]
            ],
            "type": "histogram2d"
           }
          ],
          "histogram2dcontour": [
           {
            "colorbar": {
             "outlinewidth": 0,
             "ticks": ""
            },
            "colorscale": [
             [
              0,
              "#0d0887"
             ],
             [
              0.1111111111111111,
              "#46039f"
             ],
             [
              0.2222222222222222,
              "#7201a8"
             ],
             [
              0.3333333333333333,
              "#9c179e"
             ],
             [
              0.4444444444444444,
              "#bd3786"
             ],
             [
              0.5555555555555556,
              "#d8576b"
             ],
             [
              0.6666666666666666,
              "#ed7953"
             ],
             [
              0.7777777777777778,
              "#fb9f3a"
             ],
             [
              0.8888888888888888,
              "#fdca26"
             ],
             [
              1,
              "#f0f921"
             ]
            ],
            "type": "histogram2dcontour"
           }
          ],
          "mesh3d": [
           {
            "colorbar": {
             "outlinewidth": 0,
             "ticks": ""
            },
            "type": "mesh3d"
           }
          ],
          "parcoords": [
           {
            "line": {
             "colorbar": {
              "outlinewidth": 0,
              "ticks": ""
             }
            },
            "type": "parcoords"
           }
          ],
          "pie": [
           {
            "automargin": true,
            "type": "pie"
           }
          ],
          "scatter": [
           {
            "marker": {
             "colorbar": {
              "outlinewidth": 0,
              "ticks": ""
             }
            },
            "type": "scatter"
           }
          ],
          "scatter3d": [
           {
            "line": {
             "colorbar": {
              "outlinewidth": 0,
              "ticks": ""
             }
            },
            "marker": {
             "colorbar": {
              "outlinewidth": 0,
              "ticks": ""
             }
            },
            "type": "scatter3d"
           }
          ],
          "scattercarpet": [
           {
            "marker": {
             "colorbar": {
              "outlinewidth": 0,
              "ticks": ""
             }
            },
            "type": "scattercarpet"
           }
          ],
          "scattergeo": [
           {
            "marker": {
             "colorbar": {
              "outlinewidth": 0,
              "ticks": ""
             }
            },
            "type": "scattergeo"
           }
          ],
          "scattergl": [
           {
            "marker": {
             "colorbar": {
              "outlinewidth": 0,
              "ticks": ""
             }
            },
            "type": "scattergl"
           }
          ],
          "scattermapbox": [
           {
            "marker": {
             "colorbar": {
              "outlinewidth": 0,
              "ticks": ""
             }
            },
            "type": "scattermapbox"
           }
          ],
          "scatterpolar": [
           {
            "marker": {
             "colorbar": {
              "outlinewidth": 0,
              "ticks": ""
             }
            },
            "type": "scatterpolar"
           }
          ],
          "scatterpolargl": [
           {
            "marker": {
             "colorbar": {
              "outlinewidth": 0,
              "ticks": ""
             }
            },
            "type": "scatterpolargl"
           }
          ],
          "scatterternary": [
           {
            "marker": {
             "colorbar": {
              "outlinewidth": 0,
              "ticks": ""
             }
            },
            "type": "scatterternary"
           }
          ],
          "surface": [
           {
            "colorbar": {
             "outlinewidth": 0,
             "ticks": ""
            },
            "colorscale": [
             [
              0,
              "#0d0887"
             ],
             [
              0.1111111111111111,
              "#46039f"
             ],
             [
              0.2222222222222222,
              "#7201a8"
             ],
             [
              0.3333333333333333,
              "#9c179e"
             ],
             [
              0.4444444444444444,
              "#bd3786"
             ],
             [
              0.5555555555555556,
              "#d8576b"
             ],
             [
              0.6666666666666666,
              "#ed7953"
             ],
             [
              0.7777777777777778,
              "#fb9f3a"
             ],
             [
              0.8888888888888888,
              "#fdca26"
             ],
             [
              1,
              "#f0f921"
             ]
            ],
            "type": "surface"
           }
          ],
          "table": [
           {
            "cells": {
             "fill": {
              "color": "#EBF0F8"
             },
             "line": {
              "color": "white"
             }
            },
            "header": {
             "fill": {
              "color": "#C8D4E3"
             },
             "line": {
              "color": "white"
             }
            },
            "type": "table"
           }
          ]
         },
         "layout": {
          "annotationdefaults": {
           "arrowcolor": "#2a3f5f",
           "arrowhead": 0,
           "arrowwidth": 1
          },
          "autotypenumbers": "strict",
          "coloraxis": {
           "colorbar": {
            "outlinewidth": 0,
            "ticks": ""
           }
          },
          "colorscale": {
           "diverging": [
            [
             0,
             "#8e0152"
            ],
            [
             0.1,
             "#c51b7d"
            ],
            [
             0.2,
             "#de77ae"
            ],
            [
             0.3,
             "#f1b6da"
            ],
            [
             0.4,
             "#fde0ef"
            ],
            [
             0.5,
             "#f7f7f7"
            ],
            [
             0.6,
             "#e6f5d0"
            ],
            [
             0.7,
             "#b8e186"
            ],
            [
             0.8,
             "#7fbc41"
            ],
            [
             0.9,
             "#4d9221"
            ],
            [
             1,
             "#276419"
            ]
           ],
           "sequential": [
            [
             0,
             "#0d0887"
            ],
            [
             0.1111111111111111,
             "#46039f"
            ],
            [
             0.2222222222222222,
             "#7201a8"
            ],
            [
             0.3333333333333333,
             "#9c179e"
            ],
            [
             0.4444444444444444,
             "#bd3786"
            ],
            [
             0.5555555555555556,
             "#d8576b"
            ],
            [
             0.6666666666666666,
             "#ed7953"
            ],
            [
             0.7777777777777778,
             "#fb9f3a"
            ],
            [
             0.8888888888888888,
             "#fdca26"
            ],
            [
             1,
             "#f0f921"
            ]
           ],
           "sequentialminus": [
            [
             0,
             "#0d0887"
            ],
            [
             0.1111111111111111,
             "#46039f"
            ],
            [
             0.2222222222222222,
             "#7201a8"
            ],
            [
             0.3333333333333333,
             "#9c179e"
            ],
            [
             0.4444444444444444,
             "#bd3786"
            ],
            [
             0.5555555555555556,
             "#d8576b"
            ],
            [
             0.6666666666666666,
             "#ed7953"
            ],
            [
             0.7777777777777778,
             "#fb9f3a"
            ],
            [
             0.8888888888888888,
             "#fdca26"
            ],
            [
             1,
             "#f0f921"
            ]
           ]
          },
          "colorway": [
           "#636efa",
           "#EF553B",
           "#00cc96",
           "#ab63fa",
           "#FFA15A",
           "#19d3f3",
           "#FF6692",
           "#B6E880",
           "#FF97FF",
           "#FECB52"
          ],
          "font": {
           "color": "#2a3f5f"
          },
          "geo": {
           "bgcolor": "white",
           "lakecolor": "white",
           "landcolor": "#E5ECF6",
           "showlakes": true,
           "showland": true,
           "subunitcolor": "white"
          },
          "hoverlabel": {
           "align": "left"
          },
          "hovermode": "closest",
          "mapbox": {
           "style": "light"
          },
          "paper_bgcolor": "white",
          "plot_bgcolor": "#E5ECF6",
          "polar": {
           "angularaxis": {
            "gridcolor": "white",
            "linecolor": "white",
            "ticks": ""
           },
           "bgcolor": "#E5ECF6",
           "radialaxis": {
            "gridcolor": "white",
            "linecolor": "white",
            "ticks": ""
           }
          },
          "scene": {
           "xaxis": {
            "backgroundcolor": "#E5ECF6",
            "gridcolor": "white",
            "gridwidth": 2,
            "linecolor": "white",
            "showbackground": true,
            "ticks": "",
            "zerolinecolor": "white"
           },
           "yaxis": {
            "backgroundcolor": "#E5ECF6",
            "gridcolor": "white",
            "gridwidth": 2,
            "linecolor": "white",
            "showbackground": true,
            "ticks": "",
            "zerolinecolor": "white"
           },
           "zaxis": {
            "backgroundcolor": "#E5ECF6",
            "gridcolor": "white",
            "gridwidth": 2,
            "linecolor": "white",
            "showbackground": true,
            "ticks": "",
            "zerolinecolor": "white"
           }
          },
          "shapedefaults": {
           "line": {
            "color": "#2a3f5f"
           }
          },
          "ternary": {
           "aaxis": {
            "gridcolor": "white",
            "linecolor": "white",
            "ticks": ""
           },
           "baxis": {
            "gridcolor": "white",
            "linecolor": "white",
            "ticks": ""
           },
           "bgcolor": "#E5ECF6",
           "caxis": {
            "gridcolor": "white",
            "linecolor": "white",
            "ticks": ""
           }
          },
          "title": {
           "x": 0.05
          },
          "xaxis": {
           "automargin": true,
           "gridcolor": "white",
           "linecolor": "white",
           "ticks": "",
           "title": {
            "standoff": 15
           },
           "zerolinecolor": "white",
           "zerolinewidth": 2
          },
          "yaxis": {
           "automargin": true,
           "gridcolor": "white",
           "linecolor": "white",
           "ticks": "",
           "title": {
            "standoff": 15
           },
           "zerolinecolor": "white",
           "zerolinewidth": 2
          }
         }
        },
        "title": {
         "text": "Зависимость вязкости газонасыщенной нефти от давления"
        },
        "xaxis": {
         "title": {
          "text": "Давление, атм"
         }
        },
        "yaxis": {
         "title": {
          "text": "Вязкость, сП"
         }
        }
       }
      },
      "text/html": [
       "<div>                            <div id=\"2b1a9b5a-041a-475b-a538-14018f9d65f7\" class=\"plotly-graph-div\" style=\"height:525px; width:100%;\"></div>            <script type=\"text/javascript\">                require([\"plotly\"], function(Plotly) {                    window.PLOTLYENV=window.PLOTLYENV || {};                                    if (document.getElementById(\"2b1a9b5a-041a-475b-a538-14018f9d65f7\")) {                    Plotly.newPlot(                        \"2b1a9b5a-041a-475b-a538-14018f9d65f7\",                        [{\"hoverinfo\":\"x+y\",\"name\":\"$$M_{ol}(T=70^0 C)$$\",\"type\":\"scatter\",\"x\":[1,2,3,4,5,6,7,8,9,10,11,12,13,14,15,16,17,18,19,20,21,22,23,24,25,26,27,28,29,30,31,32,33,34,35,36,37,38,39,40,41,42,43,44,45,46,47,48,49,50,51,52,53,54,55,56,57,58,59,60,61,62,63,64,65,66,67,68,69,70,71,72,73,74,75,76,77,78,79,80,81,82,83,84,85,86,87,88,89,90,91,92,93,94,95,96,97,98,99,100,101,102,103,104,105,106,107,108,109,110,111],\"y\":[43.93900639614582,43.91905615748651,43.896860994783054,43.87307434136849,43.84803356747649,43.82194927600523,43.79496709826382,43.767194511898566,43.73871451724349,43.70959339638763,43.67988546484651,43.64963615460224,43.618884107277175,43.587662648225546,43.556000856461694,43.523924361174885,43.49145594764597,43.45861602684136,43.425423005313775,43.39189358076522,43.35804298122183,43.323885160778374,43.28943296143468,43.25469824813051,43.21969202235991,43.184424518491866,43.148905285999696,43.11314326011069,43.077146822865885,43.04092385618027,43.004481788185686,42.9678276338979,42.93096803105986,42.89390927186406,42.856657331135565,42.819217891461676,42.78159636567493,42.74379791703349,42.70582747738892,42.66768976358973,42.629389292331496,42.59093039363566,42.55231722311392,42.513553773152736,42.47464388313651,42.43559124881101,42.3963994308773,42.3570718628943,42.317611858558784,42.27802261842403,42.23830723611074,42.19846870405774,42.15850991885521,42.118433686197704,42.07824272549095,42.037939674142606,41.99752709156358,41.95700746290469,41.91638320255033,41.8756566573884,41.83483010987526,41.793905780910855,41.7528858325391,41.711772370486884,41.670567446553406,41.629273060861024,41.58789116397786,41.54642365892072,41.50487240304749,41.46323920984596,41.421525850626786,41.37973405612638,41.33786551802631,41.295921890394155,41.2539047910515,41.211815802872806,41.16965647502063,41.127428324119975,41.08513283537643,41.04277146364107,41.0003456344252,40.95785674486823,40.915306164661025,40.87269523692767,40.830025279067755,40.78729758356144,40.744513418739444,40.70167402951985,40.658780638113356,40.61583444469905,40.57283662807184,40.529788346263295,40.48669073713726,40.44354491896124,40.400351990955336,40.357113033819346,40.31382911023928,40.27050126537452,40.227130527326146,40.18371790758766,40.14026440147903,40.09677098856429,40.053238633054164,40.009668284193985,39.96606087663751,39.92241733080776,39.87873855324484,39.83502543694172,39.7912788616686,39.74749969428586,39.70368878904664]},{\"hoverinfo\":\"x+y\",\"name\":\"$$M_{ol}(T=90^0 C)$$\",\"type\":\"scatter\",\"x\":[1,2,3,4,5,6,7,8,9,10,11,12,13,14,15,16,17,18,19,20,21,22,23,24,25,26,27,28,29,30,31,32,33,34,35,36,37,38,39,40,41,42,43,44,45,46,47,48,49,50,51,52,53,54,55,56,57,58,59,60,61,62,63,64,65,66,67,68,69,70,71,72,73,74,75,76,77,78,79,80,81,82,83,84,85,86,87,88,89,90,91,92,93,94,95,96,97,98,99,100,101,102,103,104,105,106,107,108,109,110,111],\"y\":[27.062791066961587,27.051005403115465,27.037894565868573,27.02384481647558,27.00905564195966,26.993651608503644,26.977718878581094,26.961321059642238,26.94450728704856,26.927316810136805,26.90978180094702,26.891929176758897,26.873781837568405,26.8553595376372,26.836679518136066,26.81775697816115,26.798605433072847,26.779236992239095,26.75966257783505,26.739892099688543,26.719934596781904,26.699798353071397,26.6794909932535,26.659019562679987,26.638390594603575,26.617610167194222,26.59668395221985,26.57561725687651,26.55441505994516,26.533082043215284,26.511622618933707,26.49004095389481,26.468340990676218,26.446526466435362,26.42460092961126,26.402567754818826,26.38043015617672,26.358191199271708,26.335853811931532,26.313420793953185,26.29089482591125,26.2682784771543,26.24557421308178,26.222784401781418,26.199911320097154,26.176957159187925,26.153924029630183,26.13081396611098,26.10762893175226,26.084370822102194,26.061041468825778,26.037642643122677,26.014176058897394,25.990643375704217,25.96704620148684,25.94338609513048,25.9196645688425,25.895883090375936,25.872043085108928,25.848145937991546,25.824192995370726,25.800185566702822,25.776124926162456,25.752012314155355,25.72784893874259,25.70363597698253,25.67937457619658,25.655065855164015,25.630710905250968,25.606310791478172,25.581866553531405,25.557379206718824,25.53284974287831,25.508279131238538,25.483668319236234,25.45901823329296,25.43432977955347,25.409603844588332,25.38484129606284,25.360042983374314,25.33520973825972,25.31034237537519,25.285441692849233,25.260508472811026,25.23554348189542,25.21054747172548,25.185521179374533,25.16046532780807,25.13538062630714,25.110267770874028,25.085127444621115,25.059960318143858,25.034767049878663,25.009548286446595,24.984304662983334,24.95903680345626,24.93374532096944,24.908430818056768,24.883093886964012,24.857735109920483,24.832355059400385,24.806954298374777,24.781533380554283,24.75609285062313,24.73063324446479,24.70515508937978,24.679658904295756,24.654145199970426,24.628614479187465,24.60306723694588,24.577503960642908]}],                        {\"legend\":{\"orientation\":\"h\",\"x\":0.5,\"xanchor\":\"center\"},\"margin\":{\"b\":0,\"l\":0,\"r\":0,\"t\":30},\"template\":{\"data\":{\"bar\":[{\"error_x\":{\"color\":\"#2a3f5f\"},\"error_y\":{\"color\":\"#2a3f5f\"},\"marker\":{\"line\":{\"color\":\"#E5ECF6\",\"width\":0.5},\"pattern\":{\"fillmode\":\"overlay\",\"size\":10,\"solidity\":0.2}},\"type\":\"bar\"}],\"barpolar\":[{\"marker\":{\"line\":{\"color\":\"#E5ECF6\",\"width\":0.5},\"pattern\":{\"fillmode\":\"overlay\",\"size\":10,\"solidity\":0.2}},\"type\":\"barpolar\"}],\"carpet\":[{\"aaxis\":{\"endlinecolor\":\"#2a3f5f\",\"gridcolor\":\"white\",\"linecolor\":\"white\",\"minorgridcolor\":\"white\",\"startlinecolor\":\"#2a3f5f\"},\"baxis\":{\"endlinecolor\":\"#2a3f5f\",\"gridcolor\":\"white\",\"linecolor\":\"white\",\"minorgridcolor\":\"white\",\"startlinecolor\":\"#2a3f5f\"},\"type\":\"carpet\"}],\"choropleth\":[{\"colorbar\":{\"outlinewidth\":0,\"ticks\":\"\"},\"type\":\"choropleth\"}],\"contour\":[{\"colorbar\":{\"outlinewidth\":0,\"ticks\":\"\"},\"colorscale\":[[0.0,\"#0d0887\"],[0.1111111111111111,\"#46039f\"],[0.2222222222222222,\"#7201a8\"],[0.3333333333333333,\"#9c179e\"],[0.4444444444444444,\"#bd3786\"],[0.5555555555555556,\"#d8576b\"],[0.6666666666666666,\"#ed7953\"],[0.7777777777777778,\"#fb9f3a\"],[0.8888888888888888,\"#fdca26\"],[1.0,\"#f0f921\"]],\"type\":\"contour\"}],\"contourcarpet\":[{\"colorbar\":{\"outlinewidth\":0,\"ticks\":\"\"},\"type\":\"contourcarpet\"}],\"heatmap\":[{\"colorbar\":{\"outlinewidth\":0,\"ticks\":\"\"},\"colorscale\":[[0.0,\"#0d0887\"],[0.1111111111111111,\"#46039f\"],[0.2222222222222222,\"#7201a8\"],[0.3333333333333333,\"#9c179e\"],[0.4444444444444444,\"#bd3786\"],[0.5555555555555556,\"#d8576b\"],[0.6666666666666666,\"#ed7953\"],[0.7777777777777778,\"#fb9f3a\"],[0.8888888888888888,\"#fdca26\"],[1.0,\"#f0f921\"]],\"type\":\"heatmap\"}],\"heatmapgl\":[{\"colorbar\":{\"outlinewidth\":0,\"ticks\":\"\"},\"colorscale\":[[0.0,\"#0d0887\"],[0.1111111111111111,\"#46039f\"],[0.2222222222222222,\"#7201a8\"],[0.3333333333333333,\"#9c179e\"],[0.4444444444444444,\"#bd3786\"],[0.5555555555555556,\"#d8576b\"],[0.6666666666666666,\"#ed7953\"],[0.7777777777777778,\"#fb9f3a\"],[0.8888888888888888,\"#fdca26\"],[1.0,\"#f0f921\"]],\"type\":\"heatmapgl\"}],\"histogram\":[{\"marker\":{\"pattern\":{\"fillmode\":\"overlay\",\"size\":10,\"solidity\":0.2}},\"type\":\"histogram\"}],\"histogram2d\":[{\"colorbar\":{\"outlinewidth\":0,\"ticks\":\"\"},\"colorscale\":[[0.0,\"#0d0887\"],[0.1111111111111111,\"#46039f\"],[0.2222222222222222,\"#7201a8\"],[0.3333333333333333,\"#9c179e\"],[0.4444444444444444,\"#bd3786\"],[0.5555555555555556,\"#d8576b\"],[0.6666666666666666,\"#ed7953\"],[0.7777777777777778,\"#fb9f3a\"],[0.8888888888888888,\"#fdca26\"],[1.0,\"#f0f921\"]],\"type\":\"histogram2d\"}],\"histogram2dcontour\":[{\"colorbar\":{\"outlinewidth\":0,\"ticks\":\"\"},\"colorscale\":[[0.0,\"#0d0887\"],[0.1111111111111111,\"#46039f\"],[0.2222222222222222,\"#7201a8\"],[0.3333333333333333,\"#9c179e\"],[0.4444444444444444,\"#bd3786\"],[0.5555555555555556,\"#d8576b\"],[0.6666666666666666,\"#ed7953\"],[0.7777777777777778,\"#fb9f3a\"],[0.8888888888888888,\"#fdca26\"],[1.0,\"#f0f921\"]],\"type\":\"histogram2dcontour\"}],\"mesh3d\":[{\"colorbar\":{\"outlinewidth\":0,\"ticks\":\"\"},\"type\":\"mesh3d\"}],\"parcoords\":[{\"line\":{\"colorbar\":{\"outlinewidth\":0,\"ticks\":\"\"}},\"type\":\"parcoords\"}],\"pie\":[{\"automargin\":true,\"type\":\"pie\"}],\"scatter\":[{\"marker\":{\"colorbar\":{\"outlinewidth\":0,\"ticks\":\"\"}},\"type\":\"scatter\"}],\"scatter3d\":[{\"line\":{\"colorbar\":{\"outlinewidth\":0,\"ticks\":\"\"}},\"marker\":{\"colorbar\":{\"outlinewidth\":0,\"ticks\":\"\"}},\"type\":\"scatter3d\"}],\"scattercarpet\":[{\"marker\":{\"colorbar\":{\"outlinewidth\":0,\"ticks\":\"\"}},\"type\":\"scattercarpet\"}],\"scattergeo\":[{\"marker\":{\"colorbar\":{\"outlinewidth\":0,\"ticks\":\"\"}},\"type\":\"scattergeo\"}],\"scattergl\":[{\"marker\":{\"colorbar\":{\"outlinewidth\":0,\"ticks\":\"\"}},\"type\":\"scattergl\"}],\"scattermapbox\":[{\"marker\":{\"colorbar\":{\"outlinewidth\":0,\"ticks\":\"\"}},\"type\":\"scattermapbox\"}],\"scatterpolar\":[{\"marker\":{\"colorbar\":{\"outlinewidth\":0,\"ticks\":\"\"}},\"type\":\"scatterpolar\"}],\"scatterpolargl\":[{\"marker\":{\"colorbar\":{\"outlinewidth\":0,\"ticks\":\"\"}},\"type\":\"scatterpolargl\"}],\"scatterternary\":[{\"marker\":{\"colorbar\":{\"outlinewidth\":0,\"ticks\":\"\"}},\"type\":\"scatterternary\"}],\"surface\":[{\"colorbar\":{\"outlinewidth\":0,\"ticks\":\"\"},\"colorscale\":[[0.0,\"#0d0887\"],[0.1111111111111111,\"#46039f\"],[0.2222222222222222,\"#7201a8\"],[0.3333333333333333,\"#9c179e\"],[0.4444444444444444,\"#bd3786\"],[0.5555555555555556,\"#d8576b\"],[0.6666666666666666,\"#ed7953\"],[0.7777777777777778,\"#fb9f3a\"],[0.8888888888888888,\"#fdca26\"],[1.0,\"#f0f921\"]],\"type\":\"surface\"}],\"table\":[{\"cells\":{\"fill\":{\"color\":\"#EBF0F8\"},\"line\":{\"color\":\"white\"}},\"header\":{\"fill\":{\"color\":\"#C8D4E3\"},\"line\":{\"color\":\"white\"}},\"type\":\"table\"}]},\"layout\":{\"annotationdefaults\":{\"arrowcolor\":\"#2a3f5f\",\"arrowhead\":0,\"arrowwidth\":1},\"autotypenumbers\":\"strict\",\"coloraxis\":{\"colorbar\":{\"outlinewidth\":0,\"ticks\":\"\"}},\"colorscale\":{\"diverging\":[[0,\"#8e0152\"],[0.1,\"#c51b7d\"],[0.2,\"#de77ae\"],[0.3,\"#f1b6da\"],[0.4,\"#fde0ef\"],[0.5,\"#f7f7f7\"],[0.6,\"#e6f5d0\"],[0.7,\"#b8e186\"],[0.8,\"#7fbc41\"],[0.9,\"#4d9221\"],[1,\"#276419\"]],\"sequential\":[[0.0,\"#0d0887\"],[0.1111111111111111,\"#46039f\"],[0.2222222222222222,\"#7201a8\"],[0.3333333333333333,\"#9c179e\"],[0.4444444444444444,\"#bd3786\"],[0.5555555555555556,\"#d8576b\"],[0.6666666666666666,\"#ed7953\"],[0.7777777777777778,\"#fb9f3a\"],[0.8888888888888888,\"#fdca26\"],[1.0,\"#f0f921\"]],\"sequentialminus\":[[0.0,\"#0d0887\"],[0.1111111111111111,\"#46039f\"],[0.2222222222222222,\"#7201a8\"],[0.3333333333333333,\"#9c179e\"],[0.4444444444444444,\"#bd3786\"],[0.5555555555555556,\"#d8576b\"],[0.6666666666666666,\"#ed7953\"],[0.7777777777777778,\"#fb9f3a\"],[0.8888888888888888,\"#fdca26\"],[1.0,\"#f0f921\"]]},\"colorway\":[\"#636efa\",\"#EF553B\",\"#00cc96\",\"#ab63fa\",\"#FFA15A\",\"#19d3f3\",\"#FF6692\",\"#B6E880\",\"#FF97FF\",\"#FECB52\"],\"font\":{\"color\":\"#2a3f5f\"},\"geo\":{\"bgcolor\":\"white\",\"lakecolor\":\"white\",\"landcolor\":\"#E5ECF6\",\"showlakes\":true,\"showland\":true,\"subunitcolor\":\"white\"},\"hoverlabel\":{\"align\":\"left\"},\"hovermode\":\"closest\",\"mapbox\":{\"style\":\"light\"},\"paper_bgcolor\":\"white\",\"plot_bgcolor\":\"#E5ECF6\",\"polar\":{\"angularaxis\":{\"gridcolor\":\"white\",\"linecolor\":\"white\",\"ticks\":\"\"},\"bgcolor\":\"#E5ECF6\",\"radialaxis\":{\"gridcolor\":\"white\",\"linecolor\":\"white\",\"ticks\":\"\"}},\"scene\":{\"xaxis\":{\"backgroundcolor\":\"#E5ECF6\",\"gridcolor\":\"white\",\"gridwidth\":2,\"linecolor\":\"white\",\"showbackground\":true,\"ticks\":\"\",\"zerolinecolor\":\"white\"},\"yaxis\":{\"backgroundcolor\":\"#E5ECF6\",\"gridcolor\":\"white\",\"gridwidth\":2,\"linecolor\":\"white\",\"showbackground\":true,\"ticks\":\"\",\"zerolinecolor\":\"white\"},\"zaxis\":{\"backgroundcolor\":\"#E5ECF6\",\"gridcolor\":\"white\",\"gridwidth\":2,\"linecolor\":\"white\",\"showbackground\":true,\"ticks\":\"\",\"zerolinecolor\":\"white\"}},\"shapedefaults\":{\"line\":{\"color\":\"#2a3f5f\"}},\"ternary\":{\"aaxis\":{\"gridcolor\":\"white\",\"linecolor\":\"white\",\"ticks\":\"\"},\"baxis\":{\"gridcolor\":\"white\",\"linecolor\":\"white\",\"ticks\":\"\"},\"bgcolor\":\"#E5ECF6\",\"caxis\":{\"gridcolor\":\"white\",\"linecolor\":\"white\",\"ticks\":\"\"}},\"title\":{\"x\":0.05},\"xaxis\":{\"automargin\":true,\"gridcolor\":\"white\",\"linecolor\":\"white\",\"ticks\":\"\",\"title\":{\"standoff\":15},\"zerolinecolor\":\"white\",\"zerolinewidth\":2},\"yaxis\":{\"automargin\":true,\"gridcolor\":\"white\",\"linecolor\":\"white\",\"ticks\":\"\",\"title\":{\"standoff\":15},\"zerolinecolor\":\"white\",\"zerolinewidth\":2}}},\"title\":{\"text\":\"\\u0417\\u0430\\u0432\\u0438\\u0441\\u0438\\u043c\\u043e\\u0441\\u0442\\u044c \\u0432\\u044f\\u0437\\u043a\\u043e\\u0441\\u0442\\u0438 \\u0433\\u0430\\u0437\\u043e\\u043d\\u0430\\u0441\\u044b\\u0449\\u0435\\u043d\\u043d\\u043e\\u0439 \\u043d\\u0435\\u0444\\u0442\\u0438 \\u043e\\u0442 \\u0434\\u0430\\u0432\\u043b\\u0435\\u043d\\u0438\\u044f\"},\"xaxis\":{\"title\":{\"text\":\"\\u0414\\u0430\\u0432\\u043b\\u0435\\u043d\\u0438\\u0435, \\u0430\\u0442\\u043c\"}},\"yaxis\":{\"title\":{\"text\":\"\\u0412\\u044f\\u0437\\u043a\\u043e\\u0441\\u0442\\u044c, \\u0441\\u041f\"}}},                        {\"responsive\": true}                    ).then(function(){\n",
       "                            \n",
       "var gd = document.getElementById('2b1a9b5a-041a-475b-a538-14018f9d65f7');\n",
       "var x = new MutationObserver(function (mutations, observer) {{\n",
       "        var display = window.getComputedStyle(gd).display;\n",
       "        if (!display || display === 'none') {{\n",
       "            console.log([gd, 'removed!']);\n",
       "            Plotly.purge(gd);\n",
       "            observer.disconnect();\n",
       "        }}\n",
       "}});\n",
       "\n",
       "// Listen for the removal of the full notebook cells\n",
       "var notebookContainer = gd.closest('#notebook-container');\n",
       "if (notebookContainer) {{\n",
       "    x.observe(notebookContainer, {childList: true});\n",
       "}}\n",
       "\n",
       "// Listen for the clearing of the current output cell\n",
       "var outputEl = gd.closest('.output');\n",
       "if (outputEl) {{\n",
       "    x.observe(outputEl, {childList: true});\n",
       "}}\n",
       "\n",
       "                        })                };                });            </script>        </div>"
      ]
     },
     "metadata": {},
     "output_type": "display_data"
    }
   ],
   "source": [
    "fig1 = go.Figure()\n",
    "\n",
    "fig1.add_trace(go.Scatter(x=p_list, y=mu_ol_70, name='$$M_{ol}(T=70^0 C)$$'))\n",
    "fig1.add_trace(go.Scatter(x=p_list, y=mu_ol_90, name='$$M_{ol}(T=90^0 C)$$'))\n",
    "fig1.update_layout(legend_orientation=\"h\",\n",
    "                  legend=dict(x=.5, xanchor=\"center\"),\n",
    "                  title=\"Зависимость вязкости газонасыщенной нефти от давления\",\n",
    "                  xaxis_title=\"Давление, атм\",\n",
    "                  yaxis_title=\"Вязкость, сП\",\n",
    "                  margin=dict(l=0, r=0, t=30, b=0))\n",
    "fig1.update_traces(hoverinfo=\"x+y\")\n",
    "fig1.show()\n"
   ]
  },
  {
   "cell_type": "markdown",
   "id": "f7469f28",
   "metadata": {},
   "source": [
    "**При повышении давления коэффициент сжимаемости падает(следствие уменьшения расстояния между частицами нефти). Чем выше температура, тем выше коэффициент сжимаемости нефти(следствие теплового расширения).**"
   ]
  },
  {
   "cell_type": "code",
   "execution_count": 20,
   "id": "102e7659",
   "metadata": {
    "scrolled": false
   },
   "outputs": [
    {
     "data": {
      "application/vnd.plotly.v1+json": {
       "config": {
        "plotlyServerURL": "https://plot.ly"
       },
       "data": [
        {
         "hoverinfo": "x+y",
         "name": "$$C_o(T=70^0 C)$$",
         "type": "scatter",
         "x": [
          1,
          2,
          3,
          4,
          5,
          6,
          7,
          8,
          9,
          10,
          11,
          12,
          13,
          14,
          15,
          16,
          17,
          18,
          19,
          20,
          21,
          22,
          23,
          24,
          25,
          26,
          27,
          28,
          29,
          30,
          31,
          32,
          33,
          34,
          35,
          36,
          37,
          38,
          39,
          40,
          41,
          42,
          43,
          44,
          45,
          46,
          47,
          48,
          49,
          50,
          51,
          52,
          53,
          54,
          55,
          56,
          57,
          58,
          59,
          60,
          61,
          62,
          63,
          64,
          65,
          66,
          67,
          68,
          69,
          70,
          71,
          72,
          73,
          74,
          75,
          76,
          77,
          78,
          79,
          80,
          81,
          82,
          83,
          84,
          85,
          86,
          87,
          88,
          89,
          90,
          91,
          92,
          93,
          94,
          95,
          96,
          97,
          98,
          99,
          100,
          101,
          102,
          103,
          104,
          105,
          106,
          107,
          108,
          109,
          110,
          111
         ],
         "y": [
          0.010252811023249153,
          0.005127966413123402,
          0.0034198025059545708,
          0.0025657833096116855,
          0.002053411499164292,
          0.0017118579308768559,
          0.0014679115624110905,
          0.001284967616032736,
          0.0011426905277676406,
          0.001028879219469282,
          0.0009357695378953548,
          0.0008581854959482031,
          0.0007925437990692214,
          0.000736285010075909,
          0.0006875322522655398,
          0.0006448779015187389,
          0.0006072455652901273,
          0.0005737980697819181,
          0.000543874504616678,
          0.0005169461546869176,
          0.0004925850233226989,
          0.0004704409403570276,
          0.0004502246422295657,
          0.00043169508223804136,
          0.000414649786462491,
          0.0003989174353487882,
          0.00038435209391022614,
          0.0003708286783786859,
          0.0003582393608413706,
          0.00034649069299156406,
          0.00033550128660639973,
          0.00032519992896254743,
          0.00031552404092624733,
          0.0003064184071638824,
          0.00029783412404639866,
          0.00028972772291612094,
          0.0002820604355375853,
          0.0002747975755391955,
          0.0002679080150256808,
          0.00026136373970550407,
          0.00025513946912743003,
          0.000249212331174056,
          0.00024356158197921208,
          0.00023816836404223004,
          0.0002330154965969399,
          0.00022808729332672342,
          0.00022336940335251047,
          0.00021884867209949623,
          0.00021451301920254328,
          0.00021035133106466552,
          0.00020635336605722213,
          0.0002025096706599132,
          0.0001988115050955719,
          0.0001952507772288407,
          0.00019181998367686766,
          0.00018851215723043971,
          0.00018532081981051144,
          0.0001822399402920017,
          0.00017926389661732803,
          0.0001763874416991572,
          0.00017360567267750245,
          0.00017091400315240679,
          0.00016830813806155873,
          0.00016578405091351807,
          0.00016333796312284192,
          0.00016096632522415695,
          0.0001586657997688468,
          0.00015643324573112377,
          0.00015426570427033967,
          0.00015216038571389567,
          0.00015011465764039477,
          0.00014812603395605517,
          0.00014619216486912794,
          0.0001443108276773608,
          0.00014247991829261425,
          0.0001406974434347242,
          0.00013896151343376198,
          0.00013727033558608504,
          0.0001356222080151,
          0.00013401551399256956,
          0.00013244871668065776,
          0.00013092035425879062,
          0.00012942903540287277,
          0.00012797343508749352,
          0.0001265522906845176,
          0.00012516439833393315,
          0.00012380860956504706,
          0.00012248382814811128,
          0.00012118900715825181,
          0.00011992314623518624,
          0.00011868528902366609,
          0.00011747452078089048,
          0.00011628996613832185,
          0.00011513078700640288,
          0.0001139961806116432,
          0.00011288537765642263,
          0.00011179764059265279,
          0.00011073226200116326,
          0.00010968856306933496,
          0.00010866589216010246,
          0.00010766362346599101,
          0.00010668115574235207,
          0.00010571791111441273,
          0.00010477333395317109,
          0.00010384688981554555,
          0.00010293806444453523,
          0.00010204636282546338,
          0.00010117130829466929,
          0.00010031244169727843,
          9.946932059092815e-05,
          9.864151849254922e-05
         ]
        },
        {
         "hoverinfo": "x+y",
         "name": "$$C_o(T=90^0 C)$$",
         "type": "scatter",
         "x": [
          1,
          2,
          3,
          4,
          5,
          6,
          7,
          8,
          9,
          10,
          11,
          12,
          13,
          14,
          15,
          16,
          17,
          18,
          19,
          20,
          21,
          22,
          23,
          24,
          25,
          26,
          27,
          28,
          29,
          30,
          31,
          32,
          33,
          34,
          35,
          36,
          37,
          38,
          39,
          40,
          41,
          42,
          43,
          44,
          45,
          46,
          47,
          48,
          49,
          50,
          51,
          52,
          53,
          54,
          55,
          56,
          57,
          58,
          59,
          60,
          61,
          62,
          63,
          64,
          65,
          66,
          67,
          68,
          69,
          70,
          71,
          72,
          73,
          74,
          75,
          76,
          77,
          78,
          79,
          80,
          81,
          82,
          83,
          84,
          85,
          86,
          87,
          88,
          89,
          90,
          91,
          92,
          93,
          94,
          95,
          96,
          97,
          98,
          99,
          100,
          101,
          102,
          103,
          104,
          105,
          106,
          107,
          108,
          109,
          110,
          111
         ],
         "y": [
          0.01953640955997953,
          0.009769679760305168,
          0.0065142143149329295,
          0.004886540894961285,
          0.003909974364610488,
          0.003258956128325692,
          0.0027939624418630428,
          0.002445232135612477,
          0.002174009404570549,
          0.001957041011648134,
          0.001779529602233981,
          0.0016316103819840099,
          0.001506453954549607,
          0.0013991822353686544,
          0.001306218003910315,
          0.0012248783763451764,
          0.0011531117601004419,
          0.0010893224913449448,
          0.0010322508508826386,
          0.0009808890758248423,
          0.0009344213683224567,
          0.0008921802658432569,
          0.0008536143933326473,
          0.0008182642774982967,
          0.000785743965792301,
          0.0007557268872643474,
          0.0007279348555241062,
          0.0007021294282723577,
          0.0006781050545638342,
          0.0006556835926565867,
          0.000634709888954525,
          0.000615048185924215,
          0.0005965791831391216,
          0.0005791976169808478,
          0.0005628102552635315,
          0.0005473342260999189,
          0.0005326956177725871,
          0.0005188282996869911,
          0.0005056729247238922,
          0.0004931760812453629,
          0.00048128956920300806,
          0.0004699697796640611,
          0.0004591771609193591,
          0.0004488757573983511,
          0.0004390328100652238,
          0.0004296184089399923,
          0.0004206051899809895,
          0.00041196806985913895,
          0.00040368401321069867,
          0.0003957318278213088,
          0.00038809198390748215,
          0.0003807464542515174,
          0.00037367857243549127,
          0.0003668729068280526,
          0.00036031514831902606,
          0.0003539920100832703,
          0.00034789113789644586,
          0.00034200102972912436,
          0.0003363109635183654,
          0.0003308109321626754,
          0.0003254915849113932,
          0.0003203441744265131,
          0.00031536050888664055,
          0.00031053290858156776,
          0.0003058541665138366,
          0.00030131751258228033,
          0.00029691658097328737,
          0.0002926453804295597,
          0.0002884982671044289,
          0.0002844699197431577,
          0.0002805553169617926,
          0.0002767497164196242,
          0.000273048635703667,
          0.00026944783476319734,
          0.00026594329974966984,
          0.00026253122813256,
          0.00025920801497513076,
          0.00025597024026602133,
          0.0002528146572130966,
          0.00024973818141535306,
          0.0002467378808369955,
          0.00024381096651519932,
          0.00024095478393967778,
          0.00023816680504806683,
          0.00023544462078640662,
          0.00023278593418872258,
          0.00023018855393393365,
          0.000227650388342117,
          0.00022516943977556956,
          0.00022274379941317868,
          0.0002203716423693848,
          0.0002180512231315141,
          0.00021578087129151528,
          0.00021355898755017554,
          0.0002113840399737358,
          0.00020925456048450044,
          0.00020716914156855196,
          0.0002051264331850634,
          0.0002031251398629519,
          0.00020116401797175786,
          0.0001992418731546744,
          0.00019735755791259728,
          0.0001955099693289312,
          0.00019369804692567698,
          0.00019192077064204724,
          0.00019017715892751783,
          0.0001884662669418278,
          0.00018678718485499546,
          0.00018513903624092675,
          0.00018352097655865903,
          0.0001819321917157138
         ]
        }
       ],
       "layout": {
        "legend": {
         "orientation": "h",
         "x": 0.5,
         "xanchor": "center"
        },
        "margin": {
         "b": 0,
         "l": 0,
         "r": 0,
         "t": 30
        },
        "template": {
         "data": {
          "bar": [
           {
            "error_x": {
             "color": "#2a3f5f"
            },
            "error_y": {
             "color": "#2a3f5f"
            },
            "marker": {
             "line": {
              "color": "#E5ECF6",
              "width": 0.5
             },
             "pattern": {
              "fillmode": "overlay",
              "size": 10,
              "solidity": 0.2
             }
            },
            "type": "bar"
           }
          ],
          "barpolar": [
           {
            "marker": {
             "line": {
              "color": "#E5ECF6",
              "width": 0.5
             },
             "pattern": {
              "fillmode": "overlay",
              "size": 10,
              "solidity": 0.2
             }
            },
            "type": "barpolar"
           }
          ],
          "carpet": [
           {
            "aaxis": {
             "endlinecolor": "#2a3f5f",
             "gridcolor": "white",
             "linecolor": "white",
             "minorgridcolor": "white",
             "startlinecolor": "#2a3f5f"
            },
            "baxis": {
             "endlinecolor": "#2a3f5f",
             "gridcolor": "white",
             "linecolor": "white",
             "minorgridcolor": "white",
             "startlinecolor": "#2a3f5f"
            },
            "type": "carpet"
           }
          ],
          "choropleth": [
           {
            "colorbar": {
             "outlinewidth": 0,
             "ticks": ""
            },
            "type": "choropleth"
           }
          ],
          "contour": [
           {
            "colorbar": {
             "outlinewidth": 0,
             "ticks": ""
            },
            "colorscale": [
             [
              0,
              "#0d0887"
             ],
             [
              0.1111111111111111,
              "#46039f"
             ],
             [
              0.2222222222222222,
              "#7201a8"
             ],
             [
              0.3333333333333333,
              "#9c179e"
             ],
             [
              0.4444444444444444,
              "#bd3786"
             ],
             [
              0.5555555555555556,
              "#d8576b"
             ],
             [
              0.6666666666666666,
              "#ed7953"
             ],
             [
              0.7777777777777778,
              "#fb9f3a"
             ],
             [
              0.8888888888888888,
              "#fdca26"
             ],
             [
              1,
              "#f0f921"
             ]
            ],
            "type": "contour"
           }
          ],
          "contourcarpet": [
           {
            "colorbar": {
             "outlinewidth": 0,
             "ticks": ""
            },
            "type": "contourcarpet"
           }
          ],
          "heatmap": [
           {
            "colorbar": {
             "outlinewidth": 0,
             "ticks": ""
            },
            "colorscale": [
             [
              0,
              "#0d0887"
             ],
             [
              0.1111111111111111,
              "#46039f"
             ],
             [
              0.2222222222222222,
              "#7201a8"
             ],
             [
              0.3333333333333333,
              "#9c179e"
             ],
             [
              0.4444444444444444,
              "#bd3786"
             ],
             [
              0.5555555555555556,
              "#d8576b"
             ],
             [
              0.6666666666666666,
              "#ed7953"
             ],
             [
              0.7777777777777778,
              "#fb9f3a"
             ],
             [
              0.8888888888888888,
              "#fdca26"
             ],
             [
              1,
              "#f0f921"
             ]
            ],
            "type": "heatmap"
           }
          ],
          "heatmapgl": [
           {
            "colorbar": {
             "outlinewidth": 0,
             "ticks": ""
            },
            "colorscale": [
             [
              0,
              "#0d0887"
             ],
             [
              0.1111111111111111,
              "#46039f"
             ],
             [
              0.2222222222222222,
              "#7201a8"
             ],
             [
              0.3333333333333333,
              "#9c179e"
             ],
             [
              0.4444444444444444,
              "#bd3786"
             ],
             [
              0.5555555555555556,
              "#d8576b"
             ],
             [
              0.6666666666666666,
              "#ed7953"
             ],
             [
              0.7777777777777778,
              "#fb9f3a"
             ],
             [
              0.8888888888888888,
              "#fdca26"
             ],
             [
              1,
              "#f0f921"
             ]
            ],
            "type": "heatmapgl"
           }
          ],
          "histogram": [
           {
            "marker": {
             "pattern": {
              "fillmode": "overlay",
              "size": 10,
              "solidity": 0.2
             }
            },
            "type": "histogram"
           }
          ],
          "histogram2d": [
           {
            "colorbar": {
             "outlinewidth": 0,
             "ticks": ""
            },
            "colorscale": [
             [
              0,
              "#0d0887"
             ],
             [
              0.1111111111111111,
              "#46039f"
             ],
             [
              0.2222222222222222,
              "#7201a8"
             ],
             [
              0.3333333333333333,
              "#9c179e"
             ],
             [
              0.4444444444444444,
              "#bd3786"
             ],
             [
              0.5555555555555556,
              "#d8576b"
             ],
             [
              0.6666666666666666,
              "#ed7953"
             ],
             [
              0.7777777777777778,
              "#fb9f3a"
             ],
             [
              0.8888888888888888,
              "#fdca26"
             ],
             [
              1,
              "#f0f921"
             ]
            ],
            "type": "histogram2d"
           }
          ],
          "histogram2dcontour": [
           {
            "colorbar": {
             "outlinewidth": 0,
             "ticks": ""
            },
            "colorscale": [
             [
              0,
              "#0d0887"
             ],
             [
              0.1111111111111111,
              "#46039f"
             ],
             [
              0.2222222222222222,
              "#7201a8"
             ],
             [
              0.3333333333333333,
              "#9c179e"
             ],
             [
              0.4444444444444444,
              "#bd3786"
             ],
             [
              0.5555555555555556,
              "#d8576b"
             ],
             [
              0.6666666666666666,
              "#ed7953"
             ],
             [
              0.7777777777777778,
              "#fb9f3a"
             ],
             [
              0.8888888888888888,
              "#fdca26"
             ],
             [
              1,
              "#f0f921"
             ]
            ],
            "type": "histogram2dcontour"
           }
          ],
          "mesh3d": [
           {
            "colorbar": {
             "outlinewidth": 0,
             "ticks": ""
            },
            "type": "mesh3d"
           }
          ],
          "parcoords": [
           {
            "line": {
             "colorbar": {
              "outlinewidth": 0,
              "ticks": ""
             }
            },
            "type": "parcoords"
           }
          ],
          "pie": [
           {
            "automargin": true,
            "type": "pie"
           }
          ],
          "scatter": [
           {
            "marker": {
             "colorbar": {
              "outlinewidth": 0,
              "ticks": ""
             }
            },
            "type": "scatter"
           }
          ],
          "scatter3d": [
           {
            "line": {
             "colorbar": {
              "outlinewidth": 0,
              "ticks": ""
             }
            },
            "marker": {
             "colorbar": {
              "outlinewidth": 0,
              "ticks": ""
             }
            },
            "type": "scatter3d"
           }
          ],
          "scattercarpet": [
           {
            "marker": {
             "colorbar": {
              "outlinewidth": 0,
              "ticks": ""
             }
            },
            "type": "scattercarpet"
           }
          ],
          "scattergeo": [
           {
            "marker": {
             "colorbar": {
              "outlinewidth": 0,
              "ticks": ""
             }
            },
            "type": "scattergeo"
           }
          ],
          "scattergl": [
           {
            "marker": {
             "colorbar": {
              "outlinewidth": 0,
              "ticks": ""
             }
            },
            "type": "scattergl"
           }
          ],
          "scattermapbox": [
           {
            "marker": {
             "colorbar": {
              "outlinewidth": 0,
              "ticks": ""
             }
            },
            "type": "scattermapbox"
           }
          ],
          "scatterpolar": [
           {
            "marker": {
             "colorbar": {
              "outlinewidth": 0,
              "ticks": ""
             }
            },
            "type": "scatterpolar"
           }
          ],
          "scatterpolargl": [
           {
            "marker": {
             "colorbar": {
              "outlinewidth": 0,
              "ticks": ""
             }
            },
            "type": "scatterpolargl"
           }
          ],
          "scatterternary": [
           {
            "marker": {
             "colorbar": {
              "outlinewidth": 0,
              "ticks": ""
             }
            },
            "type": "scatterternary"
           }
          ],
          "surface": [
           {
            "colorbar": {
             "outlinewidth": 0,
             "ticks": ""
            },
            "colorscale": [
             [
              0,
              "#0d0887"
             ],
             [
              0.1111111111111111,
              "#46039f"
             ],
             [
              0.2222222222222222,
              "#7201a8"
             ],
             [
              0.3333333333333333,
              "#9c179e"
             ],
             [
              0.4444444444444444,
              "#bd3786"
             ],
             [
              0.5555555555555556,
              "#d8576b"
             ],
             [
              0.6666666666666666,
              "#ed7953"
             ],
             [
              0.7777777777777778,
              "#fb9f3a"
             ],
             [
              0.8888888888888888,
              "#fdca26"
             ],
             [
              1,
              "#f0f921"
             ]
            ],
            "type": "surface"
           }
          ],
          "table": [
           {
            "cells": {
             "fill": {
              "color": "#EBF0F8"
             },
             "line": {
              "color": "white"
             }
            },
            "header": {
             "fill": {
              "color": "#C8D4E3"
             },
             "line": {
              "color": "white"
             }
            },
            "type": "table"
           }
          ]
         },
         "layout": {
          "annotationdefaults": {
           "arrowcolor": "#2a3f5f",
           "arrowhead": 0,
           "arrowwidth": 1
          },
          "autotypenumbers": "strict",
          "coloraxis": {
           "colorbar": {
            "outlinewidth": 0,
            "ticks": ""
           }
          },
          "colorscale": {
           "diverging": [
            [
             0,
             "#8e0152"
            ],
            [
             0.1,
             "#c51b7d"
            ],
            [
             0.2,
             "#de77ae"
            ],
            [
             0.3,
             "#f1b6da"
            ],
            [
             0.4,
             "#fde0ef"
            ],
            [
             0.5,
             "#f7f7f7"
            ],
            [
             0.6,
             "#e6f5d0"
            ],
            [
             0.7,
             "#b8e186"
            ],
            [
             0.8,
             "#7fbc41"
            ],
            [
             0.9,
             "#4d9221"
            ],
            [
             1,
             "#276419"
            ]
           ],
           "sequential": [
            [
             0,
             "#0d0887"
            ],
            [
             0.1111111111111111,
             "#46039f"
            ],
            [
             0.2222222222222222,
             "#7201a8"
            ],
            [
             0.3333333333333333,
             "#9c179e"
            ],
            [
             0.4444444444444444,
             "#bd3786"
            ],
            [
             0.5555555555555556,
             "#d8576b"
            ],
            [
             0.6666666666666666,
             "#ed7953"
            ],
            [
             0.7777777777777778,
             "#fb9f3a"
            ],
            [
             0.8888888888888888,
             "#fdca26"
            ],
            [
             1,
             "#f0f921"
            ]
           ],
           "sequentialminus": [
            [
             0,
             "#0d0887"
            ],
            [
             0.1111111111111111,
             "#46039f"
            ],
            [
             0.2222222222222222,
             "#7201a8"
            ],
            [
             0.3333333333333333,
             "#9c179e"
            ],
            [
             0.4444444444444444,
             "#bd3786"
            ],
            [
             0.5555555555555556,
             "#d8576b"
            ],
            [
             0.6666666666666666,
             "#ed7953"
            ],
            [
             0.7777777777777778,
             "#fb9f3a"
            ],
            [
             0.8888888888888888,
             "#fdca26"
            ],
            [
             1,
             "#f0f921"
            ]
           ]
          },
          "colorway": [
           "#636efa",
           "#EF553B",
           "#00cc96",
           "#ab63fa",
           "#FFA15A",
           "#19d3f3",
           "#FF6692",
           "#B6E880",
           "#FF97FF",
           "#FECB52"
          ],
          "font": {
           "color": "#2a3f5f"
          },
          "geo": {
           "bgcolor": "white",
           "lakecolor": "white",
           "landcolor": "#E5ECF6",
           "showlakes": true,
           "showland": true,
           "subunitcolor": "white"
          },
          "hoverlabel": {
           "align": "left"
          },
          "hovermode": "closest",
          "mapbox": {
           "style": "light"
          },
          "paper_bgcolor": "white",
          "plot_bgcolor": "#E5ECF6",
          "polar": {
           "angularaxis": {
            "gridcolor": "white",
            "linecolor": "white",
            "ticks": ""
           },
           "bgcolor": "#E5ECF6",
           "radialaxis": {
            "gridcolor": "white",
            "linecolor": "white",
            "ticks": ""
           }
          },
          "scene": {
           "xaxis": {
            "backgroundcolor": "#E5ECF6",
            "gridcolor": "white",
            "gridwidth": 2,
            "linecolor": "white",
            "showbackground": true,
            "ticks": "",
            "zerolinecolor": "white"
           },
           "yaxis": {
            "backgroundcolor": "#E5ECF6",
            "gridcolor": "white",
            "gridwidth": 2,
            "linecolor": "white",
            "showbackground": true,
            "ticks": "",
            "zerolinecolor": "white"
           },
           "zaxis": {
            "backgroundcolor": "#E5ECF6",
            "gridcolor": "white",
            "gridwidth": 2,
            "linecolor": "white",
            "showbackground": true,
            "ticks": "",
            "zerolinecolor": "white"
           }
          },
          "shapedefaults": {
           "line": {
            "color": "#2a3f5f"
           }
          },
          "ternary": {
           "aaxis": {
            "gridcolor": "white",
            "linecolor": "white",
            "ticks": ""
           },
           "baxis": {
            "gridcolor": "white",
            "linecolor": "white",
            "ticks": ""
           },
           "bgcolor": "#E5ECF6",
           "caxis": {
            "gridcolor": "white",
            "linecolor": "white",
            "ticks": ""
           }
          },
          "title": {
           "x": 0.05
          },
          "xaxis": {
           "automargin": true,
           "gridcolor": "white",
           "linecolor": "white",
           "ticks": "",
           "title": {
            "standoff": 15
           },
           "zerolinecolor": "white",
           "zerolinewidth": 2
          },
          "yaxis": {
           "automargin": true,
           "gridcolor": "white",
           "linecolor": "white",
           "ticks": "",
           "title": {
            "standoff": 15
           },
           "zerolinecolor": "white",
           "zerolinewidth": 2
          }
         }
        },
        "title": {
         "text": "Зависимость сжимаемости от давления"
        },
        "xaxis": {
         "title": {
          "text": "Давление, атм"
         }
        },
        "yaxis": {
         "title": {
          "text": "Сжимаемость, 1/атм"
         }
        }
       }
      },
      "text/html": [
       "<div>                            <div id=\"c5753079-6432-4aba-a5ea-e64f4d53d37b\" class=\"plotly-graph-div\" style=\"height:525px; width:100%;\"></div>            <script type=\"text/javascript\">                require([\"plotly\"], function(Plotly) {                    window.PLOTLYENV=window.PLOTLYENV || {};                                    if (document.getElementById(\"c5753079-6432-4aba-a5ea-e64f4d53d37b\")) {                    Plotly.newPlot(                        \"c5753079-6432-4aba-a5ea-e64f4d53d37b\",                        [{\"hoverinfo\":\"x+y\",\"name\":\"$$C_o(T=70^0 C)$$\",\"type\":\"scatter\",\"x\":[1,2,3,4,5,6,7,8,9,10,11,12,13,14,15,16,17,18,19,20,21,22,23,24,25,26,27,28,29,30,31,32,33,34,35,36,37,38,39,40,41,42,43,44,45,46,47,48,49,50,51,52,53,54,55,56,57,58,59,60,61,62,63,64,65,66,67,68,69,70,71,72,73,74,75,76,77,78,79,80,81,82,83,84,85,86,87,88,89,90,91,92,93,94,95,96,97,98,99,100,101,102,103,104,105,106,107,108,109,110,111],\"y\":[0.010252811023249153,0.005127966413123402,0.0034198025059545708,0.0025657833096116855,0.002053411499164292,0.0017118579308768559,0.0014679115624110905,0.001284967616032736,0.0011426905277676406,0.001028879219469282,0.0009357695378953548,0.0008581854959482031,0.0007925437990692214,0.000736285010075909,0.0006875322522655398,0.0006448779015187389,0.0006072455652901273,0.0005737980697819181,0.000543874504616678,0.0005169461546869176,0.0004925850233226989,0.0004704409403570276,0.0004502246422295657,0.00043169508223804136,0.000414649786462491,0.0003989174353487882,0.00038435209391022614,0.0003708286783786859,0.0003582393608413706,0.00034649069299156406,0.00033550128660639973,0.00032519992896254743,0.00031552404092624733,0.0003064184071638824,0.00029783412404639866,0.00028972772291612094,0.0002820604355375853,0.0002747975755391955,0.0002679080150256808,0.00026136373970550407,0.00025513946912743003,0.000249212331174056,0.00024356158197921208,0.00023816836404223004,0.0002330154965969399,0.00022808729332672342,0.00022336940335251047,0.00021884867209949623,0.00021451301920254328,0.00021035133106466552,0.00020635336605722213,0.0002025096706599132,0.0001988115050955719,0.0001952507772288407,0.00019181998367686766,0.00018851215723043971,0.00018532081981051144,0.0001822399402920017,0.00017926389661732803,0.0001763874416991572,0.00017360567267750245,0.00017091400315240679,0.00016830813806155873,0.00016578405091351807,0.00016333796312284192,0.00016096632522415695,0.0001586657997688468,0.00015643324573112377,0.00015426570427033967,0.00015216038571389567,0.00015011465764039477,0.00014812603395605517,0.00014619216486912794,0.0001443108276773608,0.00014247991829261425,0.0001406974434347242,0.00013896151343376198,0.00013727033558608504,0.0001356222080151,0.00013401551399256956,0.00013244871668065776,0.00013092035425879062,0.00012942903540287277,0.00012797343508749352,0.0001265522906845176,0.00012516439833393315,0.00012380860956504706,0.00012248382814811128,0.00012118900715825181,0.00011992314623518624,0.00011868528902366609,0.00011747452078089048,0.00011628996613832185,0.00011513078700640288,0.0001139961806116432,0.00011288537765642263,0.00011179764059265279,0.00011073226200116326,0.00010968856306933496,0.00010866589216010246,0.00010766362346599101,0.00010668115574235207,0.00010571791111441273,0.00010477333395317109,0.00010384688981554555,0.00010293806444453523,0.00010204636282546338,0.00010117130829466929,0.00010031244169727843,9.946932059092815e-05,9.864151849254922e-05]},{\"hoverinfo\":\"x+y\",\"name\":\"$$C_o(T=90^0 C)$$\",\"type\":\"scatter\",\"x\":[1,2,3,4,5,6,7,8,9,10,11,12,13,14,15,16,17,18,19,20,21,22,23,24,25,26,27,28,29,30,31,32,33,34,35,36,37,38,39,40,41,42,43,44,45,46,47,48,49,50,51,52,53,54,55,56,57,58,59,60,61,62,63,64,65,66,67,68,69,70,71,72,73,74,75,76,77,78,79,80,81,82,83,84,85,86,87,88,89,90,91,92,93,94,95,96,97,98,99,100,101,102,103,104,105,106,107,108,109,110,111],\"y\":[0.01953640955997953,0.009769679760305168,0.0065142143149329295,0.004886540894961285,0.003909974364610488,0.003258956128325692,0.0027939624418630428,0.002445232135612477,0.002174009404570549,0.001957041011648134,0.001779529602233981,0.0016316103819840099,0.001506453954549607,0.0013991822353686544,0.001306218003910315,0.0012248783763451764,0.0011531117601004419,0.0010893224913449448,0.0010322508508826386,0.0009808890758248423,0.0009344213683224567,0.0008921802658432569,0.0008536143933326473,0.0008182642774982967,0.000785743965792301,0.0007557268872643474,0.0007279348555241062,0.0007021294282723577,0.0006781050545638342,0.0006556835926565867,0.000634709888954525,0.000615048185924215,0.0005965791831391216,0.0005791976169808478,0.0005628102552635315,0.0005473342260999189,0.0005326956177725871,0.0005188282996869911,0.0005056729247238922,0.0004931760812453629,0.00048128956920300806,0.0004699697796640611,0.0004591771609193591,0.0004488757573983511,0.0004390328100652238,0.0004296184089399923,0.0004206051899809895,0.00041196806985913895,0.00040368401321069867,0.0003957318278213088,0.00038809198390748215,0.0003807464542515174,0.00037367857243549127,0.0003668729068280526,0.00036031514831902606,0.0003539920100832703,0.00034789113789644586,0.00034200102972912436,0.0003363109635183654,0.0003308109321626754,0.0003254915849113932,0.0003203441744265131,0.00031536050888664055,0.00031053290858156776,0.0003058541665138366,0.00030131751258228033,0.00029691658097328737,0.0002926453804295597,0.0002884982671044289,0.0002844699197431577,0.0002805553169617926,0.0002767497164196242,0.000273048635703667,0.00026944783476319734,0.00026594329974966984,0.00026253122813256,0.00025920801497513076,0.00025597024026602133,0.0002528146572130966,0.00024973818141535306,0.0002467378808369955,0.00024381096651519932,0.00024095478393967778,0.00023816680504806683,0.00023544462078640662,0.00023278593418872258,0.00023018855393393365,0.000227650388342117,0.00022516943977556956,0.00022274379941317868,0.0002203716423693848,0.0002180512231315141,0.00021578087129151528,0.00021355898755017554,0.0002113840399737358,0.00020925456048450044,0.00020716914156855196,0.0002051264331850634,0.0002031251398629519,0.00020116401797175786,0.0001992418731546744,0.00019735755791259728,0.0001955099693289312,0.00019369804692567698,0.00019192077064204724,0.00019017715892751783,0.0001884662669418278,0.00018678718485499546,0.00018513903624092675,0.00018352097655865903,0.0001819321917157138]}],                        {\"legend\":{\"orientation\":\"h\",\"x\":0.5,\"xanchor\":\"center\"},\"margin\":{\"b\":0,\"l\":0,\"r\":0,\"t\":30},\"template\":{\"data\":{\"bar\":[{\"error_x\":{\"color\":\"#2a3f5f\"},\"error_y\":{\"color\":\"#2a3f5f\"},\"marker\":{\"line\":{\"color\":\"#E5ECF6\",\"width\":0.5},\"pattern\":{\"fillmode\":\"overlay\",\"size\":10,\"solidity\":0.2}},\"type\":\"bar\"}],\"barpolar\":[{\"marker\":{\"line\":{\"color\":\"#E5ECF6\",\"width\":0.5},\"pattern\":{\"fillmode\":\"overlay\",\"size\":10,\"solidity\":0.2}},\"type\":\"barpolar\"}],\"carpet\":[{\"aaxis\":{\"endlinecolor\":\"#2a3f5f\",\"gridcolor\":\"white\",\"linecolor\":\"white\",\"minorgridcolor\":\"white\",\"startlinecolor\":\"#2a3f5f\"},\"baxis\":{\"endlinecolor\":\"#2a3f5f\",\"gridcolor\":\"white\",\"linecolor\":\"white\",\"minorgridcolor\":\"white\",\"startlinecolor\":\"#2a3f5f\"},\"type\":\"carpet\"}],\"choropleth\":[{\"colorbar\":{\"outlinewidth\":0,\"ticks\":\"\"},\"type\":\"choropleth\"}],\"contour\":[{\"colorbar\":{\"outlinewidth\":0,\"ticks\":\"\"},\"colorscale\":[[0.0,\"#0d0887\"],[0.1111111111111111,\"#46039f\"],[0.2222222222222222,\"#7201a8\"],[0.3333333333333333,\"#9c179e\"],[0.4444444444444444,\"#bd3786\"],[0.5555555555555556,\"#d8576b\"],[0.6666666666666666,\"#ed7953\"],[0.7777777777777778,\"#fb9f3a\"],[0.8888888888888888,\"#fdca26\"],[1.0,\"#f0f921\"]],\"type\":\"contour\"}],\"contourcarpet\":[{\"colorbar\":{\"outlinewidth\":0,\"ticks\":\"\"},\"type\":\"contourcarpet\"}],\"heatmap\":[{\"colorbar\":{\"outlinewidth\":0,\"ticks\":\"\"},\"colorscale\":[[0.0,\"#0d0887\"],[0.1111111111111111,\"#46039f\"],[0.2222222222222222,\"#7201a8\"],[0.3333333333333333,\"#9c179e\"],[0.4444444444444444,\"#bd3786\"],[0.5555555555555556,\"#d8576b\"],[0.6666666666666666,\"#ed7953\"],[0.7777777777777778,\"#fb9f3a\"],[0.8888888888888888,\"#fdca26\"],[1.0,\"#f0f921\"]],\"type\":\"heatmap\"}],\"heatmapgl\":[{\"colorbar\":{\"outlinewidth\":0,\"ticks\":\"\"},\"colorscale\":[[0.0,\"#0d0887\"],[0.1111111111111111,\"#46039f\"],[0.2222222222222222,\"#7201a8\"],[0.3333333333333333,\"#9c179e\"],[0.4444444444444444,\"#bd3786\"],[0.5555555555555556,\"#d8576b\"],[0.6666666666666666,\"#ed7953\"],[0.7777777777777778,\"#fb9f3a\"],[0.8888888888888888,\"#fdca26\"],[1.0,\"#f0f921\"]],\"type\":\"heatmapgl\"}],\"histogram\":[{\"marker\":{\"pattern\":{\"fillmode\":\"overlay\",\"size\":10,\"solidity\":0.2}},\"type\":\"histogram\"}],\"histogram2d\":[{\"colorbar\":{\"outlinewidth\":0,\"ticks\":\"\"},\"colorscale\":[[0.0,\"#0d0887\"],[0.1111111111111111,\"#46039f\"],[0.2222222222222222,\"#7201a8\"],[0.3333333333333333,\"#9c179e\"],[0.4444444444444444,\"#bd3786\"],[0.5555555555555556,\"#d8576b\"],[0.6666666666666666,\"#ed7953\"],[0.7777777777777778,\"#fb9f3a\"],[0.8888888888888888,\"#fdca26\"],[1.0,\"#f0f921\"]],\"type\":\"histogram2d\"}],\"histogram2dcontour\":[{\"colorbar\":{\"outlinewidth\":0,\"ticks\":\"\"},\"colorscale\":[[0.0,\"#0d0887\"],[0.1111111111111111,\"#46039f\"],[0.2222222222222222,\"#7201a8\"],[0.3333333333333333,\"#9c179e\"],[0.4444444444444444,\"#bd3786\"],[0.5555555555555556,\"#d8576b\"],[0.6666666666666666,\"#ed7953\"],[0.7777777777777778,\"#fb9f3a\"],[0.8888888888888888,\"#fdca26\"],[1.0,\"#f0f921\"]],\"type\":\"histogram2dcontour\"}],\"mesh3d\":[{\"colorbar\":{\"outlinewidth\":0,\"ticks\":\"\"},\"type\":\"mesh3d\"}],\"parcoords\":[{\"line\":{\"colorbar\":{\"outlinewidth\":0,\"ticks\":\"\"}},\"type\":\"parcoords\"}],\"pie\":[{\"automargin\":true,\"type\":\"pie\"}],\"scatter\":[{\"marker\":{\"colorbar\":{\"outlinewidth\":0,\"ticks\":\"\"}},\"type\":\"scatter\"}],\"scatter3d\":[{\"line\":{\"colorbar\":{\"outlinewidth\":0,\"ticks\":\"\"}},\"marker\":{\"colorbar\":{\"outlinewidth\":0,\"ticks\":\"\"}},\"type\":\"scatter3d\"}],\"scattercarpet\":[{\"marker\":{\"colorbar\":{\"outlinewidth\":0,\"ticks\":\"\"}},\"type\":\"scattercarpet\"}],\"scattergeo\":[{\"marker\":{\"colorbar\":{\"outlinewidth\":0,\"ticks\":\"\"}},\"type\":\"scattergeo\"}],\"scattergl\":[{\"marker\":{\"colorbar\":{\"outlinewidth\":0,\"ticks\":\"\"}},\"type\":\"scattergl\"}],\"scattermapbox\":[{\"marker\":{\"colorbar\":{\"outlinewidth\":0,\"ticks\":\"\"}},\"type\":\"scattermapbox\"}],\"scatterpolar\":[{\"marker\":{\"colorbar\":{\"outlinewidth\":0,\"ticks\":\"\"}},\"type\":\"scatterpolar\"}],\"scatterpolargl\":[{\"marker\":{\"colorbar\":{\"outlinewidth\":0,\"ticks\":\"\"}},\"type\":\"scatterpolargl\"}],\"scatterternary\":[{\"marker\":{\"colorbar\":{\"outlinewidth\":0,\"ticks\":\"\"}},\"type\":\"scatterternary\"}],\"surface\":[{\"colorbar\":{\"outlinewidth\":0,\"ticks\":\"\"},\"colorscale\":[[0.0,\"#0d0887\"],[0.1111111111111111,\"#46039f\"],[0.2222222222222222,\"#7201a8\"],[0.3333333333333333,\"#9c179e\"],[0.4444444444444444,\"#bd3786\"],[0.5555555555555556,\"#d8576b\"],[0.6666666666666666,\"#ed7953\"],[0.7777777777777778,\"#fb9f3a\"],[0.8888888888888888,\"#fdca26\"],[1.0,\"#f0f921\"]],\"type\":\"surface\"}],\"table\":[{\"cells\":{\"fill\":{\"color\":\"#EBF0F8\"},\"line\":{\"color\":\"white\"}},\"header\":{\"fill\":{\"color\":\"#C8D4E3\"},\"line\":{\"color\":\"white\"}},\"type\":\"table\"}]},\"layout\":{\"annotationdefaults\":{\"arrowcolor\":\"#2a3f5f\",\"arrowhead\":0,\"arrowwidth\":1},\"autotypenumbers\":\"strict\",\"coloraxis\":{\"colorbar\":{\"outlinewidth\":0,\"ticks\":\"\"}},\"colorscale\":{\"diverging\":[[0,\"#8e0152\"],[0.1,\"#c51b7d\"],[0.2,\"#de77ae\"],[0.3,\"#f1b6da\"],[0.4,\"#fde0ef\"],[0.5,\"#f7f7f7\"],[0.6,\"#e6f5d0\"],[0.7,\"#b8e186\"],[0.8,\"#7fbc41\"],[0.9,\"#4d9221\"],[1,\"#276419\"]],\"sequential\":[[0.0,\"#0d0887\"],[0.1111111111111111,\"#46039f\"],[0.2222222222222222,\"#7201a8\"],[0.3333333333333333,\"#9c179e\"],[0.4444444444444444,\"#bd3786\"],[0.5555555555555556,\"#d8576b\"],[0.6666666666666666,\"#ed7953\"],[0.7777777777777778,\"#fb9f3a\"],[0.8888888888888888,\"#fdca26\"],[1.0,\"#f0f921\"]],\"sequentialminus\":[[0.0,\"#0d0887\"],[0.1111111111111111,\"#46039f\"],[0.2222222222222222,\"#7201a8\"],[0.3333333333333333,\"#9c179e\"],[0.4444444444444444,\"#bd3786\"],[0.5555555555555556,\"#d8576b\"],[0.6666666666666666,\"#ed7953\"],[0.7777777777777778,\"#fb9f3a\"],[0.8888888888888888,\"#fdca26\"],[1.0,\"#f0f921\"]]},\"colorway\":[\"#636efa\",\"#EF553B\",\"#00cc96\",\"#ab63fa\",\"#FFA15A\",\"#19d3f3\",\"#FF6692\",\"#B6E880\",\"#FF97FF\",\"#FECB52\"],\"font\":{\"color\":\"#2a3f5f\"},\"geo\":{\"bgcolor\":\"white\",\"lakecolor\":\"white\",\"landcolor\":\"#E5ECF6\",\"showlakes\":true,\"showland\":true,\"subunitcolor\":\"white\"},\"hoverlabel\":{\"align\":\"left\"},\"hovermode\":\"closest\",\"mapbox\":{\"style\":\"light\"},\"paper_bgcolor\":\"white\",\"plot_bgcolor\":\"#E5ECF6\",\"polar\":{\"angularaxis\":{\"gridcolor\":\"white\",\"linecolor\":\"white\",\"ticks\":\"\"},\"bgcolor\":\"#E5ECF6\",\"radialaxis\":{\"gridcolor\":\"white\",\"linecolor\":\"white\",\"ticks\":\"\"}},\"scene\":{\"xaxis\":{\"backgroundcolor\":\"#E5ECF6\",\"gridcolor\":\"white\",\"gridwidth\":2,\"linecolor\":\"white\",\"showbackground\":true,\"ticks\":\"\",\"zerolinecolor\":\"white\"},\"yaxis\":{\"backgroundcolor\":\"#E5ECF6\",\"gridcolor\":\"white\",\"gridwidth\":2,\"linecolor\":\"white\",\"showbackground\":true,\"ticks\":\"\",\"zerolinecolor\":\"white\"},\"zaxis\":{\"backgroundcolor\":\"#E5ECF6\",\"gridcolor\":\"white\",\"gridwidth\":2,\"linecolor\":\"white\",\"showbackground\":true,\"ticks\":\"\",\"zerolinecolor\":\"white\"}},\"shapedefaults\":{\"line\":{\"color\":\"#2a3f5f\"}},\"ternary\":{\"aaxis\":{\"gridcolor\":\"white\",\"linecolor\":\"white\",\"ticks\":\"\"},\"baxis\":{\"gridcolor\":\"white\",\"linecolor\":\"white\",\"ticks\":\"\"},\"bgcolor\":\"#E5ECF6\",\"caxis\":{\"gridcolor\":\"white\",\"linecolor\":\"white\",\"ticks\":\"\"}},\"title\":{\"x\":0.05},\"xaxis\":{\"automargin\":true,\"gridcolor\":\"white\",\"linecolor\":\"white\",\"ticks\":\"\",\"title\":{\"standoff\":15},\"zerolinecolor\":\"white\",\"zerolinewidth\":2},\"yaxis\":{\"automargin\":true,\"gridcolor\":\"white\",\"linecolor\":\"white\",\"ticks\":\"\",\"title\":{\"standoff\":15},\"zerolinecolor\":\"white\",\"zerolinewidth\":2}}},\"title\":{\"text\":\"\\u0417\\u0430\\u0432\\u0438\\u0441\\u0438\\u043c\\u043e\\u0441\\u0442\\u044c \\u0441\\u0436\\u0438\\u043c\\u0430\\u0435\\u043c\\u043e\\u0441\\u0442\\u0438 \\u043e\\u0442 \\u0434\\u0430\\u0432\\u043b\\u0435\\u043d\\u0438\\u044f\"},\"xaxis\":{\"title\":{\"text\":\"\\u0414\\u0430\\u0432\\u043b\\u0435\\u043d\\u0438\\u0435, \\u0430\\u0442\\u043c\"}},\"yaxis\":{\"title\":{\"text\":\"\\u0421\\u0436\\u0438\\u043c\\u0430\\u0435\\u043c\\u043e\\u0441\\u0442\\u044c, 1/\\u0430\\u0442\\u043c\"}}},                        {\"responsive\": true}                    ).then(function(){\n",
       "                            \n",
       "var gd = document.getElementById('c5753079-6432-4aba-a5ea-e64f4d53d37b');\n",
       "var x = new MutationObserver(function (mutations, observer) {{\n",
       "        var display = window.getComputedStyle(gd).display;\n",
       "        if (!display || display === 'none') {{\n",
       "            console.log([gd, 'removed!']);\n",
       "            Plotly.purge(gd);\n",
       "            observer.disconnect();\n",
       "        }}\n",
       "}});\n",
       "\n",
       "// Listen for the removal of the full notebook cells\n",
       "var notebookContainer = gd.closest('#notebook-container');\n",
       "if (notebookContainer) {{\n",
       "    x.observe(notebookContainer, {childList: true});\n",
       "}}\n",
       "\n",
       "// Listen for the clearing of the current output cell\n",
       "var outputEl = gd.closest('.output');\n",
       "if (outputEl) {{\n",
       "    x.observe(outputEl, {childList: true});\n",
       "}}\n",
       "\n",
       "                        })                };                });            </script>        </div>"
      ]
     },
     "metadata": {},
     "output_type": "display_data"
    }
   ],
   "source": [
    "fig2 = go.Figure()\n",
    "\n",
    "fig2.add_trace(go.Scatter(x=p_list, y=co_70, name='$$C_o(T=70^0 C)$$'))\n",
    "fig2.add_trace(go.Scatter(x=p_list, y=co_90, name='$$C_o(T=90^0 C)$$'))\n",
    "fig2.update_layout(legend_orientation=\"h\",\n",
    "                  legend=dict(x=.5, xanchor=\"center\"),\n",
    "                  title=\"Зависимость сжимаемости от давления\",\n",
    "                  xaxis_title=\"Давление, атм\",\n",
    "                  yaxis_title=\"Сжимаемость, 1/атм\",\n",
    "                  margin=dict(l=0, r=0, t=30, b=0))\n",
    "fig2.update_traces(hoverinfo=\"x+y\")\n",
    "fig2.show()\n"
   ]
  },
  {
   "cell_type": "markdown",
   "id": "19654135",
   "metadata": {},
   "source": [
    "**Сравнение вязкости и давление насыщения с данными по месторождению №1 из тех.режима показывает, что расчет в целом верен, значения имеют один порядок, но условия на месторождение(низкая температура) и недостаток данных по месторождению не позволяют провести расчет по данным из тех.режима.**"
   ]
  },
  {
   "cell_type": "code",
   "execution_count": null,
   "id": "3b0c4fcf",
   "metadata": {},
   "outputs": [],
   "source": []
  }
 ],
 "metadata": {
  "kernelspec": {
   "display_name": "Python 3",
   "language": "python",
   "name": "python3"
  },
  "language_info": {
   "codemirror_mode": {
    "name": "ipython",
    "version": 3
   },
   "file_extension": ".py",
   "mimetype": "text/x-python",
   "name": "python",
   "nbconvert_exporter": "python",
   "pygments_lexer": "ipython3",
   "version": "3.8.8"
  }
 },
 "nbformat": 4,
 "nbformat_minor": 5
}
