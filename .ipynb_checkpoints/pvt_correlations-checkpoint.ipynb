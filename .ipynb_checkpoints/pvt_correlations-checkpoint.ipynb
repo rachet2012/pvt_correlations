{
 "cells": [
  {
   "cell_type": "code",
   "execution_count": 2,
   "id": "4dcad748",
   "metadata": {},
   "outputs": [
    {
     "name": "stdout",
     "output_type": "stream",
     "text": [
      "56.564085705371255\n"
     ]
    }
   ],
   "source": [
    "import math as m\n",
    "\n",
    "\n",
    "def Solution_GOR(Pb,Yg,T,API,Ygpsp,Tsp,Psp):\n",
    "    if API <=10:\n",
    "        Rs=Yg*(Pb/10.7025*10**(0.0169*API-0.00156*T))**1.1128\n",
    "        return Rs\n",
    "    elif 10< API <=22.3:\n",
    "        Ygcorr=Ygpsp*(1+0.5912*API*Tsp*m.log10(Psp/114.7)*10**(-4))\n",
    "        Rs=Ygcorr*Pb**(1.2057)/56.434*10.9267*(API/(T+460))\n",
    "        return Rs\n",
    "    else:\n",
    "        return 'Корреляция не подходит для данного значения плотности'\n",
    "\n",
    "print(Solution_GOR(2503.39,0.696,147.9,22,0.679,131.0,58.02))"
   ]
  },
  {
   "cell_type": "markdown",
   "id": "bfa4d319",
   "metadata": {},
   "source": [
    "# первая функция"
   ]
  },
  {
   "cell_type": "code",
   "execution_count": 3,
   "id": "008c80f7",
   "metadata": {},
   "outputs": [
    {
     "ename": "ModuleNotFoundError",
     "evalue": "No module named 'plotly'",
     "output_type": "error",
     "traceback": [
      "\u001b[1;31m---------------------------------------------------------------------------\u001b[0m",
      "\u001b[1;31mModuleNotFoundError\u001b[0m                       Traceback (most recent call last)",
      "\u001b[1;32m<ipython-input-3-9d5bdef49fab>\u001b[0m in \u001b[0;36m<module>\u001b[1;34m\u001b[0m\n\u001b[1;32m----> 1\u001b[1;33m \u001b[1;32mimport\u001b[0m \u001b[0mplotly\u001b[0m\u001b[1;33m.\u001b[0m\u001b[0mexpress\u001b[0m \u001b[1;32mas\u001b[0m \u001b[0mpx\u001b[0m\u001b[1;33m\u001b[0m\u001b[1;33m\u001b[0m\u001b[0m\n\u001b[0m\u001b[0;32m      2\u001b[0m \u001b[0mfig\u001b[0m \u001b[1;33m=\u001b[0m \u001b[0mpx\u001b[0m\u001b[1;33m.\u001b[0m\u001b[0mscatter\u001b[0m\u001b[1;33m(\u001b[0m\u001b[0mx\u001b[0m\u001b[1;33m=\u001b[0m\u001b[1;33m[\u001b[0m\u001b[1;36m0\u001b[0m\u001b[1;33m,\u001b[0m \u001b[1;36m1\u001b[0m\u001b[1;33m,\u001b[0m \u001b[1;36m2\u001b[0m\u001b[1;33m,\u001b[0m \u001b[1;36m3\u001b[0m\u001b[1;33m,\u001b[0m \u001b[1;36m4\u001b[0m\u001b[1;33m]\u001b[0m\u001b[1;33m,\u001b[0m \u001b[0my\u001b[0m\u001b[1;33m=\u001b[0m\u001b[1;33m[\u001b[0m\u001b[1;36m0\u001b[0m\u001b[1;33m,\u001b[0m \u001b[1;36m1\u001b[0m\u001b[1;33m,\u001b[0m \u001b[1;36m4\u001b[0m\u001b[1;33m,\u001b[0m \u001b[1;36m9\u001b[0m\u001b[1;33m,\u001b[0m \u001b[1;36m16\u001b[0m\u001b[1;33m]\u001b[0m\u001b[1;33m)\u001b[0m\u001b[1;33m\u001b[0m\u001b[1;33m\u001b[0m\u001b[0m\n\u001b[0;32m      3\u001b[0m \u001b[0mfig\u001b[0m\u001b[1;33m.\u001b[0m\u001b[0mshow\u001b[0m\u001b[1;33m(\u001b[0m\u001b[1;33m)\u001b[0m\u001b[1;33m\u001b[0m\u001b[1;33m\u001b[0m\u001b[0m\n",
      "\u001b[1;31mModuleNotFoundError\u001b[0m: No module named 'plotly'"
     ]
    }
   ],
   "source": [
    "import plotly.express as px\n",
    "fig = px.scatter(x=[0, 1, 2, 3, 4], y=[0, 1, 4, 9, 16])\n",
    "fig.show()"
   ]
  },
  {
   "cell_type": "code",
   "execution_count": 4,
   "id": "3e900139",
   "metadata": {},
   "outputs": [
    {
     "name": "stdout",
     "output_type": "stream",
     "text": [
      "2487.608133131323\n"
     ]
    }
   ],
   "source": [
    "def Bubblepoint_P_HO(Rs,Yg,T,API) :\n",
    "    Pb=15.7286*((Rs/Yg)**0.7885)*10**(0.0020*T-0.0142*API)\n",
    "    return Pb\n",
    "\n",
    "\n",
    "print(Bubblepoint_P_HO(231.46,0.696,147.9,6.0))"
   ]
  },
  {
   "cell_type": "code",
   "execution_count": null,
   "id": "843f2281",
   "metadata": {},
   "outputs": [],
   "source": []
  }
 ],
 "metadata": {
  "kernelspec": {
   "display_name": "Python 3",
   "language": "python",
   "name": "python3"
  },
  "language_info": {
   "codemirror_mode": {
    "name": "ipython",
    "version": 3
   },
   "file_extension": ".py",
   "mimetype": "text/x-python",
   "name": "python",
   "nbconvert_exporter": "python",
   "pygments_lexer": "ipython3",
   "version": "3.8.8"
  }
 },
 "nbformat": 4,
 "nbformat_minor": 5
}
