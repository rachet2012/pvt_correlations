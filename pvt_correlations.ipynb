{
 "cells": [
  {
   "cell_type": "code",
   "execution_count": 1,
   "id": "d7954f03",
   "metadata": {},
   "outputs": [
    {
     "name": "stdout",
     "output_type": "stream",
     "text": [
      "Корреляция не подходит для данного значения плотности\n"
     ]
    }
   ],
   "source": [
    "import math as m\n",
    "\n",
    "\n",
    "def Solution_GOR(Pb,Yg,T,API,Ygpsp,Tsp,Psp):\n",
    "    if API <=10:\n",
    "        Rs=Yg*(Pb/10.7025*10**(0.0169*API-0.00156*T))**1.1128\n",
    "        return Rs\n",
    "    elif 10< API <=22.3:\n",
    "        Ygcorr=Ygpsp*(1+0.5912*API*Tsp*m.log10(Psp/114.7)*10**(-4))\n",
    "        Rs=Ygcorr*Pb**(1.2057)/56.434*10.9267*(API/(T+460))\n",
    "        return Rs\n",
    "    else:\n",
    "        return 'Корреляция не подходит для данного значения плотности'\n",
    "\n",
    "print(Solution_GOR(2503.39,0.696,147.9,22,0.679,131.0,58.02))"
   ]
  },
  {
   "cell_type": "code",
   "execution_count": null,
   "id": "7600b1a0",
   "metadata": {},
   "outputs": [],
   "source": []
  }
 ],
 "metadata": {
  "kernelspec": {
   "display_name": "Python 3",
   "language": "python",
   "name": "python3"
  },
  "language_info": {
   "codemirror_mode": {
    "name": "ipython",
    "version": 3
   },
   "file_extension": ".py",
   "mimetype": "text/x-python",
   "name": "python",
   "nbconvert_exporter": "python",
   "pygments_lexer": "ipython3",
   "version": "3.8.8"
  }
 },
 "nbformat": 4,
 "nbformat_minor": 5
}
