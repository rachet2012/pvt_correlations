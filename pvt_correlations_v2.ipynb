{
 "cells": [
  {
   "cell_type": "markdown",
   "id": "a11bec9c",
   "metadata": {},
   "source": [
    "# Корелляции  \n",
    "\n",
    "Задача: \n",
    "\n",
    "**№1.** Используя язык Python, необходимо запрогроммировать модифицированные корреляции для тяжелых и сверхтяжелых нефтей. \n",
    "\n",
    "**№2** Построить зависимости вязкости газонасыщенной нефти, газосодержания, сжимаемости и пластовой температуры для различных температур. Исходные данные: газовый фактор, пластовая температура, относительная плотность нефти, относительная плотность газа, давление в сепараторе.\n",
    "\n",
    "## Границы применимости корреляций\n",
    "\n",
    "\n",
    "  \n",
    "  \n",
    "| Параметр      | Обозначение              | Значение | Размерность |\n",
    "| :------------- |:------------------:| :-----:| :---------:|\n",
    "| Плотность нефти     | $$SG$$   | [0.920;1.029] | $$$$ |\n",
    "| Пластовое давление   | $$P_r$$ |  [70.63;504.29] | $$atm$$  |\n",
    "| Пластовая температура  | $$T_r$$ |  [55.22;121.11] | $$C^0$$  |\n",
    "| Газосодержание нефти в пластовых условиях    | $$R_s$$   | [3.07;114.03] | $$\\frac{m^3}{m^3}$$ |\n",
    "| Давление насыщения   | $$P_b$$   | [14.15;273.61] | $$atm$$ |\n",
    "| Давление в сепараторе  | $$P_{sp}$$   | [0.95;51.17] | $$atm$$ |\n",
    "| Температура в сепараторе  | $$T_{sp}$$   | [15;85.56] | $$C^0$$ |\n",
    "| Газосодержание в сепараторе     | $$R_{sp}$$   | [1.98;102.52] | $$\\frac{m^3}{m^3}$$ |\n",
    "| Газосодержание в поверхностных условиях     | $$R_{st}$$   | [0.78;55.46] | $$\\frac{m^3}{m^3}$$ | \n",
    "| Относительная плотность газа на поверхности     | $$\\gamma_{g}$$   | [0.623;1.517] | $$$$ |\n",
    "| Относительная плотность газа в сепараторе     | $$\\gamma_{Psp}$$   | [0.623;1.517] | $$$$ |\n",
    "| Мольная концентрация углекислого газа     | $$YCO2$$   | [0.5;98.8] | _%mol._ |\n",
    "| Мольная концентрация азота    | $$YN2$$   | [0;63.32] | _%mol._ |\n",
    "| Мольная концентрация сероводорода    | $$YH2S$$   | [0;1.99] | _%mol._ |\n",
    "| Объемный коэффициент нефти   | $$OFVF$$   | [1.057;1.362] | $$\\frac{m^3}{m^3}$$ |\n",
    "| Cжимаемость нефти    | $$C_o$$   | [44.38;630.46] |  $${atm}^{-1} \\bullet 10^6$$ |\n",
    "| Вязкость дегазированной нефти    | $$ \\mu_{od}$$   | [7.7;1386.9] | $$cp$$ |\n",
    "| Вязкость насыщенной нефти    | $$ \\mu_{ol}$$   | [2.1;295.9] | $$cp$$ |\n",
    "| Вязкость недонасыщенной нефти    | $$ \\mu_{o}$$   | [2.4;354.6] | $$cp$$ |\n",
    "\n",
    "\n",
    "\n",
    "Классификация нефтей:\n",
    "\n",
    "Тяжелые нефти ($ 0.920 < SG  \\le 1 $)\n",
    "\n",
    "Сверхтяжелые ($ SG  > 1 $)\n",
    "\n",
    "\n"
   ]
  },
  {
   "cell_type": "markdown",
   "id": "12a086ef",
   "metadata": {},
   "source": [
    "## Пункт №1\n",
    "\n",
    "**Прогроммируем модифицированные корреляции:**\n",
    "\n",
    "1.Для вычисления давления насыщения в работе используется **Moddified Standing's correlation**:\n",
    "\n",
    "$$P_b=15.7286\\bullet \\left[ (\\frac{R_s}{\\gamma_g}) \\bullet \\frac{10^{0.0020\\bullet T}}{10^{0.0142\\bullet API}} \\right]$$\n",
    "\n",
    "Корреляция применима для тяжелых нефтей ($ 0.920 < SG  \\le 1 $)."
   ]
  },
  {
   "cell_type": "code",
   "execution_count": 2,
   "id": "90563dc3",
   "metadata": {},
   "outputs": [
    {
     "name": "stdout",
     "output_type": "stream",
     "text": [
      "2112.4282561966543\n"
     ]
    }
   ],
   "source": [
    "def Bubblepoint_P_HO(Rs, Yg, T, API):\n",
    "    if 10 < API <= 22.3:\n",
    "        Pb = 15.7286*((Rs/Yg)**0.7885)*10**(0.0020*T-0.0142*API)\n",
    "        return Pb\n",
    "    \n",
    "    else:\n",
    "        return 'Корреляция не подходит для данного значения плотности'\n",
    "\n",
    "\n",
    "print(Bubblepoint_P_HO(231.46,0.696,147.9,11.0))"
   ]
  },
  {
   "cell_type": "markdown",
   "id": "8bba2ab0",
   "metadata": {},
   "source": [
    "2.Газонасыщенность:\n",
    ">Cверхтяжелых нефтей вычисляют с помощью **Modified Standing's correlation**:\n",
    "$$R_s=\\gamma_g\\bullet \\left(\\frac{P_b}{10.7025}\\bullet10^{(0.0169\\bullet API-0.00156\\bullet T)}\\right)^{1.1128} $$\n",
    ">Тяжелых нефтей с помощью **Modifiend Vasquez-Beggs correlation**:\n",
    "$$R_s= \\frac{\\gamma_{gcorr} \\bullet P_b^{1.2057}}{56.434}\\bullet 10^{10.9267\\bullet API/(T+460)}$$\n",
    ">Где:\n",
    "$$\\gamma_{gcorr}=\\gamma_{gPsp} \\bullet \\left[1+0.5912 \\bullet API \\bullet T_{sp} \\bullet Log(\\frac{P_{sp}}{114.7})10^{-4} \\right]$$"
   ]
  },
  {
   "cell_type": "code",
   "execution_count": 3,
   "id": "8a7e6af9",
   "metadata": {},
   "outputs": [
    {
     "name": "stdout",
     "output_type": "stream",
     "text": [
      "56.564085705371255\n"
     ]
    }
   ],
   "source": [
    "import math as m\n",
    "\n",
    "\n",
    "def Solution_GOR(Pb, Yg, T, API, Ygpsp, Tsp, Psp):\n",
    "    if API <= 10:\n",
    "        Rs = Yg*(Pb/10.7025*10**(0.0169*API-0.00156*T))**1.1128\n",
    "        return Rs\n",
    "    \n",
    "    elif 10 < API <= 22.3:\n",
    "        Ygcorr = Ygpsp*(1+0.5912*API*Tsp*m.log10(Psp/114.7)*10**(-4))\n",
    "        Rs = Ygcorr*Pb**(1.2057)/56.434*10.9267*(API/(T+460))\n",
    "        return Rs\n",
    "    \n",
    "    else:\n",
    "        return 'Корреляция не подходит для данного значения плотности'\n",
    "\n",
    "print(Solution_GOR(2503.39,0.696,147.9,22,0.679,131.0,58.02))"
   ]
  },
  {
   "cell_type": "markdown",
   "id": "ca2aa8fc",
   "metadata": {},
   "source": [
    "3.Сжимаемость для сверхтяжелых нефтей вычисляют с помощью **Modifiend Vasquez-Beggs correlation**:\n",
    "$$C_o= \\frac{-889.6+3.1374\\bullet R_s+20 \\bullet T_g-627.3 \\bullet \\gamma_{gcorr}+41.91 \\bullet API}{P_g \\bullet 10^5}$$\n",
    ">Где:\n",
    "$$\\gamma_{gcorr}=\\gamma_{gPsp} \\bullet \\left[1+0.5912 \\bullet API \\bullet T_{sp} \\bullet Log(\\frac{P_{sp}}{114.7})10^{-4} \\right]$$\n",
    "\n",
    "Сжимаемость для тяжелых нефтей вычисляют с помощью **Modifiend Vasquez-Beggs correlation**:\n",
    "$$C_o= \\frac{-2841.8+2.9646\\bullet R_s+25.5439 \\bullet T_g-1230.5 \\bullet \\gamma_{gcorr}+41.91 \\bullet API}{P_g \\bullet 10^5}$$\n",
    ">Где:\n",
    "$$\\gamma_{gcorr}=\\gamma_{gPsp} \\bullet \\left[1+0.5912 \\bullet API \\bullet T_{sp} \\bullet Log(\\frac{P_{sp}}{114.7})10^{-4} \\right]$$"
   ]
  },
  {
   "cell_type": "code",
   "execution_count": 13,
   "id": "3ec2830a",
   "metadata": {
    "scrolled": true
   },
   "outputs": [
    {
     "name": "stdout",
     "output_type": "stream",
     "text": [
      "0.0004103918029077642\n"
     ]
    }
   ],
   "source": [
    "import math as m\n",
    "\n",
    "\n",
    "def Isotherm_Compressibility(Rs, Tg, Pg, API, Ygpsp, Tsp, Psp):\n",
    "    if API <= 10:\n",
    "        Ygcorr = Ygpsp*(1+0.5912*API*Tsp*m.log10(Psp/114.7)*10**(-4))\n",
    "        Co = (-889.6+3.1374*Rs+20*Tg-627.3*Ygcorr-81.4476*API)/(Pg*10**(5))\n",
    "        return Co\n",
    "    \n",
    "    elif 10 < API <=  22.3:\n",
    "        Ygcorr = Ygpsp*(1+0.5912*API*Tsp*m.log10(Psp/114.7)*10**(-4))\n",
    "        Co = (-2841.8+2.9646*Rs+25.5439*Tg-1230.5*Ygcorr+41.91*API)/(Pg*10**(5))\n",
    "        return Co\n",
    "    \n",
    "    else:\n",
    "        return 'Корреляция не подходит для данного значения плотности'\n",
    "\n",
    "print(Isotherm_Compressibility(2503.39,0.696,147.9,6.0,0.679,131.0,58.0))"
   ]
  },
  {
   "cell_type": "markdown",
   "id": "e87ec299",
   "metadata": {},
   "source": [
    "4.Вязкость дегазированной нефти в находят с помощью следующих корреляций:\n",
    ">**Modifiend Egbogah-Jack's correlation** для сверхтяжелых нефтей:\n",
    "$$log\\bullet log(\\mu_{od} +1)=1.90296-0.012619\\bullet API -0.61748 \\bullet log(T_g)$$\n",
    ">**Modifiend Egbogah-Jack's correlation** для тяжелых нефтей:\n",
    "$$log\\bullet log(\\mu_{od} +1)=2.06492-0.0179\\bullet API -0.70226 \\bullet log(T_g)$$"
   ]
  },
  {
   "cell_type": "code",
   "execution_count": 5,
   "id": "4769e2b0",
   "metadata": {},
   "outputs": [
    {
     "name": "stdout",
     "output_type": "stream",
     "text": [
      "1177.646405184529\n"
     ]
    }
   ],
   "source": [
    "def D_visc(API, T):\n",
    "    if API <= 10:\n",
    "        Mod = 10**(10**(1.90296-0.012619*API-0.61748*m.log10(T)))-1\n",
    "        return Mod\n",
    "     \n",
    "    elif 10 < API <= 22.3:\n",
    "        Mod = 10**(10**(2.06492-0.0179*API-0.70226*m.log10(T)))-1\n",
    "        return Mod\n",
    "    \n",
    "    else:\n",
    "        return 'Корреляция не подходит для данного значения плотности'\n",
    "\n",
    "print(D_visc(6.0,147.9))"
   ]
  },
  {
   "cell_type": "markdown",
   "id": "28295eb9",
   "metadata": {},
   "source": [
    "5.Вязкость насыщенной нефти в находят с помощью следующих корреляций:\n",
    ">**Modifiend Kartoatmodjo's correlation** для сверхтяжелых нефтей:\n",
    "$$\\mu_{ol}=2.3945+0.8927\\bullet F+0.001567 \\bullet F^2$$\n",
    "Где\n",
    "$$F= \\left(-0.0335+1.0785\\bullet10^{-0.000845\\bullet R_s}\\right)\\bullet\\mu_{od}^{(0.5798+0.3432\\bullet y)}$$\n",
    "$$y=10^{-0.00081\\bullet R_s}$$\n",
    "$$\\gamma_{gcorr}=\\gamma_{gPsp}\\bullet \\left[1+0.1595\\bullet API^{0.4078} \\bullet (T_{sp})^{-0.2466}\\bullet Log(\\frac{P_{sp}}{114.7})\\right]$$\n",
    "\n",
    "\n",
    ">**Modifiend Kartoatmodjo's correlation** для тяжелых нефтей:\n",
    "$$\\mu_{ol}=-0.6311+1.078\\bullet F-0.003653 \\bullet F^2$$\n",
    "Где\n",
    "$$F= \\left(0.2478+0.6114\\bullet10^{-0.000845\\bullet R_s}\\right)\\bullet\\mu_{od}^{(0.4731+0.5158\\bullet y)}$$\n",
    "$$y=10^{-0.00081\\bullet R_s}$$\n",
    "$$\\gamma_{gcorr}=\\gamma_{gPsp}\\bullet \\left[1+0.1595\\bullet API^{0.4078} \\bullet (T_{sp})^{-0.2466}\\bullet Log(\\frac{P_{sp}}{114.7})\\right]$$"
   ]
  },
  {
   "cell_type": "code",
   "execution_count": 6,
   "id": "7ce69962",
   "metadata": {},
   "outputs": [
    {
     "name": "stdout",
     "output_type": "stream",
     "text": [
      "270.78565954057524\n"
     ]
    }
   ],
   "source": [
    "def G_S_visc(Rs, Mod, API, Ygpsp, Tsp, Psp):\n",
    "    if API <= 10:\n",
    "        Ygcorr = Ygpsp*(1+0.1595*API**(0.4078)*Tsp**(-0.2466)*m.log10(Psp/114.7))\n",
    "        Y = 10**(-0.00081*Rs)\n",
    "        F = (-0.0335+1.0785*10**(-0.000845*Rs))*Mod**(0.5798+0.3432*Y)\n",
    "        Mol = 2.3945+0.8927*F+0.001567*F**2\n",
    "        return Mol\n",
    "    elif 10 < API <= 22.3:\n",
    "        Ygcorr = Ygpsp*(1+0.1595*API**(0.4078)*Tsp**(-0.2466)*m.log10(Psp/114.7))\n",
    "        Y = 10**(-0.00081*Rs)\n",
    "        F = (0.2478+0.6114*10**(-0.000845*Rs))*Mod**(0.4731+0.5158*Y)\n",
    "        Mol = -0.6311+1.078*F-0.003653*F**2\n",
    "        return Mol\n",
    "    else:\n",
    "        return 'Корреляция не подходит для данного значения плотности'\n",
    "\n",
    "print(G_S_visc(231.46,1386.9,6.0,0.679,131.0,58.02))"
   ]
  },
  {
   "cell_type": "markdown",
   "id": "447e88f9",
   "metadata": {},
   "source": [
    "6.Вязкость недонасыщенной нефти в находят с помощью следующих корреляций:\n",
    ">**Modifiend Labedi's correlation** для сверхтяжелых нефтей:\n",
    "$$\\mu_o=\\mu_{ol}-\\left[(1- \\frac{P}{P_b})\\bullet \\left(\\frac{10^{-2.19}\\bullet \\mu_{od}^{1.055}\\bullet P_b^{0.3132}}{10^{0.0099\\bullet API}}\\right)\\right]$$\n",
    "\n",
    "\n",
    "\n",
    ">**Modifiend Kartoatmodjo's correlation** для тяжелых нефтей:\n",
    "$$\\mu_{o}=0.9886\\bullet \\mu_{ol}+0.002763\\bullet(P-P_b)\\bullet(-0.01153\\bullet \\mu_{ol}^{1.7933}+0.0316\\bullet \\mu_{ol}^{1.5939})$$\n",
    "Где\n",
    "\n",
    "$$\\gamma_{gcorr}=\\gamma_{gPsp}\\bullet \\left[1+0.1595\\bullet API^{0.4078} \\bullet (T_{sp})^{-0.2466}\\bullet Log(\\frac{P_{sp}}{114.7})\\right]$$"
   ]
  },
  {
   "cell_type": "code",
   "execution_count": 19,
   "id": "49de45ae",
   "metadata": {},
   "outputs": [
    {
     "name": "stdout",
     "output_type": "stream",
     "text": [
      "305.2112442848726\n"
     ]
    }
   ],
   "source": [
    "def Un_S_visc(Mol, Mod, P, Pb, API, Ygpsp, Tsp, Psp):\n",
    "    if API <= 10:\n",
    "        Mo = Mol-((1-P/Pb)*10**(-2.19)*Mod**(1.055)*Pb**(0.3132)/10**(0.0099)/API)\n",
    "        return Mo\n",
    "    elif 10 < API <= 22.3:\n",
    "        Ygcorr = Ygpsp*(1+0.1595*API**(0.4078)*Tsp**(-0.2466)*m.log10(Psp/114.7))\n",
    "        Mo = 0.9886*Mol+0.002763*(P-Pb)*(-0.01153*Mol**(1.7933)+0.0316*Mol**(1.5939))\n",
    "        return Mo\n",
    "    else:\n",
    "        return 'Корреляция не подходит для данного значения плотности'\n",
    "\n",
    "    \n",
    "Un_S_visc(295.9,1386.9,3428.75,2503.39,6.0,0.679,131.0,58.02)\n",
    "\n",
    "print(Un_S_visc(295.9,1386.9,3428.75,2503.39,6.0,0.679,131.0,58.02))"
   ]
  },
  {
   "cell_type": "markdown",
   "id": "c3971745",
   "metadata": {},
   "source": [
    "**Сравнение результатов расчетов с данными из статьи по образцу №1 показало хорошую сходимость результатов.** "
   ]
  },
  {
   "cell_type": "markdown",
   "id": "3beeab0b",
   "metadata": {},
   "source": [
    "# Пункт №2\n",
    "Построим зависимости для t = 30 °С; 50 °С; 70 °С; 90 °С:\n",
    "\n",
    "𝜇𝑜 = 𝑓(𝑝,𝑡 = 𝑐𝑜𝑛𝑠𝑡); 𝑝𝑏 = 𝑓(𝑝,𝑡 = 𝑐𝑜𝑛𝑠𝑡); 𝑅𝑠 = 𝑓(𝑝,𝑡 = 𝑐𝑜𝑛𝑠𝑡); 𝑐𝑜 = 𝑓(𝑝,𝑡 = 𝑐𝑜𝑛𝑠𝑡)\n",
    "\n",
    "где: 𝜇𝑜 – вязкость газонасыщенной нефти, 𝑝𝑏 – давление насыщения; 𝑅𝑠 – газосодержание; 𝑐𝑜 – сжимаемость нефти\n",
    "\n",
    "Графики построим при помощи библиотеки plotly.\n",
    "\n",
    "Учтем, что для t = 30 °С; 50 °С расчеты могут быть некорректны, т.к. данные значения находятся за пределами границ применимости модиффицированных корреляций,для наглядности их визуализировать не будем."
   ]
  },
  {
   "cell_type": "code",
   "execution_count": 16,
   "id": "5ba95eee",
   "metadata": {
    "scrolled": true
   },
   "outputs": [],
   "source": [
    "import math as m\n",
    "import plotly\n",
    "import plotly.graph_objs as go\n",
    "import plotly.express as px\n",
    "\n",
    "\n",
    "class Converter:\n",
    "    \"\"\"\n",
    "    Класс для перевода из СИ в имперские единицы измерения\n",
    "    \"\"\"\n",
    "    def convert_t_fromsi_to_F(self, t_c: float) -> float: \n",
    "        t_f = t_c * 1.8 +32\n",
    "        return t_f\n",
    "\n",
    "    def convert_rs_fromsi_to_scfSTB(self,rs_m3m3) -> float:\n",
    "        rs_imp = rs_m3m3 * 5.5525\n",
    "        return rs_imp\n",
    "    \n",
    "    def convert_fromatm_to_psia(self,p_atm) -> float:\n",
    "        p_psia = 14.696 * p_atm\n",
    "        return p_psia\n",
    "    \n",
    "    def convert_sg_to_api(self,sg) -> float:\n",
    "        api = 141.5 / sg -131.5\n",
    "        return api\n",
    "\n",
    "\n",
    "    def convert_t_fromF_to_si(self,t_f: float) -> float:\n",
    "        t_c = (t_f - 32) / 1.8\n",
    "        return t_c\n",
    "    \n",
    "    def convert_rs_fromscfSTB_to_si(self,rs_imp) -> float:\n",
    "        rs_m3m3 = rs_imp * 0.1801\n",
    "        return rs_m3m3\n",
    "    \n",
    "    def convert_frompsia_to_atm(self,p_psia) -> float:\n",
    "        p_atm = p_psia * 0.06804\n",
    "        return p_atm\n",
    "    \n",
    "\n",
    "\n",
    "class Fluid(Converter):\n",
    "    \"\"\"\n",
    "    Класс для расчета свойств флюида\n",
    "    \"\"\"\n",
    "    def __init__(self, rs_m3m3 = 33.64, yg: float = 0.696, t_c:float = 70, yg_psp: float = 0.679, p_sp_atm: float = 3.94, sg:float = 0.966,\n",
    "                 p_atm: float = 30, pb_atm: float = 30, t_sp_c: float = 70, mu_od: float = 111, mu_ol: float = 50) -> None:\n",
    "        self.rs_m3m3 = rs_m3m3\n",
    "        self.t_c = t_c\n",
    "        self.t_sp_c = t_sp_c\n",
    "        self.psp_atm = p_sp_atm\n",
    "        self.p_atm = p_atm\n",
    "        self.pb_atm = pb_atm\n",
    "        self.yg = yg\n",
    "        self.yg_psp = yg_psp\n",
    "        self.sg = sg\n",
    "        self.mu_od = mu_od\n",
    "        self.mu_ol = mu_ol\n",
    "        \n",
    "#         self.check_initdata()\n",
    "        \n",
    "        self.rs_imp = None\n",
    "        self.t_f = None\n",
    "        self.t_sp_f = None\n",
    "        self.psp_psi = None\n",
    "        self.p_psi = None\n",
    "        self.pb_psi = None\n",
    "        self.api = None\n",
    "        \n",
    "        self.convert_initdata()\n",
    "       \n",
    "        \n",
    "        self.pb_r = self.calc_pb(self.rs_imp, self.yg, self.t_f, self.api)\n",
    "        self.rs_r = self.calc_rs(self.p_psi, self.yg, self.t_f, self.api, self.yg_psp, self.t_sp_f, self.psp_psi) #1\n",
    "        self.co_r = self.calc_co(self.rs_imp, self.t_f, self.p_psi, self.api, self.yg_psp, self.t_sp_f, self.psp_psi)\n",
    "        self.mu_odr = self.calc_muod(self.api, self.t_f)\n",
    "        self.mu_olr = self.calc_muol(self.rs_imp, self.mu_od, self.api, self.yg_psp, self.t_sp_f, self.psp_psi)\n",
    "        self.mu_r = self.calc_mo(self.mu_ol, self.mu_od, self.p_psi, self.pb_psi, self.api, yg_psp, self.t_sp_f, self.psp_psi)\n",
    "\n",
    "        \n",
    "\n",
    "    def check_initdata(self) :\n",
    "        try:\n",
    "            self.rs_m3m3 = self.check(self.rs_m3m3, 3.07, 114.03)\n",
    "            self.t_c = self.check(self.t_c, 55.22, 121.11)\n",
    "            self.t_sp_c = self.check(self.t_sp_c, 15, 85.56)\n",
    "            self.psp_atm = self.check(self.psp_atm, 0.95, 51.17)\n",
    "            self.p_atm = self.check(self.p_atm, 70.63, 504.29)\n",
    "            self.pb_atm = self.check(self.pb_atm, 14.15, 273.61)\n",
    "            self.yg = self.check(self.yg, 0.623, 1.517)\n",
    "            self.yg_psp = self.check(self.yg_psp, 0.623, 1.517)\n",
    "            self.sg = self.check(self.sg, 0.920, 1.029)\n",
    "            self.mu_od = self.check(self.mu_od , 7.7, 1386.9)\n",
    "            self.mu_ol = self.check(self.mu_ol, 2.1, 295.9)\n",
    "        except Exception:\n",
    "            print('Исходные данные выходят за границы применимости корреляций')       \n",
    "\n",
    "    def convert_initdata(self) -> float :\n",
    "        self.rs_imp = self.convert_rs_fromsi_to_scfSTB(self.rs_m3m3)\n",
    "        self.t_f = self.convert_t_fromsi_to_F(self.t_c)\n",
    "        self.t_sp_f = self.convert_t_fromsi_to_F(self.t_sp_c)\n",
    "        self.psp_psi = self.convert_fromatm_to_psia(self.psp_atm)\n",
    "        self.p_psi = self.convert_fromatm_to_psia(self.p_atm)\n",
    "        self.pb_psi = self.convert_fromatm_to_psia(self.pb_atm)\n",
    "        self.api = self.convert_sg_to_api(self.sg)\n",
    "\n",
    "    def check(self,x,a,b):\n",
    "        if a < x < b:\n",
    "            return x\n",
    "        else:\n",
    "            raise ValueError()\n",
    "\n",
    "        \n",
    "    def calc_pb(self, rs_imp, yg, t_f, api) -> float :\n",
    "        Pb = 15.7286*((rs_imp/yg)**0.7885)*10**(0.0020*t_f-0.0142*api)\n",
    "        return Pb * 0.06804\n",
    "\n",
    "        #2\n",
    "    def calc_rs(self, pb_psi, yg, t_f, api, yg_psp, t_sp_f, psp_psi) -> float :\n",
    "        if api <= 10:\n",
    "            Rs = yg * (pb_psi/10.7025*10**(0.0169*api-0.00156*t_f))**1.1128\n",
    "            return Rs * 0.1801\n",
    "        else: \n",
    "            Ygcorr = yg_psp*(1+0.5912*api*t_sp_f*(m.log10(psp_psi/114.7))*10**(-4))\n",
    "            Rs = Ygcorr*pb_psi**(1.2057)/56.434*10.9267*(api/(t_f+460))\n",
    "            return Rs * 0.1801\n",
    "\n",
    "\n",
    "    #3\n",
    "    def calc_co(self, rs_imp, t_f, p_psi, api, yg_psp, t_sp_f, psp_psi) -> float :\n",
    "        if api <= 10:\n",
    "            Ygcorr = yg_psp* ( 1 + 0.5912 * api * t_sp_f * ( m.log10(psp_psi/114.7)) * 10**(-4))\n",
    "            Co = (-889.6+3.1374*rs_imp+20*t_f-627.3*Ygcorr-81.4476*api)/(p_psi*10**(5))\n",
    "            return Co * 14.696\n",
    "        else:\n",
    "            Ygcorr = yg_psp*(1 + 0.5912 * api*t_sp_f*(m.log10(psp_psi/114.7))*10**(-4))\n",
    "            Co = (-2841.8+2.9646*rs_imp +25.5439*t_f-1230.5*Ygcorr+41.91*api)/(p_psi*10**(5))\n",
    "            return Co * 14.696\n",
    "\n",
    "\n",
    "    #4\n",
    "    def calc_muod(self, api, t_f) -> float :\n",
    "        if api <= 10:\n",
    "            Mod = 10**(10**(1.90296-0.012619*api-0.61748*m.log10(t_f)))-1\n",
    "            return Mod\n",
    "        else:\n",
    "            Mod = 10**(10**(2.06492-0.0179*api-0.70226*m.log10(t_f)))-1\n",
    "            return Mod\n",
    "\n",
    "    #5\n",
    "    def calc_muol(self, rs_imp, mu_od, api, yg_psp, t_sp_f, p_sp_psi) -> float :\n",
    "        if api <= 10:\n",
    "            Ygcorr = yg_psp*(1+0.1595*api**(0.4078)*t_sp_f**(-0.2466)*m.log10(p_sp_psi/114.7))\n",
    "            Y = 10**(-0.00081*rs_imp)\n",
    "            F = (-0.0335+1.0785*10**(-0.000845*rs_imp))*mu_od**(0.5798+0.3432*Y)\n",
    "            Mol = 2.3945+0.8927*F+0.001567*F**2\n",
    "            return Mol\n",
    "        else:\n",
    "            Ygcorr = yg_psp*(1+0.1595*api**(0.4078)*t_sp_f**(-0.2466)*m.log10(p_sp_psi/114.7))\n",
    "            Y = 10**(-0.00081*rs_imp)\n",
    "            F = (0.2478+0.6114*10**(-0.000845*rs_imp))*mu_od**(0.4731+0.5158*Y)\n",
    "            Mol = -0.6311+1.078*F-0.003653*F**2\n",
    "            return Mol\n",
    "\n",
    "\n",
    "    #6\n",
    "    def calc_mo(self, mu_ol, mu_od, p_psi, pb_psi, api, yg_psp, t_sp_f, p_sp_psi) -> float :\n",
    "        if api <= 10:\n",
    "            Mo = mu_ol -((1-p_psi/pb_psi)*10**(-2.19)*mu_od**(1.055)*pb_psi**(0.3132)/10**(0.0099)/api)\n",
    "            return Mo\n",
    "        else:\n",
    "            Ygcorr = yg_psp*(1+0.1595*api**(0.4078)*t_sp_f**(-0.2466)*m.log10(p_sp_psi/114.7))\n",
    "            Mo = 0.9886*mu_ol+0.002763*(p_psi-pb_psi)*(-0.01153*mu_ol**(1.7933)+0.0316*mu_ol**(1.5939))\n",
    "            return Mo\n",
    "\n",
    "\n",
    "\n",
    "\n",
    "# Посчитать давление насыщения,газосодержание,мюол,сжимаемость для т=30,50,70,90\n",
    "\n",
    "def calc_rs_list(p:list,t):\n",
    "    rsr = []\n",
    "    for i in p:\n",
    "        rasc = Fluid(p_atm=i,t_c=t)\n",
    "        rsr.append(rasc.rs_r)\n",
    "    return rsr\n",
    "\n",
    "def calc_muol_list(p,t):\n",
    "    muol_r = []\n",
    "    rasc = Fluid(t_c=t)\n",
    "    muod_r = rasc.mu_odr\n",
    "    rs = calc_rs_list(p,t)\n",
    "    for i in rs:\n",
    "        rasc = Fluid(rs_m3m3=i,t_c=t,mu_od=muod_r)\n",
    "        muol_r.append(rasc.mu_olr)\n",
    "    return muol_r\n",
    "\n",
    "def calc_co_list(p,t):\n",
    "    co = []\n",
    "    rs =[]\n",
    "    rs = calc_rs_list(p,t)\n",
    "    for pr, rr in zip(p,rs):\n",
    "        rasc = Fluid(rs_m3m3=rr,p_atm=pr,t_c=t,t_sp_c=t)\n",
    "        co.append(rasc.co_r)\n",
    "    return co\n",
    "\n",
    "if __name__ == '__main__':\n",
    "    rasc = Fluid(t_c=70)\n",
    "    pb = rasc.pb_r\n",
    "    pb = m.ceil(pb)\n",
    "    p_list = [i for i in range(1, pb, 1)]\n",
    "\n",
    "    rs_30 = calc_rs_list(p=p_list, t = 30)\n",
    "    rs_50 = calc_rs_list(p=p_list, t = 50)\n",
    "    rs_70 = calc_rs_list(p=p_list, t = 70)\n",
    "    rs_90 = calc_rs_list(p=p_list, t = 90)\n",
    "\n",
    "    mu_ol_30 = calc_muol_list(p_list, t=30)\n",
    "    mu_ol_50 = calc_muol_list(p_list, t=50)\n",
    "    mu_ol_70 = calc_muol_list(p_list, t=70)\n",
    "    mu_ol_90 = calc_muol_list(p_list, t=90)\n",
    "\n",
    "    co_30 = calc_co_list(p_list, t=30)\n",
    "    co_50 = calc_co_list(p_list, t=50)\n",
    "    co_70 = calc_co_list(p_list, t=70)\n",
    "    co_90 = calc_co_list(p_list, t=90)\n",
    "\n"
   ]
  },
  {
   "cell_type": "markdown",
   "id": "af4b6324",
   "metadata": {},
   "source": [
    "**Построим графики зависимости газосодержания,вязкости насыщенной нефти и сжимаемости от давления.**\n",
    "\n",
    "Графики будем строить до давления насыщения."
   ]
  },
  {
   "cell_type": "markdown",
   "id": "ed63d61c",
   "metadata": {},
   "source": [
    "**Газонасыщенность с увеличением давления до давления насыщения растет, так как на газ и нефть действует все большее давление, способствующее растворению газа в нефти, а нефть до давления насыщения еще может растворить в себе газ. Газонасыщенность при увеличении температуры падает.**"
   ]
  },
  {
   "cell_type": "code",
   "execution_count": 40,
   "id": "421afd1b",
   "metadata": {
    "scrolled": false
   },
   "outputs": [
    {
     "name": "stdout",
     "output_type": "stream",
     "text": [
      "Давление насыщения расчетное = 112 атм.\n",
      "Давление насыщения тех.режим = 78 атм.\n"
     ]
    },
    {
     "data": {
      "application/vnd.plotly.v1+json": {
       "config": {
        "plotlyServerURL": "https://plot.ly"
       },
       "data": [
        {
         "hoverinfo": "x+y",
         "name": "$$R_s(Техрежим(T=16^0 C))$$",
         "type": "scatter",
         "x": [
          78
         ],
         "y": [
          34
         ]
        },
        {
         "hoverinfo": "x+y",
         "name": "$$R_s(T=70^0 C)$$",
         "type": "scatter",
         "x": [
          1,
          2,
          3,
          4,
          5,
          6,
          7,
          8,
          9,
          10,
          11,
          12,
          13,
          14,
          15,
          16,
          17,
          18,
          19,
          20,
          21,
          22,
          23,
          24,
          25,
          26,
          27,
          28,
          29,
          30,
          31,
          32,
          33,
          34,
          35,
          36,
          37,
          38,
          39,
          40,
          41,
          42,
          43,
          44,
          45,
          46,
          47,
          48,
          49,
          50,
          51,
          52,
          53,
          54,
          55,
          56,
          57,
          58,
          59,
          60,
          61,
          62,
          63,
          64,
          65,
          66,
          67,
          68,
          69,
          70,
          71,
          72,
          73,
          74,
          75,
          76,
          77,
          78,
          79,
          80,
          81,
          82,
          83,
          84,
          85,
          86,
          87,
          88,
          89,
          90,
          91,
          92,
          93,
          94,
          95,
          96,
          97,
          98,
          99,
          100,
          101,
          102,
          103,
          104,
          105,
          106,
          107,
          108,
          109,
          110,
          111
         ],
         "y": [
          0.014051742592253757,
          0.0324102253946708,
          0.05284395114248821,
          0.07475391064396707,
          0.09783141155618885,
          0.12188412618781946,
          0.14677932710425273,
          0.17241926239380836,
          0.198728602806109,
          0.22564732298489443,
          0.2531263437326995,
          0.2811247057683355,
          0.309607651729497,
          0.3385452760392434,
          0.3679115453855404,
          0.39768356984042447,
          0.427841048646686,
          0.45836584089325777,
          0.48924162749340294,
          0.5204536412214148,
          0.5519884483580181,
          0.5838337700712098,
          0.6159783348106739,
          0.6484117552071453,
          0.6811244245502016,
          0.7141074290671524,
          0.747352473072638,
          0.780851814691054,
          0.8145982103320585,
          0.8485848664649153,
          0.8828053975197074,
          0.917253788963565,
          0.9519243647731835,
          0.9868117586622664,
          1.0219108885322583,
          1.0572169337031379,
          1.0927253145526397,
          1.1284316742506986,
          1.1643318623238401,
          1.2004219198238044,
          1.2366980659074827,
          1.2731566856626126,
          1.3097943190365846,
          1.3466076507450015,
          1.3835935010529212,
          1.4207488173355383,
          1.4580706663368486,
          1.4955562270549017,
          1.533202784190893,
          1.5710077221067855,
          1.608968519242578,
          1.6470827429499022,
          1.6853480447034792,
          1.7237621556561613,
          1.7623228825070014,
          1.8010281036549853,
          1.8398757656139335,
          1.8788638796665404,
          1.9179905187377604,
          1.9572538144696647,
          1.9966519544816466,
          2.0361831798013754,
          2.0758457824532726,
          2.115638103192495,
          2.1555585293735082,
          2.1956054929433018,
          2.235777468550184,
          2.2760729717598545,
          2.316490557371197,
          2.357028817824837,
          2.3976863816981058,
          2.438461912280569,
          2.4793541062247426,
          2.5203616922670453,
          2.5614834300144467,
          2.6027181087925824,
          2.644064546551469,
          2.68552158882523,
          2.727088107742478,
          2.7687630010843245,
          2.8105451913871082,
          2.852433625087226,
          2.8944272717055854,
          2.9365251230693876,
          2.9787261925691184,
          3.021029514448741,
          3.063434143127255,
          3.1059391525498756,
          3.148543635567231,
          3.191246703341052,
          3.2340474847749556,
          3.276945125968986,
          3.319938789696686,
          3.3630276549035214,
          3.4062109162255845,
          3.4494877835275313,
          3.4928574814588154,
          3.5363192490272946,
          3.5798723391893605,
          3.6235160184558115,
          3.667249566512665,
          3.7110722758562726,
          3.7549834514419858,
          3.798982410345803,
          3.8430684814383587,
          3.887241005070716,
          3.931499332771412,
          3.9758428269542616,
          4.020270860636439,
          4.064782817166366,
          4.1093780899610275
         ]
        },
        {
         "hoverinfo": "x+y",
         "name": "$$R_s(T=90^0 C)$$",
         "type": "scatter",
         "x": [
          1,
          2,
          3,
          4,
          5,
          6,
          7,
          8,
          9,
          10,
          11,
          12,
          13,
          14,
          15,
          16,
          17,
          18,
          19,
          20,
          21,
          22,
          23,
          24,
          25,
          26,
          27,
          28,
          29,
          30,
          31,
          32,
          33,
          34,
          35,
          36,
          37,
          38,
          39,
          40,
          41,
          42,
          43,
          44,
          45,
          46,
          47,
          48,
          49,
          50,
          51,
          52,
          53,
          54,
          55,
          56,
          57,
          58,
          59,
          60,
          61,
          62,
          63,
          64,
          65,
          66,
          67,
          68,
          69,
          70,
          71,
          72,
          73,
          74,
          75,
          76,
          77,
          78,
          79,
          80,
          81,
          82,
          83,
          84,
          85,
          86,
          87,
          88,
          89,
          90,
          91,
          92,
          93,
          94,
          95,
          96,
          97,
          98,
          99,
          100,
          101,
          102,
          103,
          104,
          105,
          106,
          107,
          108,
          109,
          110,
          111
         ],
         "y": [
          0.013278252174331534,
          0.03062617629037699,
          0.04993510979519528,
          0.07063901648007898,
          0.09244619624116929,
          0.11517490823252664,
          0.13869973111686268,
          0.16292829382167215,
          0.18778941366081858,
          0.2132263694260929,
          0.2391927835272298,
          0.26564995132237207,
          0.29256502869851553,
          0.3199097562572667,
          0.3476595337129419,
          0.3757927311336121,
          0.4042901652349418,
          0.4331346936881243,
          0.46231089570477524,
          0.4918048169339974,
          0.5216037631273015,
          0.5516961313516937,
          0.5820712705091688,
          0.6127193650122567,
          0.6436313369602823,
          0.6747987632469422,
          0.7062138048301075,
          0.7378691459924639,
          0.7697579418734133,
          0.8018737728980394,
          0.834210604995687,
          0.8667627547086899,
          0.8995248584553938,
          0.9324918453414078,
          0.9656589130167211,
          0.9990215061598459,
          1.0325752972378153,
          1.066316169246073,
          1.100240200177574,
          1.1343436490078154,
          1.168622943013493,
          1.2030746662683405,
          1.23769554918136,
          1.2724824589608732,
          1.307432390903219,
          1.3425424604179856,
          1.377809895712802,
          1.413232031070228,
          1.4488063006574492,
          1.4845302328165038,
          1.5204014447888583,
          1.5564176378333938,
          1.5925765927014528,
          1.628876165436556,
          1.6653142834699188,
          1.7018889419859038,
          1.7385982005342675,
          1.7754401798683825,
          1.812413058990728,
          1.849515072388766,
          1.8867445074459597,
          1.9240997020141437,
          1.9615790421347439,
          1.9991809598974954,
          2.0369039314263424,
          2.07474647498312,
          2.112707149180449,
          2.1507845512960095,
          2.18897731568104,
          2.2272841122564975,
          2.2657036450908707,
          2.3042346510541156,
          2.3428758985426468,
          2.3816261862706942,
          2.420484342123743,
          2.459449222070055,
          2.498519709126618,
          2.5376947123761346,
          2.5769731660318826,
          2.6163540285475726,
          2.6558362817694694,
          2.6954189301282963,
          2.7351009998685805,
          2.7748815383132746,
          2.814759613161644,
          2.854734311818535,
          2.8948047407532775,
          2.93497002488658,
          2.9752293070038975,
          3.0155817471938384,
          3.056026522310279,
          3.0965628254569317,
          3.1371898654931987,
          3.1779068665602086,
          3.218713067626011,
          3.259607722048951,
          3.30059009715833,
          3.3416594738514798,
          3.38281514620646,
          3.4240564211096194,
          3.4653826178972893,
          3.5067930680109733,
          3.5482871146653627,
          3.589864112528603,
          3.6315234274142285,
          3.6732644359842546,
          3.7150865254628935,
          3.756989093360449,
          3.79897154720691,
          3.841033304294823,
          3.8831737914310622
         ]
        }
       ],
       "layout": {
        "legend": {
         "orientation": "h",
         "x": 0.5,
         "xanchor": "center"
        },
        "margin": {
         "b": 0,
         "l": 0,
         "r": 0,
         "t": 30
        },
        "template": {
         "data": {
          "bar": [
           {
            "error_x": {
             "color": "#2a3f5f"
            },
            "error_y": {
             "color": "#2a3f5f"
            },
            "marker": {
             "line": {
              "color": "#E5ECF6",
              "width": 0.5
             },
             "pattern": {
              "fillmode": "overlay",
              "size": 10,
              "solidity": 0.2
             }
            },
            "type": "bar"
           }
          ],
          "barpolar": [
           {
            "marker": {
             "line": {
              "color": "#E5ECF6",
              "width": 0.5
             },
             "pattern": {
              "fillmode": "overlay",
              "size": 10,
              "solidity": 0.2
             }
            },
            "type": "barpolar"
           }
          ],
          "carpet": [
           {
            "aaxis": {
             "endlinecolor": "#2a3f5f",
             "gridcolor": "white",
             "linecolor": "white",
             "minorgridcolor": "white",
             "startlinecolor": "#2a3f5f"
            },
            "baxis": {
             "endlinecolor": "#2a3f5f",
             "gridcolor": "white",
             "linecolor": "white",
             "minorgridcolor": "white",
             "startlinecolor": "#2a3f5f"
            },
            "type": "carpet"
           }
          ],
          "choropleth": [
           {
            "colorbar": {
             "outlinewidth": 0,
             "ticks": ""
            },
            "type": "choropleth"
           }
          ],
          "contour": [
           {
            "colorbar": {
             "outlinewidth": 0,
             "ticks": ""
            },
            "colorscale": [
             [
              0,
              "#0d0887"
             ],
             [
              0.1111111111111111,
              "#46039f"
             ],
             [
              0.2222222222222222,
              "#7201a8"
             ],
             [
              0.3333333333333333,
              "#9c179e"
             ],
             [
              0.4444444444444444,
              "#bd3786"
             ],
             [
              0.5555555555555556,
              "#d8576b"
             ],
             [
              0.6666666666666666,
              "#ed7953"
             ],
             [
              0.7777777777777778,
              "#fb9f3a"
             ],
             [
              0.8888888888888888,
              "#fdca26"
             ],
             [
              1,
              "#f0f921"
             ]
            ],
            "type": "contour"
           }
          ],
          "contourcarpet": [
           {
            "colorbar": {
             "outlinewidth": 0,
             "ticks": ""
            },
            "type": "contourcarpet"
           }
          ],
          "heatmap": [
           {
            "colorbar": {
             "outlinewidth": 0,
             "ticks": ""
            },
            "colorscale": [
             [
              0,
              "#0d0887"
             ],
             [
              0.1111111111111111,
              "#46039f"
             ],
             [
              0.2222222222222222,
              "#7201a8"
             ],
             [
              0.3333333333333333,
              "#9c179e"
             ],
             [
              0.4444444444444444,
              "#bd3786"
             ],
             [
              0.5555555555555556,
              "#d8576b"
             ],
             [
              0.6666666666666666,
              "#ed7953"
             ],
             [
              0.7777777777777778,
              "#fb9f3a"
             ],
             [
              0.8888888888888888,
              "#fdca26"
             ],
             [
              1,
              "#f0f921"
             ]
            ],
            "type": "heatmap"
           }
          ],
          "heatmapgl": [
           {
            "colorbar": {
             "outlinewidth": 0,
             "ticks": ""
            },
            "colorscale": [
             [
              0,
              "#0d0887"
             ],
             [
              0.1111111111111111,
              "#46039f"
             ],
             [
              0.2222222222222222,
              "#7201a8"
             ],
             [
              0.3333333333333333,
              "#9c179e"
             ],
             [
              0.4444444444444444,
              "#bd3786"
             ],
             [
              0.5555555555555556,
              "#d8576b"
             ],
             [
              0.6666666666666666,
              "#ed7953"
             ],
             [
              0.7777777777777778,
              "#fb9f3a"
             ],
             [
              0.8888888888888888,
              "#fdca26"
             ],
             [
              1,
              "#f0f921"
             ]
            ],
            "type": "heatmapgl"
           }
          ],
          "histogram": [
           {
            "marker": {
             "pattern": {
              "fillmode": "overlay",
              "size": 10,
              "solidity": 0.2
             }
            },
            "type": "histogram"
           }
          ],
          "histogram2d": [
           {
            "colorbar": {
             "outlinewidth": 0,
             "ticks": ""
            },
            "colorscale": [
             [
              0,
              "#0d0887"
             ],
             [
              0.1111111111111111,
              "#46039f"
             ],
             [
              0.2222222222222222,
              "#7201a8"
             ],
             [
              0.3333333333333333,
              "#9c179e"
             ],
             [
              0.4444444444444444,
              "#bd3786"
             ],
             [
              0.5555555555555556,
              "#d8576b"
             ],
             [
              0.6666666666666666,
              "#ed7953"
             ],
             [
              0.7777777777777778,
              "#fb9f3a"
             ],
             [
              0.8888888888888888,
              "#fdca26"
             ],
             [
              1,
              "#f0f921"
             ]
            ],
            "type": "histogram2d"
           }
          ],
          "histogram2dcontour": [
           {
            "colorbar": {
             "outlinewidth": 0,
             "ticks": ""
            },
            "colorscale": [
             [
              0,
              "#0d0887"
             ],
             [
              0.1111111111111111,
              "#46039f"
             ],
             [
              0.2222222222222222,
              "#7201a8"
             ],
             [
              0.3333333333333333,
              "#9c179e"
             ],
             [
              0.4444444444444444,
              "#bd3786"
             ],
             [
              0.5555555555555556,
              "#d8576b"
             ],
             [
              0.6666666666666666,
              "#ed7953"
             ],
             [
              0.7777777777777778,
              "#fb9f3a"
             ],
             [
              0.8888888888888888,
              "#fdca26"
             ],
             [
              1,
              "#f0f921"
             ]
            ],
            "type": "histogram2dcontour"
           }
          ],
          "mesh3d": [
           {
            "colorbar": {
             "outlinewidth": 0,
             "ticks": ""
            },
            "type": "mesh3d"
           }
          ],
          "parcoords": [
           {
            "line": {
             "colorbar": {
              "outlinewidth": 0,
              "ticks": ""
             }
            },
            "type": "parcoords"
           }
          ],
          "pie": [
           {
            "automargin": true,
            "type": "pie"
           }
          ],
          "scatter": [
           {
            "marker": {
             "colorbar": {
              "outlinewidth": 0,
              "ticks": ""
             }
            },
            "type": "scatter"
           }
          ],
          "scatter3d": [
           {
            "line": {
             "colorbar": {
              "outlinewidth": 0,
              "ticks": ""
             }
            },
            "marker": {
             "colorbar": {
              "outlinewidth": 0,
              "ticks": ""
             }
            },
            "type": "scatter3d"
           }
          ],
          "scattercarpet": [
           {
            "marker": {
             "colorbar": {
              "outlinewidth": 0,
              "ticks": ""
             }
            },
            "type": "scattercarpet"
           }
          ],
          "scattergeo": [
           {
            "marker": {
             "colorbar": {
              "outlinewidth": 0,
              "ticks": ""
             }
            },
            "type": "scattergeo"
           }
          ],
          "scattergl": [
           {
            "marker": {
             "colorbar": {
              "outlinewidth": 0,
              "ticks": ""
             }
            },
            "type": "scattergl"
           }
          ],
          "scattermapbox": [
           {
            "marker": {
             "colorbar": {
              "outlinewidth": 0,
              "ticks": ""
             }
            },
            "type": "scattermapbox"
           }
          ],
          "scatterpolar": [
           {
            "marker": {
             "colorbar": {
              "outlinewidth": 0,
              "ticks": ""
             }
            },
            "type": "scatterpolar"
           }
          ],
          "scatterpolargl": [
           {
            "marker": {
             "colorbar": {
              "outlinewidth": 0,
              "ticks": ""
             }
            },
            "type": "scatterpolargl"
           }
          ],
          "scatterternary": [
           {
            "marker": {
             "colorbar": {
              "outlinewidth": 0,
              "ticks": ""
             }
            },
            "type": "scatterternary"
           }
          ],
          "surface": [
           {
            "colorbar": {
             "outlinewidth": 0,
             "ticks": ""
            },
            "colorscale": [
             [
              0,
              "#0d0887"
             ],
             [
              0.1111111111111111,
              "#46039f"
             ],
             [
              0.2222222222222222,
              "#7201a8"
             ],
             [
              0.3333333333333333,
              "#9c179e"
             ],
             [
              0.4444444444444444,
              "#bd3786"
             ],
             [
              0.5555555555555556,
              "#d8576b"
             ],
             [
              0.6666666666666666,
              "#ed7953"
             ],
             [
              0.7777777777777778,
              "#fb9f3a"
             ],
             [
              0.8888888888888888,
              "#fdca26"
             ],
             [
              1,
              "#f0f921"
             ]
            ],
            "type": "surface"
           }
          ],
          "table": [
           {
            "cells": {
             "fill": {
              "color": "#EBF0F8"
             },
             "line": {
              "color": "white"
             }
            },
            "header": {
             "fill": {
              "color": "#C8D4E3"
             },
             "line": {
              "color": "white"
             }
            },
            "type": "table"
           }
          ]
         },
         "layout": {
          "annotationdefaults": {
           "arrowcolor": "#2a3f5f",
           "arrowhead": 0,
           "arrowwidth": 1
          },
          "autotypenumbers": "strict",
          "coloraxis": {
           "colorbar": {
            "outlinewidth": 0,
            "ticks": ""
           }
          },
          "colorscale": {
           "diverging": [
            [
             0,
             "#8e0152"
            ],
            [
             0.1,
             "#c51b7d"
            ],
            [
             0.2,
             "#de77ae"
            ],
            [
             0.3,
             "#f1b6da"
            ],
            [
             0.4,
             "#fde0ef"
            ],
            [
             0.5,
             "#f7f7f7"
            ],
            [
             0.6,
             "#e6f5d0"
            ],
            [
             0.7,
             "#b8e186"
            ],
            [
             0.8,
             "#7fbc41"
            ],
            [
             0.9,
             "#4d9221"
            ],
            [
             1,
             "#276419"
            ]
           ],
           "sequential": [
            [
             0,
             "#0d0887"
            ],
            [
             0.1111111111111111,
             "#46039f"
            ],
            [
             0.2222222222222222,
             "#7201a8"
            ],
            [
             0.3333333333333333,
             "#9c179e"
            ],
            [
             0.4444444444444444,
             "#bd3786"
            ],
            [
             0.5555555555555556,
             "#d8576b"
            ],
            [
             0.6666666666666666,
             "#ed7953"
            ],
            [
             0.7777777777777778,
             "#fb9f3a"
            ],
            [
             0.8888888888888888,
             "#fdca26"
            ],
            [
             1,
             "#f0f921"
            ]
           ],
           "sequentialminus": [
            [
             0,
             "#0d0887"
            ],
            [
             0.1111111111111111,
             "#46039f"
            ],
            [
             0.2222222222222222,
             "#7201a8"
            ],
            [
             0.3333333333333333,
             "#9c179e"
            ],
            [
             0.4444444444444444,
             "#bd3786"
            ],
            [
             0.5555555555555556,
             "#d8576b"
            ],
            [
             0.6666666666666666,
             "#ed7953"
            ],
            [
             0.7777777777777778,
             "#fb9f3a"
            ],
            [
             0.8888888888888888,
             "#fdca26"
            ],
            [
             1,
             "#f0f921"
            ]
           ]
          },
          "colorway": [
           "#636efa",
           "#EF553B",
           "#00cc96",
           "#ab63fa",
           "#FFA15A",
           "#19d3f3",
           "#FF6692",
           "#B6E880",
           "#FF97FF",
           "#FECB52"
          ],
          "font": {
           "color": "#2a3f5f"
          },
          "geo": {
           "bgcolor": "white",
           "lakecolor": "white",
           "landcolor": "#E5ECF6",
           "showlakes": true,
           "showland": true,
           "subunitcolor": "white"
          },
          "hoverlabel": {
           "align": "left"
          },
          "hovermode": "closest",
          "mapbox": {
           "style": "light"
          },
          "paper_bgcolor": "white",
          "plot_bgcolor": "#E5ECF6",
          "polar": {
           "angularaxis": {
            "gridcolor": "white",
            "linecolor": "white",
            "ticks": ""
           },
           "bgcolor": "#E5ECF6",
           "radialaxis": {
            "gridcolor": "white",
            "linecolor": "white",
            "ticks": ""
           }
          },
          "scene": {
           "xaxis": {
            "backgroundcolor": "#E5ECF6",
            "gridcolor": "white",
            "gridwidth": 2,
            "linecolor": "white",
            "showbackground": true,
            "ticks": "",
            "zerolinecolor": "white"
           },
           "yaxis": {
            "backgroundcolor": "#E5ECF6",
            "gridcolor": "white",
            "gridwidth": 2,
            "linecolor": "white",
            "showbackground": true,
            "ticks": "",
            "zerolinecolor": "white"
           },
           "zaxis": {
            "backgroundcolor": "#E5ECF6",
            "gridcolor": "white",
            "gridwidth": 2,
            "linecolor": "white",
            "showbackground": true,
            "ticks": "",
            "zerolinecolor": "white"
           }
          },
          "shapedefaults": {
           "line": {
            "color": "#2a3f5f"
           }
          },
          "ternary": {
           "aaxis": {
            "gridcolor": "white",
            "linecolor": "white",
            "ticks": ""
           },
           "baxis": {
            "gridcolor": "white",
            "linecolor": "white",
            "ticks": ""
           },
           "bgcolor": "#E5ECF6",
           "caxis": {
            "gridcolor": "white",
            "linecolor": "white",
            "ticks": ""
           }
          },
          "title": {
           "x": 0.05
          },
          "xaxis": {
           "automargin": true,
           "gridcolor": "white",
           "linecolor": "white",
           "ticks": "",
           "title": {
            "standoff": 15
           },
           "zerolinecolor": "white",
           "zerolinewidth": 2
          },
          "yaxis": {
           "automargin": true,
           "gridcolor": "white",
           "linecolor": "white",
           "ticks": "",
           "title": {
            "standoff": 15
           },
           "zerolinecolor": "white",
           "zerolinewidth": 2
          }
         }
        },
        "title": {
         "text": "Зависимость газосодержания от давления"
        },
        "xaxis": {
         "title": {
          "text": "Давление, атм"
         }
        },
        "yaxis": {
         "title": {
          "text": "Газосодержание, м3/м3"
         }
        }
       }
      },
      "text/html": [
       "<div>                            <div id=\"6c0529be-3f16-4857-8933-e3791fa6adfa\" class=\"plotly-graph-div\" style=\"height:525px; width:100%;\"></div>            <script type=\"text/javascript\">                require([\"plotly\"], function(Plotly) {                    window.PLOTLYENV=window.PLOTLYENV || {};                                    if (document.getElementById(\"6c0529be-3f16-4857-8933-e3791fa6adfa\")) {                    Plotly.newPlot(                        \"6c0529be-3f16-4857-8933-e3791fa6adfa\",                        [{\"hoverinfo\":\"x+y\",\"name\":\"$$R_s(\\u0422\\u0435\\u0445\\u0440\\u0435\\u0436\\u0438\\u043c(T=16^0 C))$$\",\"type\":\"scatter\",\"x\":[78],\"y\":[34]},{\"hoverinfo\":\"x+y\",\"name\":\"$$R_s(T=70^0 C)$$\",\"type\":\"scatter\",\"x\":[1,2,3,4,5,6,7,8,9,10,11,12,13,14,15,16,17,18,19,20,21,22,23,24,25,26,27,28,29,30,31,32,33,34,35,36,37,38,39,40,41,42,43,44,45,46,47,48,49,50,51,52,53,54,55,56,57,58,59,60,61,62,63,64,65,66,67,68,69,70,71,72,73,74,75,76,77,78,79,80,81,82,83,84,85,86,87,88,89,90,91,92,93,94,95,96,97,98,99,100,101,102,103,104,105,106,107,108,109,110,111],\"y\":[0.014051742592253757,0.0324102253946708,0.05284395114248821,0.07475391064396707,0.09783141155618885,0.12188412618781946,0.14677932710425273,0.17241926239380836,0.198728602806109,0.22564732298489443,0.2531263437326995,0.2811247057683355,0.309607651729497,0.3385452760392434,0.3679115453855404,0.39768356984042447,0.427841048646686,0.45836584089325777,0.48924162749340294,0.5204536412214148,0.5519884483580181,0.5838337700712098,0.6159783348106739,0.6484117552071453,0.6811244245502016,0.7141074290671524,0.747352473072638,0.780851814691054,0.8145982103320585,0.8485848664649153,0.8828053975197074,0.917253788963565,0.9519243647731835,0.9868117586622664,1.0219108885322583,1.0572169337031379,1.0927253145526397,1.1284316742506986,1.1643318623238401,1.2004219198238044,1.2366980659074827,1.2731566856626126,1.3097943190365846,1.3466076507450015,1.3835935010529212,1.4207488173355383,1.4580706663368486,1.4955562270549017,1.533202784190893,1.5710077221067855,1.608968519242578,1.6470827429499022,1.6853480447034792,1.7237621556561613,1.7623228825070014,1.8010281036549853,1.8398757656139335,1.8788638796665404,1.9179905187377604,1.9572538144696647,1.9966519544816466,2.0361831798013754,2.0758457824532726,2.115638103192495,2.1555585293735082,2.1956054929433018,2.235777468550184,2.2760729717598545,2.316490557371197,2.357028817824837,2.3976863816981058,2.438461912280569,2.4793541062247426,2.5203616922670453,2.5614834300144467,2.6027181087925824,2.644064546551469,2.68552158882523,2.727088107742478,2.7687630010843245,2.8105451913871082,2.852433625087226,2.8944272717055854,2.9365251230693876,2.9787261925691184,3.021029514448741,3.063434143127255,3.1059391525498756,3.148543635567231,3.191246703341052,3.2340474847749556,3.276945125968986,3.319938789696686,3.3630276549035214,3.4062109162255845,3.4494877835275313,3.4928574814588154,3.5363192490272946,3.5798723391893605,3.6235160184558115,3.667249566512665,3.7110722758562726,3.7549834514419858,3.798982410345803,3.8430684814383587,3.887241005070716,3.931499332771412,3.9758428269542616,4.020270860636439,4.064782817166366,4.1093780899610275]},{\"hoverinfo\":\"x+y\",\"name\":\"$$R_s(T=90^0 C)$$\",\"type\":\"scatter\",\"x\":[1,2,3,4,5,6,7,8,9,10,11,12,13,14,15,16,17,18,19,20,21,22,23,24,25,26,27,28,29,30,31,32,33,34,35,36,37,38,39,40,41,42,43,44,45,46,47,48,49,50,51,52,53,54,55,56,57,58,59,60,61,62,63,64,65,66,67,68,69,70,71,72,73,74,75,76,77,78,79,80,81,82,83,84,85,86,87,88,89,90,91,92,93,94,95,96,97,98,99,100,101,102,103,104,105,106,107,108,109,110,111],\"y\":[0.013278252174331534,0.03062617629037699,0.04993510979519528,0.07063901648007898,0.09244619624116929,0.11517490823252664,0.13869973111686268,0.16292829382167215,0.18778941366081858,0.2132263694260929,0.2391927835272298,0.26564995132237207,0.29256502869851553,0.3199097562572667,0.3476595337129419,0.3757927311336121,0.4042901652349418,0.4331346936881243,0.46231089570477524,0.4918048169339974,0.5216037631273015,0.5516961313516937,0.5820712705091688,0.6127193650122567,0.6436313369602823,0.6747987632469422,0.7062138048301075,0.7378691459924639,0.7697579418734133,0.8018737728980394,0.834210604995687,0.8667627547086899,0.8995248584553938,0.9324918453414078,0.9656589130167211,0.9990215061598459,1.0325752972378153,1.066316169246073,1.100240200177574,1.1343436490078154,1.168622943013493,1.2030746662683405,1.23769554918136,1.2724824589608732,1.307432390903219,1.3425424604179856,1.377809895712802,1.413232031070228,1.4488063006574492,1.4845302328165038,1.5204014447888583,1.5564176378333938,1.5925765927014528,1.628876165436556,1.6653142834699188,1.7018889419859038,1.7385982005342675,1.7754401798683825,1.812413058990728,1.849515072388766,1.8867445074459597,1.9240997020141437,1.9615790421347439,1.9991809598974954,2.0369039314263424,2.07474647498312,2.112707149180449,2.1507845512960095,2.18897731568104,2.2272841122564975,2.2657036450908707,2.3042346510541156,2.3428758985426468,2.3816261862706942,2.420484342123743,2.459449222070055,2.498519709126618,2.5376947123761346,2.5769731660318826,2.6163540285475726,2.6558362817694694,2.6954189301282963,2.7351009998685805,2.7748815383132746,2.814759613161644,2.854734311818535,2.8948047407532775,2.93497002488658,2.9752293070038975,3.0155817471938384,3.056026522310279,3.0965628254569317,3.1371898654931987,3.1779068665602086,3.218713067626011,3.259607722048951,3.30059009715833,3.3416594738514798,3.38281514620646,3.4240564211096194,3.4653826178972893,3.5067930680109733,3.5482871146653627,3.589864112528603,3.6315234274142285,3.6732644359842546,3.7150865254628935,3.756989093360449,3.79897154720691,3.841033304294823,3.8831737914310622]}],                        {\"legend\":{\"orientation\":\"h\",\"x\":0.5,\"xanchor\":\"center\"},\"margin\":{\"b\":0,\"l\":0,\"r\":0,\"t\":30},\"template\":{\"data\":{\"bar\":[{\"error_x\":{\"color\":\"#2a3f5f\"},\"error_y\":{\"color\":\"#2a3f5f\"},\"marker\":{\"line\":{\"color\":\"#E5ECF6\",\"width\":0.5},\"pattern\":{\"fillmode\":\"overlay\",\"size\":10,\"solidity\":0.2}},\"type\":\"bar\"}],\"barpolar\":[{\"marker\":{\"line\":{\"color\":\"#E5ECF6\",\"width\":0.5},\"pattern\":{\"fillmode\":\"overlay\",\"size\":10,\"solidity\":0.2}},\"type\":\"barpolar\"}],\"carpet\":[{\"aaxis\":{\"endlinecolor\":\"#2a3f5f\",\"gridcolor\":\"white\",\"linecolor\":\"white\",\"minorgridcolor\":\"white\",\"startlinecolor\":\"#2a3f5f\"},\"baxis\":{\"endlinecolor\":\"#2a3f5f\",\"gridcolor\":\"white\",\"linecolor\":\"white\",\"minorgridcolor\":\"white\",\"startlinecolor\":\"#2a3f5f\"},\"type\":\"carpet\"}],\"choropleth\":[{\"colorbar\":{\"outlinewidth\":0,\"ticks\":\"\"},\"type\":\"choropleth\"}],\"contour\":[{\"colorbar\":{\"outlinewidth\":0,\"ticks\":\"\"},\"colorscale\":[[0.0,\"#0d0887\"],[0.1111111111111111,\"#46039f\"],[0.2222222222222222,\"#7201a8\"],[0.3333333333333333,\"#9c179e\"],[0.4444444444444444,\"#bd3786\"],[0.5555555555555556,\"#d8576b\"],[0.6666666666666666,\"#ed7953\"],[0.7777777777777778,\"#fb9f3a\"],[0.8888888888888888,\"#fdca26\"],[1.0,\"#f0f921\"]],\"type\":\"contour\"}],\"contourcarpet\":[{\"colorbar\":{\"outlinewidth\":0,\"ticks\":\"\"},\"type\":\"contourcarpet\"}],\"heatmap\":[{\"colorbar\":{\"outlinewidth\":0,\"ticks\":\"\"},\"colorscale\":[[0.0,\"#0d0887\"],[0.1111111111111111,\"#46039f\"],[0.2222222222222222,\"#7201a8\"],[0.3333333333333333,\"#9c179e\"],[0.4444444444444444,\"#bd3786\"],[0.5555555555555556,\"#d8576b\"],[0.6666666666666666,\"#ed7953\"],[0.7777777777777778,\"#fb9f3a\"],[0.8888888888888888,\"#fdca26\"],[1.0,\"#f0f921\"]],\"type\":\"heatmap\"}],\"heatmapgl\":[{\"colorbar\":{\"outlinewidth\":0,\"ticks\":\"\"},\"colorscale\":[[0.0,\"#0d0887\"],[0.1111111111111111,\"#46039f\"],[0.2222222222222222,\"#7201a8\"],[0.3333333333333333,\"#9c179e\"],[0.4444444444444444,\"#bd3786\"],[0.5555555555555556,\"#d8576b\"],[0.6666666666666666,\"#ed7953\"],[0.7777777777777778,\"#fb9f3a\"],[0.8888888888888888,\"#fdca26\"],[1.0,\"#f0f921\"]],\"type\":\"heatmapgl\"}],\"histogram\":[{\"marker\":{\"pattern\":{\"fillmode\":\"overlay\",\"size\":10,\"solidity\":0.2}},\"type\":\"histogram\"}],\"histogram2d\":[{\"colorbar\":{\"outlinewidth\":0,\"ticks\":\"\"},\"colorscale\":[[0.0,\"#0d0887\"],[0.1111111111111111,\"#46039f\"],[0.2222222222222222,\"#7201a8\"],[0.3333333333333333,\"#9c179e\"],[0.4444444444444444,\"#bd3786\"],[0.5555555555555556,\"#d8576b\"],[0.6666666666666666,\"#ed7953\"],[0.7777777777777778,\"#fb9f3a\"],[0.8888888888888888,\"#fdca26\"],[1.0,\"#f0f921\"]],\"type\":\"histogram2d\"}],\"histogram2dcontour\":[{\"colorbar\":{\"outlinewidth\":0,\"ticks\":\"\"},\"colorscale\":[[0.0,\"#0d0887\"],[0.1111111111111111,\"#46039f\"],[0.2222222222222222,\"#7201a8\"],[0.3333333333333333,\"#9c179e\"],[0.4444444444444444,\"#bd3786\"],[0.5555555555555556,\"#d8576b\"],[0.6666666666666666,\"#ed7953\"],[0.7777777777777778,\"#fb9f3a\"],[0.8888888888888888,\"#fdca26\"],[1.0,\"#f0f921\"]],\"type\":\"histogram2dcontour\"}],\"mesh3d\":[{\"colorbar\":{\"outlinewidth\":0,\"ticks\":\"\"},\"type\":\"mesh3d\"}],\"parcoords\":[{\"line\":{\"colorbar\":{\"outlinewidth\":0,\"ticks\":\"\"}},\"type\":\"parcoords\"}],\"pie\":[{\"automargin\":true,\"type\":\"pie\"}],\"scatter\":[{\"marker\":{\"colorbar\":{\"outlinewidth\":0,\"ticks\":\"\"}},\"type\":\"scatter\"}],\"scatter3d\":[{\"line\":{\"colorbar\":{\"outlinewidth\":0,\"ticks\":\"\"}},\"marker\":{\"colorbar\":{\"outlinewidth\":0,\"ticks\":\"\"}},\"type\":\"scatter3d\"}],\"scattercarpet\":[{\"marker\":{\"colorbar\":{\"outlinewidth\":0,\"ticks\":\"\"}},\"type\":\"scattercarpet\"}],\"scattergeo\":[{\"marker\":{\"colorbar\":{\"outlinewidth\":0,\"ticks\":\"\"}},\"type\":\"scattergeo\"}],\"scattergl\":[{\"marker\":{\"colorbar\":{\"outlinewidth\":0,\"ticks\":\"\"}},\"type\":\"scattergl\"}],\"scattermapbox\":[{\"marker\":{\"colorbar\":{\"outlinewidth\":0,\"ticks\":\"\"}},\"type\":\"scattermapbox\"}],\"scatterpolar\":[{\"marker\":{\"colorbar\":{\"outlinewidth\":0,\"ticks\":\"\"}},\"type\":\"scatterpolar\"}],\"scatterpolargl\":[{\"marker\":{\"colorbar\":{\"outlinewidth\":0,\"ticks\":\"\"}},\"type\":\"scatterpolargl\"}],\"scatterternary\":[{\"marker\":{\"colorbar\":{\"outlinewidth\":0,\"ticks\":\"\"}},\"type\":\"scatterternary\"}],\"surface\":[{\"colorbar\":{\"outlinewidth\":0,\"ticks\":\"\"},\"colorscale\":[[0.0,\"#0d0887\"],[0.1111111111111111,\"#46039f\"],[0.2222222222222222,\"#7201a8\"],[0.3333333333333333,\"#9c179e\"],[0.4444444444444444,\"#bd3786\"],[0.5555555555555556,\"#d8576b\"],[0.6666666666666666,\"#ed7953\"],[0.7777777777777778,\"#fb9f3a\"],[0.8888888888888888,\"#fdca26\"],[1.0,\"#f0f921\"]],\"type\":\"surface\"}],\"table\":[{\"cells\":{\"fill\":{\"color\":\"#EBF0F8\"},\"line\":{\"color\":\"white\"}},\"header\":{\"fill\":{\"color\":\"#C8D4E3\"},\"line\":{\"color\":\"white\"}},\"type\":\"table\"}]},\"layout\":{\"annotationdefaults\":{\"arrowcolor\":\"#2a3f5f\",\"arrowhead\":0,\"arrowwidth\":1},\"autotypenumbers\":\"strict\",\"coloraxis\":{\"colorbar\":{\"outlinewidth\":0,\"ticks\":\"\"}},\"colorscale\":{\"diverging\":[[0,\"#8e0152\"],[0.1,\"#c51b7d\"],[0.2,\"#de77ae\"],[0.3,\"#f1b6da\"],[0.4,\"#fde0ef\"],[0.5,\"#f7f7f7\"],[0.6,\"#e6f5d0\"],[0.7,\"#b8e186\"],[0.8,\"#7fbc41\"],[0.9,\"#4d9221\"],[1,\"#276419\"]],\"sequential\":[[0.0,\"#0d0887\"],[0.1111111111111111,\"#46039f\"],[0.2222222222222222,\"#7201a8\"],[0.3333333333333333,\"#9c179e\"],[0.4444444444444444,\"#bd3786\"],[0.5555555555555556,\"#d8576b\"],[0.6666666666666666,\"#ed7953\"],[0.7777777777777778,\"#fb9f3a\"],[0.8888888888888888,\"#fdca26\"],[1.0,\"#f0f921\"]],\"sequentialminus\":[[0.0,\"#0d0887\"],[0.1111111111111111,\"#46039f\"],[0.2222222222222222,\"#7201a8\"],[0.3333333333333333,\"#9c179e\"],[0.4444444444444444,\"#bd3786\"],[0.5555555555555556,\"#d8576b\"],[0.6666666666666666,\"#ed7953\"],[0.7777777777777778,\"#fb9f3a\"],[0.8888888888888888,\"#fdca26\"],[1.0,\"#f0f921\"]]},\"colorway\":[\"#636efa\",\"#EF553B\",\"#00cc96\",\"#ab63fa\",\"#FFA15A\",\"#19d3f3\",\"#FF6692\",\"#B6E880\",\"#FF97FF\",\"#FECB52\"],\"font\":{\"color\":\"#2a3f5f\"},\"geo\":{\"bgcolor\":\"white\",\"lakecolor\":\"white\",\"landcolor\":\"#E5ECF6\",\"showlakes\":true,\"showland\":true,\"subunitcolor\":\"white\"},\"hoverlabel\":{\"align\":\"left\"},\"hovermode\":\"closest\",\"mapbox\":{\"style\":\"light\"},\"paper_bgcolor\":\"white\",\"plot_bgcolor\":\"#E5ECF6\",\"polar\":{\"angularaxis\":{\"gridcolor\":\"white\",\"linecolor\":\"white\",\"ticks\":\"\"},\"bgcolor\":\"#E5ECF6\",\"radialaxis\":{\"gridcolor\":\"white\",\"linecolor\":\"white\",\"ticks\":\"\"}},\"scene\":{\"xaxis\":{\"backgroundcolor\":\"#E5ECF6\",\"gridcolor\":\"white\",\"gridwidth\":2,\"linecolor\":\"white\",\"showbackground\":true,\"ticks\":\"\",\"zerolinecolor\":\"white\"},\"yaxis\":{\"backgroundcolor\":\"#E5ECF6\",\"gridcolor\":\"white\",\"gridwidth\":2,\"linecolor\":\"white\",\"showbackground\":true,\"ticks\":\"\",\"zerolinecolor\":\"white\"},\"zaxis\":{\"backgroundcolor\":\"#E5ECF6\",\"gridcolor\":\"white\",\"gridwidth\":2,\"linecolor\":\"white\",\"showbackground\":true,\"ticks\":\"\",\"zerolinecolor\":\"white\"}},\"shapedefaults\":{\"line\":{\"color\":\"#2a3f5f\"}},\"ternary\":{\"aaxis\":{\"gridcolor\":\"white\",\"linecolor\":\"white\",\"ticks\":\"\"},\"baxis\":{\"gridcolor\":\"white\",\"linecolor\":\"white\",\"ticks\":\"\"},\"bgcolor\":\"#E5ECF6\",\"caxis\":{\"gridcolor\":\"white\",\"linecolor\":\"white\",\"ticks\":\"\"}},\"title\":{\"x\":0.05},\"xaxis\":{\"automargin\":true,\"gridcolor\":\"white\",\"linecolor\":\"white\",\"ticks\":\"\",\"title\":{\"standoff\":15},\"zerolinecolor\":\"white\",\"zerolinewidth\":2},\"yaxis\":{\"automargin\":true,\"gridcolor\":\"white\",\"linecolor\":\"white\",\"ticks\":\"\",\"title\":{\"standoff\":15},\"zerolinecolor\":\"white\",\"zerolinewidth\":2}}},\"title\":{\"text\":\"\\u0417\\u0430\\u0432\\u0438\\u0441\\u0438\\u043c\\u043e\\u0441\\u0442\\u044c \\u0433\\u0430\\u0437\\u043e\\u0441\\u043e\\u0434\\u0435\\u0440\\u0436\\u0430\\u043d\\u0438\\u044f \\u043e\\u0442 \\u0434\\u0430\\u0432\\u043b\\u0435\\u043d\\u0438\\u044f\"},\"xaxis\":{\"title\":{\"text\":\"\\u0414\\u0430\\u0432\\u043b\\u0435\\u043d\\u0438\\u0435, \\u0430\\u0442\\u043c\"}},\"yaxis\":{\"title\":{\"text\":\"\\u0413\\u0430\\u0437\\u043e\\u0441\\u043e\\u0434\\u0435\\u0440\\u0436\\u0430\\u043d\\u0438\\u0435, \\u043c3/\\u043c3\"}}},                        {\"responsive\": true}                    ).then(function(){\n",
       "                            \n",
       "var gd = document.getElementById('6c0529be-3f16-4857-8933-e3791fa6adfa');\n",
       "var x = new MutationObserver(function (mutations, observer) {{\n",
       "        var display = window.getComputedStyle(gd).display;\n",
       "        if (!display || display === 'none') {{\n",
       "            console.log([gd, 'removed!']);\n",
       "            Plotly.purge(gd);\n",
       "            observer.disconnect();\n",
       "        }}\n",
       "}});\n",
       "\n",
       "// Listen for the removal of the full notebook cells\n",
       "var notebookContainer = gd.closest('#notebook-container');\n",
       "if (notebookContainer) {{\n",
       "    x.observe(notebookContainer, {childList: true});\n",
       "}}\n",
       "\n",
       "// Listen for the clearing of the current output cell\n",
       "var outputEl = gd.closest('.output');\n",
       "if (outputEl) {{\n",
       "    x.observe(outputEl, {childList: true});\n",
       "}}\n",
       "\n",
       "                        })                };                });            </script>        </div>"
      ]
     },
     "metadata": {},
     "output_type": "display_data"
    }
   ],
   "source": [
    "#визуализация\n",
    "\n",
    "\n",
    "print(\"Давление насыщения расчетное = \" + str(pb) + \" атм.\")\n",
    "print(\"Давление насыщения тех.режим = \" + str(78) + \" атм.\")\n",
    "\n",
    "fig = go.Figure()\n",
    "\n",
    "fig.add_trace(go.Scatter(x=[78], y=[34], name='$$R_s(Техрежим(T=16^0 C))$$'))\n",
    "fig.add_trace(go.Scatter(x=p_list, y=rs_70, name='$$R_s(T=70^0 C)$$'))\n",
    "fig.add_trace(go.Scatter(x=p_list, y=rs_90, name='$$R_s(T=90^0 C)$$'))\n",
    "fig.update_layout(legend_orientation=\"h\",\n",
    "                  legend=dict(x=.5, xanchor=\"center\"),\n",
    "                  title=\"Зависимость газосодержания от давления\",\n",
    "                  xaxis_title=\"Давление, атм\",\n",
    "                  yaxis_title=\"Газосодержание, м3/м3\",\n",
    "                  margin=dict(l=0, r=0, t=30, b=0))\n",
    "fig.update_traces(hoverinfo=\"x+y\")\n",
    "fig.show()\n",
    "\n",
    "\n"
   ]
  },
  {
   "cell_type": "markdown",
   "id": "41c13372",
   "metadata": {},
   "source": [
    "**С повышением давления до давления насыщения вязкость газонасыщенной нефти падает, так как в ней растворяется все больше газа. С повышением температуры вязкость нефти так же уменьшается.**"
   ]
  },
  {
   "cell_type": "code",
   "execution_count": 36,
   "id": "9301cf49",
   "metadata": {},
   "outputs": [
    {
     "data": {
      "application/vnd.plotly.v1+json": {
       "config": {
        "plotlyServerURL": "https://plot.ly"
       },
       "data": [
        {
         "hoverinfo": "x+y",
         "name": "$$M_{ol}(Техрежим(T=15^0 C)$$",
         "type": "scatter",
         "x": [
          72
         ],
         "y": [
          111
         ]
        },
        {
         "hoverinfo": "x+y",
         "name": "$$M_{ol}(T=70^0 C)$$",
         "type": "scatter",
         "x": [
          1,
          2,
          3,
          4,
          5,
          6,
          7,
          8,
          9,
          10,
          11,
          12,
          13,
          14,
          15,
          16,
          17,
          18,
          19,
          20,
          21,
          22,
          23,
          24,
          25,
          26,
          27,
          28,
          29,
          30,
          31,
          32,
          33,
          34,
          35,
          36,
          37,
          38,
          39,
          40,
          41,
          42,
          43,
          44,
          45,
          46,
          47,
          48,
          49,
          50,
          51,
          52,
          53,
          54,
          55,
          56,
          57,
          58,
          59,
          60,
          61,
          62,
          63,
          64,
          65,
          66,
          67,
          68,
          69,
          70,
          71,
          72,
          73,
          74,
          75,
          76,
          77,
          78,
          79,
          80,
          81,
          82,
          83,
          84,
          85,
          86,
          87,
          88,
          89,
          90,
          91,
          92,
          93,
          94,
          95,
          96,
          97,
          98,
          99,
          100,
          101,
          102,
          103,
          104,
          105,
          106,
          107,
          108,
          109,
          110,
          111
         ],
         "y": [
          43.939494787147325,
          43.92018214297181,
          43.898696003331786,
          43.87566884127983,
          43.851427185702384,
          43.82617485924542,
          43.80005279572076,
          43.77316499915227,
          43.74559178195351,
          43.717397275307476,
          43.68863402847987,
          43.65934599296413,
          43.629570548484466,
          43.59933992976326,
          43.56868226208636,
          43.53762233222449,
          43.50618217487278,
          43.47438152714313,
          43.44223818656363,
          43.40976829712842,
          43.37698658077014,
          43.34390652679869,
          43.31054054852117,
          43.27690011392242,
          43.2429958556143,
          43.208837664047394,
          43.17443476708519,
          43.13979579837151,
          43.104928856416755,
          43.0698415559424,
          43.034541072724785,
          42.99903418294582,
          42.96332729787589,
          42.92742649456844,
          42.8913375431296,
          42.855065931032954,
          42.818616884873414,
          42.78199538989247,
          42.74520620755614,
          42.70825389142553,
          42.67114280152444,
          42.633877117380074,
          42.596460849888004,
          42.55889785213316,
          42.521191829279815,
          42.483346347630196,
          42.44536484293828,
          42.40725062805471,
          42.369006899969214,
          42.33063674631016,
          42.292143151352626,
          42.253529001581256,
          42.21479709084922,
          42.175950125169265,
          42.13699072716993,
          42.097921440245756,
          42.05874473242767,
          42.01946299999737,
          41.98007857086626,
          41.94059370773853,
          41.90101061107521,
          41.86133142187522,
          41.82155822428707,
          41.78169304806429,
          41.74173787087653,
          41.70169462048621,
          41.661565176801375,
          41.6213513738128,
          41.58105500142392,
          41.54067780718093,
          41.500221497909756,
          41.45968774126638,
          41.41907816720578,
          41.37839436937561,
          41.337637906438694,
          41.296810303329266,
          41.255913052447156,
          41.21494761479347,
          41.17391542105175,
          41.13281787261747,
          41.091656342579356,
          41.05043217665502,
          41.00914669408394,
          40.967801188479754,
          40.92639692864471,
          40.884935159348025,
          40.8434171020702,
          40.801843955715384,
          40.76021689729327,
          40.71853708257222,
          40.676805646705226,
          40.6350237048301,
          40.59319235264514,
          40.55131266696154,
          40.509385706234035,
          40.46741251107023,
          40.42539410472044,
          40.383331493548276,
          40.34122566748354,
          40.299077600457856,
          40.2568882508239,
          40.214658561759364,
          40.17238946165581,
          40.130081864493604,
          40.08773667020338,
          40.04535476501439,
          40.002937021790935,
          39.96048430035679,
          39.91799744780839,
          39.875477298817565,
          39.83292467592363
         ]
        },
        {
         "hoverinfo": "x+y",
         "name": "$$M_{ol}(T=90^0 C)$$",
         "type": "scatter",
         "x": [
          1,
          2,
          3,
          4,
          5,
          6,
          7,
          8,
          9,
          10,
          11,
          12,
          13,
          14,
          15,
          16,
          17,
          18,
          19,
          20,
          21,
          22,
          23,
          24,
          25,
          26,
          27,
          28,
          29,
          30,
          31,
          32,
          33,
          34,
          35,
          36,
          37,
          38,
          39,
          40,
          41,
          42,
          43,
          44,
          45,
          46,
          47,
          48,
          49,
          50,
          51,
          52,
          53,
          54,
          55,
          56,
          57,
          58,
          59,
          60,
          61,
          62,
          63,
          64,
          65,
          66,
          67,
          68,
          69,
          70,
          71,
          72,
          73,
          74,
          75,
          76,
          77,
          78,
          79,
          80,
          81,
          82,
          83,
          84,
          85,
          86,
          87,
          88,
          89,
          90,
          91,
          92,
          93,
          94,
          95,
          96,
          97,
          98,
          99,
          100,
          101,
          102,
          103,
          104,
          105,
          106,
          107,
          108,
          109,
          110,
          111
         ],
         "y": [
          27.06307959634861,
          27.05167055926465,
          27.038978477431808,
          27.025377215723637,
          27.01105984578541,
          26.99614691940042,
          26.980721816313533,
          26.96484608520217,
          26.948567267554452,
          26.931923336682242,
          26.91494541634506,
          26.897659544790887,
          26.88008787249545,
          26.862249505710636,
          26.844161118771893,
          26.825837409966166,
          26.80729144833982,
          26.788534942499947,
          26.76957845236572,
          26.75043155837839,
          26.731102998439688,
          26.711600779994246,
          26.691932272703635,
          26.672104285780076,
          26.652123133058247,
          26.631994688167644,
          26.61172443163764,
          26.591317491373324,
          26.57077867764058,
          26.550112513470875,
          26.529323261219602,
          26.508414945874307,
          26.487391375600456,
          26.466256159927045,
          26.44501272590517,
          26.423664332517603,
          26.40221408357253,
          26.380664939277942,
          26.35901972666328,
          26.337281148990172,
          26.31545179427323,
          26.29353414301492,
          26.27153057524468,
          26.249443376939073,
          26.227274745891037,
          26.205026797086383,
          26.18270156763909,
          26.160301021330433,
          26.137827052791074,
          26.1152814913614,
          26.092666104660655,
          26.069982601892292,
          26.047232636909733,
          26.024417811064286,
          26.001539675854282,
          25.97859973539305,
          25.955599448710846,
          25.932540231904863,
          25.90942346014981,
          25.886250469580318,
          25.86302255905539,
          25.839740991814185,
          25.81640699703133,
          25.79302177127964,
          25.76958647990689,
          25.74610225833328,
          25.722570213274768,
          25.698991423898295,
          25.67536694291305,
          25.651697797602466,
          25.627984990801043,
          25.604229501819532,
          25.580432287322054,
          25.556594282158137,
          25.532716400152776,
          25.50879953485692,
          25.484844560261234,
          25.460852331474946,
          25.436823685372335,
          25.412759441208546,
          25.3886604012067,
          25.364527351117832,
          25.340361060755498,
          25.316162284506202,
          25.29193176181711,
          25.267670217662605,
          25.24337836299032,
          25.219056895148263,
          25.19470649829372,
          25.170327843785202,
          25.145921590557993,
          25.121488385484493,
          25.097028863719885,
          25.072543649034028,
          25.048033354130194,
          25.023498580951358,
          24.99893992097465,
          24.97435795549443,
          24.949753255894805,
          24.925126383911756,
          24.900477891885693,
          24.875808323004616,
          24.85111821153849,
          24.826408083065242,
          24.801678454688588,
          24.776929835248257,
          24.752162725522897,
          24.727377618425898,
          24.702574999194525,
          24.677755345572685,
          24.65291912798751
         ]
        }
       ],
       "layout": {
        "legend": {
         "orientation": "h",
         "x": 0.5,
         "xanchor": "center"
        },
        "margin": {
         "b": 0,
         "l": 0,
         "r": 0,
         "t": 30
        },
        "template": {
         "data": {
          "bar": [
           {
            "error_x": {
             "color": "#2a3f5f"
            },
            "error_y": {
             "color": "#2a3f5f"
            },
            "marker": {
             "line": {
              "color": "#E5ECF6",
              "width": 0.5
             },
             "pattern": {
              "fillmode": "overlay",
              "size": 10,
              "solidity": 0.2
             }
            },
            "type": "bar"
           }
          ],
          "barpolar": [
           {
            "marker": {
             "line": {
              "color": "#E5ECF6",
              "width": 0.5
             },
             "pattern": {
              "fillmode": "overlay",
              "size": 10,
              "solidity": 0.2
             }
            },
            "type": "barpolar"
           }
          ],
          "carpet": [
           {
            "aaxis": {
             "endlinecolor": "#2a3f5f",
             "gridcolor": "white",
             "linecolor": "white",
             "minorgridcolor": "white",
             "startlinecolor": "#2a3f5f"
            },
            "baxis": {
             "endlinecolor": "#2a3f5f",
             "gridcolor": "white",
             "linecolor": "white",
             "minorgridcolor": "white",
             "startlinecolor": "#2a3f5f"
            },
            "type": "carpet"
           }
          ],
          "choropleth": [
           {
            "colorbar": {
             "outlinewidth": 0,
             "ticks": ""
            },
            "type": "choropleth"
           }
          ],
          "contour": [
           {
            "colorbar": {
             "outlinewidth": 0,
             "ticks": ""
            },
            "colorscale": [
             [
              0,
              "#0d0887"
             ],
             [
              0.1111111111111111,
              "#46039f"
             ],
             [
              0.2222222222222222,
              "#7201a8"
             ],
             [
              0.3333333333333333,
              "#9c179e"
             ],
             [
              0.4444444444444444,
              "#bd3786"
             ],
             [
              0.5555555555555556,
              "#d8576b"
             ],
             [
              0.6666666666666666,
              "#ed7953"
             ],
             [
              0.7777777777777778,
              "#fb9f3a"
             ],
             [
              0.8888888888888888,
              "#fdca26"
             ],
             [
              1,
              "#f0f921"
             ]
            ],
            "type": "contour"
           }
          ],
          "contourcarpet": [
           {
            "colorbar": {
             "outlinewidth": 0,
             "ticks": ""
            },
            "type": "contourcarpet"
           }
          ],
          "heatmap": [
           {
            "colorbar": {
             "outlinewidth": 0,
             "ticks": ""
            },
            "colorscale": [
             [
              0,
              "#0d0887"
             ],
             [
              0.1111111111111111,
              "#46039f"
             ],
             [
              0.2222222222222222,
              "#7201a8"
             ],
             [
              0.3333333333333333,
              "#9c179e"
             ],
             [
              0.4444444444444444,
              "#bd3786"
             ],
             [
              0.5555555555555556,
              "#d8576b"
             ],
             [
              0.6666666666666666,
              "#ed7953"
             ],
             [
              0.7777777777777778,
              "#fb9f3a"
             ],
             [
              0.8888888888888888,
              "#fdca26"
             ],
             [
              1,
              "#f0f921"
             ]
            ],
            "type": "heatmap"
           }
          ],
          "heatmapgl": [
           {
            "colorbar": {
             "outlinewidth": 0,
             "ticks": ""
            },
            "colorscale": [
             [
              0,
              "#0d0887"
             ],
             [
              0.1111111111111111,
              "#46039f"
             ],
             [
              0.2222222222222222,
              "#7201a8"
             ],
             [
              0.3333333333333333,
              "#9c179e"
             ],
             [
              0.4444444444444444,
              "#bd3786"
             ],
             [
              0.5555555555555556,
              "#d8576b"
             ],
             [
              0.6666666666666666,
              "#ed7953"
             ],
             [
              0.7777777777777778,
              "#fb9f3a"
             ],
             [
              0.8888888888888888,
              "#fdca26"
             ],
             [
              1,
              "#f0f921"
             ]
            ],
            "type": "heatmapgl"
           }
          ],
          "histogram": [
           {
            "marker": {
             "pattern": {
              "fillmode": "overlay",
              "size": 10,
              "solidity": 0.2
             }
            },
            "type": "histogram"
           }
          ],
          "histogram2d": [
           {
            "colorbar": {
             "outlinewidth": 0,
             "ticks": ""
            },
            "colorscale": [
             [
              0,
              "#0d0887"
             ],
             [
              0.1111111111111111,
              "#46039f"
             ],
             [
              0.2222222222222222,
              "#7201a8"
             ],
             [
              0.3333333333333333,
              "#9c179e"
             ],
             [
              0.4444444444444444,
              "#bd3786"
             ],
             [
              0.5555555555555556,
              "#d8576b"
             ],
             [
              0.6666666666666666,
              "#ed7953"
             ],
             [
              0.7777777777777778,
              "#fb9f3a"
             ],
             [
              0.8888888888888888,
              "#fdca26"
             ],
             [
              1,
              "#f0f921"
             ]
            ],
            "type": "histogram2d"
           }
          ],
          "histogram2dcontour": [
           {
            "colorbar": {
             "outlinewidth": 0,
             "ticks": ""
            },
            "colorscale": [
             [
              0,
              "#0d0887"
             ],
             [
              0.1111111111111111,
              "#46039f"
             ],
             [
              0.2222222222222222,
              "#7201a8"
             ],
             [
              0.3333333333333333,
              "#9c179e"
             ],
             [
              0.4444444444444444,
              "#bd3786"
             ],
             [
              0.5555555555555556,
              "#d8576b"
             ],
             [
              0.6666666666666666,
              "#ed7953"
             ],
             [
              0.7777777777777778,
              "#fb9f3a"
             ],
             [
              0.8888888888888888,
              "#fdca26"
             ],
             [
              1,
              "#f0f921"
             ]
            ],
            "type": "histogram2dcontour"
           }
          ],
          "mesh3d": [
           {
            "colorbar": {
             "outlinewidth": 0,
             "ticks": ""
            },
            "type": "mesh3d"
           }
          ],
          "parcoords": [
           {
            "line": {
             "colorbar": {
              "outlinewidth": 0,
              "ticks": ""
             }
            },
            "type": "parcoords"
           }
          ],
          "pie": [
           {
            "automargin": true,
            "type": "pie"
           }
          ],
          "scatter": [
           {
            "marker": {
             "colorbar": {
              "outlinewidth": 0,
              "ticks": ""
             }
            },
            "type": "scatter"
           }
          ],
          "scatter3d": [
           {
            "line": {
             "colorbar": {
              "outlinewidth": 0,
              "ticks": ""
             }
            },
            "marker": {
             "colorbar": {
              "outlinewidth": 0,
              "ticks": ""
             }
            },
            "type": "scatter3d"
           }
          ],
          "scattercarpet": [
           {
            "marker": {
             "colorbar": {
              "outlinewidth": 0,
              "ticks": ""
             }
            },
            "type": "scattercarpet"
           }
          ],
          "scattergeo": [
           {
            "marker": {
             "colorbar": {
              "outlinewidth": 0,
              "ticks": ""
             }
            },
            "type": "scattergeo"
           }
          ],
          "scattergl": [
           {
            "marker": {
             "colorbar": {
              "outlinewidth": 0,
              "ticks": ""
             }
            },
            "type": "scattergl"
           }
          ],
          "scattermapbox": [
           {
            "marker": {
             "colorbar": {
              "outlinewidth": 0,
              "ticks": ""
             }
            },
            "type": "scattermapbox"
           }
          ],
          "scatterpolar": [
           {
            "marker": {
             "colorbar": {
              "outlinewidth": 0,
              "ticks": ""
             }
            },
            "type": "scatterpolar"
           }
          ],
          "scatterpolargl": [
           {
            "marker": {
             "colorbar": {
              "outlinewidth": 0,
              "ticks": ""
             }
            },
            "type": "scatterpolargl"
           }
          ],
          "scatterternary": [
           {
            "marker": {
             "colorbar": {
              "outlinewidth": 0,
              "ticks": ""
             }
            },
            "type": "scatterternary"
           }
          ],
          "surface": [
           {
            "colorbar": {
             "outlinewidth": 0,
             "ticks": ""
            },
            "colorscale": [
             [
              0,
              "#0d0887"
             ],
             [
              0.1111111111111111,
              "#46039f"
             ],
             [
              0.2222222222222222,
              "#7201a8"
             ],
             [
              0.3333333333333333,
              "#9c179e"
             ],
             [
              0.4444444444444444,
              "#bd3786"
             ],
             [
              0.5555555555555556,
              "#d8576b"
             ],
             [
              0.6666666666666666,
              "#ed7953"
             ],
             [
              0.7777777777777778,
              "#fb9f3a"
             ],
             [
              0.8888888888888888,
              "#fdca26"
             ],
             [
              1,
              "#f0f921"
             ]
            ],
            "type": "surface"
           }
          ],
          "table": [
           {
            "cells": {
             "fill": {
              "color": "#EBF0F8"
             },
             "line": {
              "color": "white"
             }
            },
            "header": {
             "fill": {
              "color": "#C8D4E3"
             },
             "line": {
              "color": "white"
             }
            },
            "type": "table"
           }
          ]
         },
         "layout": {
          "annotationdefaults": {
           "arrowcolor": "#2a3f5f",
           "arrowhead": 0,
           "arrowwidth": 1
          },
          "autotypenumbers": "strict",
          "coloraxis": {
           "colorbar": {
            "outlinewidth": 0,
            "ticks": ""
           }
          },
          "colorscale": {
           "diverging": [
            [
             0,
             "#8e0152"
            ],
            [
             0.1,
             "#c51b7d"
            ],
            [
             0.2,
             "#de77ae"
            ],
            [
             0.3,
             "#f1b6da"
            ],
            [
             0.4,
             "#fde0ef"
            ],
            [
             0.5,
             "#f7f7f7"
            ],
            [
             0.6,
             "#e6f5d0"
            ],
            [
             0.7,
             "#b8e186"
            ],
            [
             0.8,
             "#7fbc41"
            ],
            [
             0.9,
             "#4d9221"
            ],
            [
             1,
             "#276419"
            ]
           ],
           "sequential": [
            [
             0,
             "#0d0887"
            ],
            [
             0.1111111111111111,
             "#46039f"
            ],
            [
             0.2222222222222222,
             "#7201a8"
            ],
            [
             0.3333333333333333,
             "#9c179e"
            ],
            [
             0.4444444444444444,
             "#bd3786"
            ],
            [
             0.5555555555555556,
             "#d8576b"
            ],
            [
             0.6666666666666666,
             "#ed7953"
            ],
            [
             0.7777777777777778,
             "#fb9f3a"
            ],
            [
             0.8888888888888888,
             "#fdca26"
            ],
            [
             1,
             "#f0f921"
            ]
           ],
           "sequentialminus": [
            [
             0,
             "#0d0887"
            ],
            [
             0.1111111111111111,
             "#46039f"
            ],
            [
             0.2222222222222222,
             "#7201a8"
            ],
            [
             0.3333333333333333,
             "#9c179e"
            ],
            [
             0.4444444444444444,
             "#bd3786"
            ],
            [
             0.5555555555555556,
             "#d8576b"
            ],
            [
             0.6666666666666666,
             "#ed7953"
            ],
            [
             0.7777777777777778,
             "#fb9f3a"
            ],
            [
             0.8888888888888888,
             "#fdca26"
            ],
            [
             1,
             "#f0f921"
            ]
           ]
          },
          "colorway": [
           "#636efa",
           "#EF553B",
           "#00cc96",
           "#ab63fa",
           "#FFA15A",
           "#19d3f3",
           "#FF6692",
           "#B6E880",
           "#FF97FF",
           "#FECB52"
          ],
          "font": {
           "color": "#2a3f5f"
          },
          "geo": {
           "bgcolor": "white",
           "lakecolor": "white",
           "landcolor": "#E5ECF6",
           "showlakes": true,
           "showland": true,
           "subunitcolor": "white"
          },
          "hoverlabel": {
           "align": "left"
          },
          "hovermode": "closest",
          "mapbox": {
           "style": "light"
          },
          "paper_bgcolor": "white",
          "plot_bgcolor": "#E5ECF6",
          "polar": {
           "angularaxis": {
            "gridcolor": "white",
            "linecolor": "white",
            "ticks": ""
           },
           "bgcolor": "#E5ECF6",
           "radialaxis": {
            "gridcolor": "white",
            "linecolor": "white",
            "ticks": ""
           }
          },
          "scene": {
           "xaxis": {
            "backgroundcolor": "#E5ECF6",
            "gridcolor": "white",
            "gridwidth": 2,
            "linecolor": "white",
            "showbackground": true,
            "ticks": "",
            "zerolinecolor": "white"
           },
           "yaxis": {
            "backgroundcolor": "#E5ECF6",
            "gridcolor": "white",
            "gridwidth": 2,
            "linecolor": "white",
            "showbackground": true,
            "ticks": "",
            "zerolinecolor": "white"
           },
           "zaxis": {
            "backgroundcolor": "#E5ECF6",
            "gridcolor": "white",
            "gridwidth": 2,
            "linecolor": "white",
            "showbackground": true,
            "ticks": "",
            "zerolinecolor": "white"
           }
          },
          "shapedefaults": {
           "line": {
            "color": "#2a3f5f"
           }
          },
          "ternary": {
           "aaxis": {
            "gridcolor": "white",
            "linecolor": "white",
            "ticks": ""
           },
           "baxis": {
            "gridcolor": "white",
            "linecolor": "white",
            "ticks": ""
           },
           "bgcolor": "#E5ECF6",
           "caxis": {
            "gridcolor": "white",
            "linecolor": "white",
            "ticks": ""
           }
          },
          "title": {
           "x": 0.05
          },
          "xaxis": {
           "automargin": true,
           "gridcolor": "white",
           "linecolor": "white",
           "ticks": "",
           "title": {
            "standoff": 15
           },
           "zerolinecolor": "white",
           "zerolinewidth": 2
          },
          "yaxis": {
           "automargin": true,
           "gridcolor": "white",
           "linecolor": "white",
           "ticks": "",
           "title": {
            "standoff": 15
           },
           "zerolinecolor": "white",
           "zerolinewidth": 2
          }
         }
        },
        "title": {
         "text": "Зависимость вязкости газонасыщенной нефти от давления"
        },
        "xaxis": {
         "title": {
          "text": "Давление, атм"
         }
        },
        "yaxis": {
         "title": {
          "text": "Вязкость, сП"
         }
        }
       }
      },
      "text/html": [
       "<div>                            <div id=\"d68b1c5e-00ed-4565-a599-8351bf269668\" class=\"plotly-graph-div\" style=\"height:525px; width:100%;\"></div>            <script type=\"text/javascript\">                require([\"plotly\"], function(Plotly) {                    window.PLOTLYENV=window.PLOTLYENV || {};                                    if (document.getElementById(\"d68b1c5e-00ed-4565-a599-8351bf269668\")) {                    Plotly.newPlot(                        \"d68b1c5e-00ed-4565-a599-8351bf269668\",                        [{\"hoverinfo\":\"x+y\",\"name\":\"$$M_{ol}(\\u0422\\u0435\\u0445\\u0440\\u0435\\u0436\\u0438\\u043c(T=15^0 C)$$\",\"type\":\"scatter\",\"x\":[72],\"y\":[111]},{\"hoverinfo\":\"x+y\",\"name\":\"$$M_{ol}(T=70^0 C)$$\",\"type\":\"scatter\",\"x\":[1,2,3,4,5,6,7,8,9,10,11,12,13,14,15,16,17,18,19,20,21,22,23,24,25,26,27,28,29,30,31,32,33,34,35,36,37,38,39,40,41,42,43,44,45,46,47,48,49,50,51,52,53,54,55,56,57,58,59,60,61,62,63,64,65,66,67,68,69,70,71,72,73,74,75,76,77,78,79,80,81,82,83,84,85,86,87,88,89,90,91,92,93,94,95,96,97,98,99,100,101,102,103,104,105,106,107,108,109,110,111],\"y\":[43.939494787147325,43.92018214297181,43.898696003331786,43.87566884127983,43.851427185702384,43.82617485924542,43.80005279572076,43.77316499915227,43.74559178195351,43.717397275307476,43.68863402847987,43.65934599296413,43.629570548484466,43.59933992976326,43.56868226208636,43.53762233222449,43.50618217487278,43.47438152714313,43.44223818656363,43.40976829712842,43.37698658077014,43.34390652679869,43.31054054852117,43.27690011392242,43.2429958556143,43.208837664047394,43.17443476708519,43.13979579837151,43.104928856416755,43.0698415559424,43.034541072724785,42.99903418294582,42.96332729787589,42.92742649456844,42.8913375431296,42.855065931032954,42.818616884873414,42.78199538989247,42.74520620755614,42.70825389142553,42.67114280152444,42.633877117380074,42.596460849888004,42.55889785213316,42.521191829279815,42.483346347630196,42.44536484293828,42.40725062805471,42.369006899969214,42.33063674631016,42.292143151352626,42.253529001581256,42.21479709084922,42.175950125169265,42.13699072716993,42.097921440245756,42.05874473242767,42.01946299999737,41.98007857086626,41.94059370773853,41.90101061107521,41.86133142187522,41.82155822428707,41.78169304806429,41.74173787087653,41.70169462048621,41.661565176801375,41.6213513738128,41.58105500142392,41.54067780718093,41.500221497909756,41.45968774126638,41.41907816720578,41.37839436937561,41.337637906438694,41.296810303329266,41.255913052447156,41.21494761479347,41.17391542105175,41.13281787261747,41.091656342579356,41.05043217665502,41.00914669408394,40.967801188479754,40.92639692864471,40.884935159348025,40.8434171020702,40.801843955715384,40.76021689729327,40.71853708257222,40.676805646705226,40.6350237048301,40.59319235264514,40.55131266696154,40.509385706234035,40.46741251107023,40.42539410472044,40.383331493548276,40.34122566748354,40.299077600457856,40.2568882508239,40.214658561759364,40.17238946165581,40.130081864493604,40.08773667020338,40.04535476501439,40.002937021790935,39.96048430035679,39.91799744780839,39.875477298817565,39.83292467592363]},{\"hoverinfo\":\"x+y\",\"name\":\"$$M_{ol}(T=90^0 C)$$\",\"type\":\"scatter\",\"x\":[1,2,3,4,5,6,7,8,9,10,11,12,13,14,15,16,17,18,19,20,21,22,23,24,25,26,27,28,29,30,31,32,33,34,35,36,37,38,39,40,41,42,43,44,45,46,47,48,49,50,51,52,53,54,55,56,57,58,59,60,61,62,63,64,65,66,67,68,69,70,71,72,73,74,75,76,77,78,79,80,81,82,83,84,85,86,87,88,89,90,91,92,93,94,95,96,97,98,99,100,101,102,103,104,105,106,107,108,109,110,111],\"y\":[27.06307959634861,27.05167055926465,27.038978477431808,27.025377215723637,27.01105984578541,26.99614691940042,26.980721816313533,26.96484608520217,26.948567267554452,26.931923336682242,26.91494541634506,26.897659544790887,26.88008787249545,26.862249505710636,26.844161118771893,26.825837409966166,26.80729144833982,26.788534942499947,26.76957845236572,26.75043155837839,26.731102998439688,26.711600779994246,26.691932272703635,26.672104285780076,26.652123133058247,26.631994688167644,26.61172443163764,26.591317491373324,26.57077867764058,26.550112513470875,26.529323261219602,26.508414945874307,26.487391375600456,26.466256159927045,26.44501272590517,26.423664332517603,26.40221408357253,26.380664939277942,26.35901972666328,26.337281148990172,26.31545179427323,26.29353414301492,26.27153057524468,26.249443376939073,26.227274745891037,26.205026797086383,26.18270156763909,26.160301021330433,26.137827052791074,26.1152814913614,26.092666104660655,26.069982601892292,26.047232636909733,26.024417811064286,26.001539675854282,25.97859973539305,25.955599448710846,25.932540231904863,25.90942346014981,25.886250469580318,25.86302255905539,25.839740991814185,25.81640699703133,25.79302177127964,25.76958647990689,25.74610225833328,25.722570213274768,25.698991423898295,25.67536694291305,25.651697797602466,25.627984990801043,25.604229501819532,25.580432287322054,25.556594282158137,25.532716400152776,25.50879953485692,25.484844560261234,25.460852331474946,25.436823685372335,25.412759441208546,25.3886604012067,25.364527351117832,25.340361060755498,25.316162284506202,25.29193176181711,25.267670217662605,25.24337836299032,25.219056895148263,25.19470649829372,25.170327843785202,25.145921590557993,25.121488385484493,25.097028863719885,25.072543649034028,25.048033354130194,25.023498580951358,24.99893992097465,24.97435795549443,24.949753255894805,24.925126383911756,24.900477891885693,24.875808323004616,24.85111821153849,24.826408083065242,24.801678454688588,24.776929835248257,24.752162725522897,24.727377618425898,24.702574999194525,24.677755345572685,24.65291912798751]}],                        {\"legend\":{\"orientation\":\"h\",\"x\":0.5,\"xanchor\":\"center\"},\"margin\":{\"b\":0,\"l\":0,\"r\":0,\"t\":30},\"template\":{\"data\":{\"bar\":[{\"error_x\":{\"color\":\"#2a3f5f\"},\"error_y\":{\"color\":\"#2a3f5f\"},\"marker\":{\"line\":{\"color\":\"#E5ECF6\",\"width\":0.5},\"pattern\":{\"fillmode\":\"overlay\",\"size\":10,\"solidity\":0.2}},\"type\":\"bar\"}],\"barpolar\":[{\"marker\":{\"line\":{\"color\":\"#E5ECF6\",\"width\":0.5},\"pattern\":{\"fillmode\":\"overlay\",\"size\":10,\"solidity\":0.2}},\"type\":\"barpolar\"}],\"carpet\":[{\"aaxis\":{\"endlinecolor\":\"#2a3f5f\",\"gridcolor\":\"white\",\"linecolor\":\"white\",\"minorgridcolor\":\"white\",\"startlinecolor\":\"#2a3f5f\"},\"baxis\":{\"endlinecolor\":\"#2a3f5f\",\"gridcolor\":\"white\",\"linecolor\":\"white\",\"minorgridcolor\":\"white\",\"startlinecolor\":\"#2a3f5f\"},\"type\":\"carpet\"}],\"choropleth\":[{\"colorbar\":{\"outlinewidth\":0,\"ticks\":\"\"},\"type\":\"choropleth\"}],\"contour\":[{\"colorbar\":{\"outlinewidth\":0,\"ticks\":\"\"},\"colorscale\":[[0.0,\"#0d0887\"],[0.1111111111111111,\"#46039f\"],[0.2222222222222222,\"#7201a8\"],[0.3333333333333333,\"#9c179e\"],[0.4444444444444444,\"#bd3786\"],[0.5555555555555556,\"#d8576b\"],[0.6666666666666666,\"#ed7953\"],[0.7777777777777778,\"#fb9f3a\"],[0.8888888888888888,\"#fdca26\"],[1.0,\"#f0f921\"]],\"type\":\"contour\"}],\"contourcarpet\":[{\"colorbar\":{\"outlinewidth\":0,\"ticks\":\"\"},\"type\":\"contourcarpet\"}],\"heatmap\":[{\"colorbar\":{\"outlinewidth\":0,\"ticks\":\"\"},\"colorscale\":[[0.0,\"#0d0887\"],[0.1111111111111111,\"#46039f\"],[0.2222222222222222,\"#7201a8\"],[0.3333333333333333,\"#9c179e\"],[0.4444444444444444,\"#bd3786\"],[0.5555555555555556,\"#d8576b\"],[0.6666666666666666,\"#ed7953\"],[0.7777777777777778,\"#fb9f3a\"],[0.8888888888888888,\"#fdca26\"],[1.0,\"#f0f921\"]],\"type\":\"heatmap\"}],\"heatmapgl\":[{\"colorbar\":{\"outlinewidth\":0,\"ticks\":\"\"},\"colorscale\":[[0.0,\"#0d0887\"],[0.1111111111111111,\"#46039f\"],[0.2222222222222222,\"#7201a8\"],[0.3333333333333333,\"#9c179e\"],[0.4444444444444444,\"#bd3786\"],[0.5555555555555556,\"#d8576b\"],[0.6666666666666666,\"#ed7953\"],[0.7777777777777778,\"#fb9f3a\"],[0.8888888888888888,\"#fdca26\"],[1.0,\"#f0f921\"]],\"type\":\"heatmapgl\"}],\"histogram\":[{\"marker\":{\"pattern\":{\"fillmode\":\"overlay\",\"size\":10,\"solidity\":0.2}},\"type\":\"histogram\"}],\"histogram2d\":[{\"colorbar\":{\"outlinewidth\":0,\"ticks\":\"\"},\"colorscale\":[[0.0,\"#0d0887\"],[0.1111111111111111,\"#46039f\"],[0.2222222222222222,\"#7201a8\"],[0.3333333333333333,\"#9c179e\"],[0.4444444444444444,\"#bd3786\"],[0.5555555555555556,\"#d8576b\"],[0.6666666666666666,\"#ed7953\"],[0.7777777777777778,\"#fb9f3a\"],[0.8888888888888888,\"#fdca26\"],[1.0,\"#f0f921\"]],\"type\":\"histogram2d\"}],\"histogram2dcontour\":[{\"colorbar\":{\"outlinewidth\":0,\"ticks\":\"\"},\"colorscale\":[[0.0,\"#0d0887\"],[0.1111111111111111,\"#46039f\"],[0.2222222222222222,\"#7201a8\"],[0.3333333333333333,\"#9c179e\"],[0.4444444444444444,\"#bd3786\"],[0.5555555555555556,\"#d8576b\"],[0.6666666666666666,\"#ed7953\"],[0.7777777777777778,\"#fb9f3a\"],[0.8888888888888888,\"#fdca26\"],[1.0,\"#f0f921\"]],\"type\":\"histogram2dcontour\"}],\"mesh3d\":[{\"colorbar\":{\"outlinewidth\":0,\"ticks\":\"\"},\"type\":\"mesh3d\"}],\"parcoords\":[{\"line\":{\"colorbar\":{\"outlinewidth\":0,\"ticks\":\"\"}},\"type\":\"parcoords\"}],\"pie\":[{\"automargin\":true,\"type\":\"pie\"}],\"scatter\":[{\"marker\":{\"colorbar\":{\"outlinewidth\":0,\"ticks\":\"\"}},\"type\":\"scatter\"}],\"scatter3d\":[{\"line\":{\"colorbar\":{\"outlinewidth\":0,\"ticks\":\"\"}},\"marker\":{\"colorbar\":{\"outlinewidth\":0,\"ticks\":\"\"}},\"type\":\"scatter3d\"}],\"scattercarpet\":[{\"marker\":{\"colorbar\":{\"outlinewidth\":0,\"ticks\":\"\"}},\"type\":\"scattercarpet\"}],\"scattergeo\":[{\"marker\":{\"colorbar\":{\"outlinewidth\":0,\"ticks\":\"\"}},\"type\":\"scattergeo\"}],\"scattergl\":[{\"marker\":{\"colorbar\":{\"outlinewidth\":0,\"ticks\":\"\"}},\"type\":\"scattergl\"}],\"scattermapbox\":[{\"marker\":{\"colorbar\":{\"outlinewidth\":0,\"ticks\":\"\"}},\"type\":\"scattermapbox\"}],\"scatterpolar\":[{\"marker\":{\"colorbar\":{\"outlinewidth\":0,\"ticks\":\"\"}},\"type\":\"scatterpolar\"}],\"scatterpolargl\":[{\"marker\":{\"colorbar\":{\"outlinewidth\":0,\"ticks\":\"\"}},\"type\":\"scatterpolargl\"}],\"scatterternary\":[{\"marker\":{\"colorbar\":{\"outlinewidth\":0,\"ticks\":\"\"}},\"type\":\"scatterternary\"}],\"surface\":[{\"colorbar\":{\"outlinewidth\":0,\"ticks\":\"\"},\"colorscale\":[[0.0,\"#0d0887\"],[0.1111111111111111,\"#46039f\"],[0.2222222222222222,\"#7201a8\"],[0.3333333333333333,\"#9c179e\"],[0.4444444444444444,\"#bd3786\"],[0.5555555555555556,\"#d8576b\"],[0.6666666666666666,\"#ed7953\"],[0.7777777777777778,\"#fb9f3a\"],[0.8888888888888888,\"#fdca26\"],[1.0,\"#f0f921\"]],\"type\":\"surface\"}],\"table\":[{\"cells\":{\"fill\":{\"color\":\"#EBF0F8\"},\"line\":{\"color\":\"white\"}},\"header\":{\"fill\":{\"color\":\"#C8D4E3\"},\"line\":{\"color\":\"white\"}},\"type\":\"table\"}]},\"layout\":{\"annotationdefaults\":{\"arrowcolor\":\"#2a3f5f\",\"arrowhead\":0,\"arrowwidth\":1},\"autotypenumbers\":\"strict\",\"coloraxis\":{\"colorbar\":{\"outlinewidth\":0,\"ticks\":\"\"}},\"colorscale\":{\"diverging\":[[0,\"#8e0152\"],[0.1,\"#c51b7d\"],[0.2,\"#de77ae\"],[0.3,\"#f1b6da\"],[0.4,\"#fde0ef\"],[0.5,\"#f7f7f7\"],[0.6,\"#e6f5d0\"],[0.7,\"#b8e186\"],[0.8,\"#7fbc41\"],[0.9,\"#4d9221\"],[1,\"#276419\"]],\"sequential\":[[0.0,\"#0d0887\"],[0.1111111111111111,\"#46039f\"],[0.2222222222222222,\"#7201a8\"],[0.3333333333333333,\"#9c179e\"],[0.4444444444444444,\"#bd3786\"],[0.5555555555555556,\"#d8576b\"],[0.6666666666666666,\"#ed7953\"],[0.7777777777777778,\"#fb9f3a\"],[0.8888888888888888,\"#fdca26\"],[1.0,\"#f0f921\"]],\"sequentialminus\":[[0.0,\"#0d0887\"],[0.1111111111111111,\"#46039f\"],[0.2222222222222222,\"#7201a8\"],[0.3333333333333333,\"#9c179e\"],[0.4444444444444444,\"#bd3786\"],[0.5555555555555556,\"#d8576b\"],[0.6666666666666666,\"#ed7953\"],[0.7777777777777778,\"#fb9f3a\"],[0.8888888888888888,\"#fdca26\"],[1.0,\"#f0f921\"]]},\"colorway\":[\"#636efa\",\"#EF553B\",\"#00cc96\",\"#ab63fa\",\"#FFA15A\",\"#19d3f3\",\"#FF6692\",\"#B6E880\",\"#FF97FF\",\"#FECB52\"],\"font\":{\"color\":\"#2a3f5f\"},\"geo\":{\"bgcolor\":\"white\",\"lakecolor\":\"white\",\"landcolor\":\"#E5ECF6\",\"showlakes\":true,\"showland\":true,\"subunitcolor\":\"white\"},\"hoverlabel\":{\"align\":\"left\"},\"hovermode\":\"closest\",\"mapbox\":{\"style\":\"light\"},\"paper_bgcolor\":\"white\",\"plot_bgcolor\":\"#E5ECF6\",\"polar\":{\"angularaxis\":{\"gridcolor\":\"white\",\"linecolor\":\"white\",\"ticks\":\"\"},\"bgcolor\":\"#E5ECF6\",\"radialaxis\":{\"gridcolor\":\"white\",\"linecolor\":\"white\",\"ticks\":\"\"}},\"scene\":{\"xaxis\":{\"backgroundcolor\":\"#E5ECF6\",\"gridcolor\":\"white\",\"gridwidth\":2,\"linecolor\":\"white\",\"showbackground\":true,\"ticks\":\"\",\"zerolinecolor\":\"white\"},\"yaxis\":{\"backgroundcolor\":\"#E5ECF6\",\"gridcolor\":\"white\",\"gridwidth\":2,\"linecolor\":\"white\",\"showbackground\":true,\"ticks\":\"\",\"zerolinecolor\":\"white\"},\"zaxis\":{\"backgroundcolor\":\"#E5ECF6\",\"gridcolor\":\"white\",\"gridwidth\":2,\"linecolor\":\"white\",\"showbackground\":true,\"ticks\":\"\",\"zerolinecolor\":\"white\"}},\"shapedefaults\":{\"line\":{\"color\":\"#2a3f5f\"}},\"ternary\":{\"aaxis\":{\"gridcolor\":\"white\",\"linecolor\":\"white\",\"ticks\":\"\"},\"baxis\":{\"gridcolor\":\"white\",\"linecolor\":\"white\",\"ticks\":\"\"},\"bgcolor\":\"#E5ECF6\",\"caxis\":{\"gridcolor\":\"white\",\"linecolor\":\"white\",\"ticks\":\"\"}},\"title\":{\"x\":0.05},\"xaxis\":{\"automargin\":true,\"gridcolor\":\"white\",\"linecolor\":\"white\",\"ticks\":\"\",\"title\":{\"standoff\":15},\"zerolinecolor\":\"white\",\"zerolinewidth\":2},\"yaxis\":{\"automargin\":true,\"gridcolor\":\"white\",\"linecolor\":\"white\",\"ticks\":\"\",\"title\":{\"standoff\":15},\"zerolinecolor\":\"white\",\"zerolinewidth\":2}}},\"title\":{\"text\":\"\\u0417\\u0430\\u0432\\u0438\\u0441\\u0438\\u043c\\u043e\\u0441\\u0442\\u044c \\u0432\\u044f\\u0437\\u043a\\u043e\\u0441\\u0442\\u0438 \\u0433\\u0430\\u0437\\u043e\\u043d\\u0430\\u0441\\u044b\\u0449\\u0435\\u043d\\u043d\\u043e\\u0439 \\u043d\\u0435\\u0444\\u0442\\u0438 \\u043e\\u0442 \\u0434\\u0430\\u0432\\u043b\\u0435\\u043d\\u0438\\u044f\"},\"xaxis\":{\"title\":{\"text\":\"\\u0414\\u0430\\u0432\\u043b\\u0435\\u043d\\u0438\\u0435, \\u0430\\u0442\\u043c\"}},\"yaxis\":{\"title\":{\"text\":\"\\u0412\\u044f\\u0437\\u043a\\u043e\\u0441\\u0442\\u044c, \\u0441\\u041f\"}}},                        {\"responsive\": true}                    ).then(function(){\n",
       "                            \n",
       "var gd = document.getElementById('d68b1c5e-00ed-4565-a599-8351bf269668');\n",
       "var x = new MutationObserver(function (mutations, observer) {{\n",
       "        var display = window.getComputedStyle(gd).display;\n",
       "        if (!display || display === 'none') {{\n",
       "            console.log([gd, 'removed!']);\n",
       "            Plotly.purge(gd);\n",
       "            observer.disconnect();\n",
       "        }}\n",
       "}});\n",
       "\n",
       "// Listen for the removal of the full notebook cells\n",
       "var notebookContainer = gd.closest('#notebook-container');\n",
       "if (notebookContainer) {{\n",
       "    x.observe(notebookContainer, {childList: true});\n",
       "}}\n",
       "\n",
       "// Listen for the clearing of the current output cell\n",
       "var outputEl = gd.closest('.output');\n",
       "if (outputEl) {{\n",
       "    x.observe(outputEl, {childList: true});\n",
       "}}\n",
       "\n",
       "                        })                };                });            </script>        </div>"
      ]
     },
     "metadata": {},
     "output_type": "display_data"
    }
   ],
   "source": [
    "fig1 = go.Figure()\n",
    "\n",
    "fig1.add_trace(go.Scatter(x=[72], y=[111], name='$$M_{ol}(Техрежим(T=16^0 C)$$'))\n",
    "fig1.add_trace(go.Scatter(x=p_list, y=mu_ol_70, name='$$M_{ol}(T=70^0 C)$$'))\n",
    "fig1.add_trace(go.Scatter(x=p_list, y=mu_ol_90, name='$$M_{ol}(T=90^0 C)$$'))\n",
    "fig1.update_layout(legend_orientation=\"h\",\n",
    "                  legend=dict(x=.5, xanchor=\"center\"),\n",
    "                  title=\"Зависимость вязкости газонасыщенной нефти от давления\",\n",
    "                  xaxis_title=\"Давление, атм\",\n",
    "                  yaxis_title=\"Вязкость, сП\",\n",
    "                  margin=dict(l=0, r=0, t=30, b=0))\n",
    "fig1.update_traces(hoverinfo=\"x+y\")\n",
    "fig1.show()\n"
   ]
  },
  {
   "cell_type": "markdown",
   "id": "f7469f28",
   "metadata": {},
   "source": [
    "**При повышении давления коэффициент сжимаемости падает(следствие уменьшения расстояния между частицами нефти). Чем выше температура, тем выше коэффициент сжимаемости нефти(следствие теплового расширения).**"
   ]
  },
  {
   "cell_type": "code",
   "execution_count": 10,
   "id": "102e7659",
   "metadata": {
    "scrolled": false
   },
   "outputs": [
    {
     "data": {
      "application/vnd.plotly.v1+json": {
       "config": {
        "plotlyServerURL": "https://plot.ly"
       },
       "data": [
        {
         "hoverinfo": "x+y",
         "name": "$$C_o(T=70^0 C)$$",
         "type": "scatter",
         "x": [
          1,
          2,
          3,
          4,
          5,
          6,
          7,
          8,
          9,
          10,
          11,
          12,
          13,
          14,
          15,
          16,
          17,
          18,
          19,
          20,
          21,
          22,
          23,
          24,
          25,
          26,
          27,
          28,
          29,
          30,
          31,
          32,
          33,
          34,
          35,
          36,
          37,
          38,
          39,
          40,
          41,
          42,
          43,
          44,
          45,
          46,
          47,
          48,
          49,
          50,
          51,
          52,
          53,
          54,
          55,
          56,
          57,
          58,
          59,
          60,
          61,
          62,
          63,
          64,
          65,
          66,
          67,
          68,
          69,
          70,
          71,
          72,
          73,
          74,
          75,
          76,
          77,
          78,
          79,
          80,
          81,
          82,
          83,
          84,
          85,
          86,
          87,
          88,
          89,
          90,
          91,
          92,
          93,
          94,
          95,
          96,
          97,
          98,
          99,
          100,
          101,
          102,
          103,
          104,
          105,
          106,
          107,
          108,
          109,
          110,
          111
         ],
         "y": [
          0.010213915440376567,
          0.00510846870974548,
          0.003406767001044192,
          0.002555976897187197,
          0.0020455412725347223,
          0.0017052776109930483,
          0.0014622519500596355,
          0.0012799980281457625,
          0.0011382572211444892,
          0.0010248746065081586,
          0.0009321153973283324,
          0.0008548231803839417,
          0.0007894282096676491,
          0.000733380723649183,
          0.0006848109397004258,
          0.0006423165531897044,
          0.000604825238587026,
          0.0005715029846763414,
          0.000541691377333898,
          0.0005148636980332401,
          0.0004905935660390332,
          0.0004685321330271542,
          0.00044839122715628626,
          0.0004299307112896874,
          0.00041294887537264585,
          0.0003972750460536393,
          0.0003827638386903709,
          0.00036929064113095376,
          0.00035674803193488046,
          0.00034504291498984566,
          0.0003340942087513964,
          0.0003238309687767672,
          0.00031419085163812986,
          0.00030511884992815417,
          0.0002965662441369186,
          0.0002884897292287136,
          0.0002808506828657548,
          0.0002736145491845948,
          0.00026675031738389006,
          0.00026023007853060245,
          0.0002540286472294972,
          0.00024812323734473777,
          0.00024249318297385258,
          0.00023711969747437238,
          0.00023198566462344106,
          0.00022707545702026671,
          0.00022237477767368284,
          0.0002178705213934133,
          0.00021355065315572982,
          0.00020940410106690414,
          0.0002054206619206797,
          0.00020159091765427513,
          0.0001979061612633728,
          0.00019435833094982264,
          0.00019093995145416938,
          0.00018764408167482022,
          0.0001844642678017388,
          0.00018139450129905628,
          0.00017842918116124906,
          0.0001755630799442516,
          0.00017279131313827144,
          0.00017010931150497854,
          0.00016751279604965995,
          0.00016499775534010866,
          0.00016256042491949476,
          0.0001601972685911047,
          0.00015790496137935752,
          0.00015568037399452098,
          0.0001535205586485597,
          0.00015142273608698587,
          0.0001493842837168101,
          0.00014740272472401405,
          0.00014547571808564696,
          0.0001436010493919083,
          0.00014177662240260797,
          0.00014000045127035497,
          0.0001382706533698546,
          0.00013658544267891178,
          0.00013494312366224903,
          0.00013334208561413573,
          0.0001317807974201731,
          0.00013025780270244712,
          0.00012877171531571355,
          0.00012732121516535687,
          0.00012590504432062006,
          0.0001245220033990682,
          0.00012317094820045896,
          0.00012185078657017677,
          0.00012056047547417324,
          0.00011929901826895972,
          0.00011806546215164562,
          0.00011685889577632157,
          0.00011567844702426351,
          0.00011452328091650227,
          0.00011339259765826561,
          0.0001122856308056754,
          0.00011120164554587664,
          0.00011013993708249333,
          0.00010909982911896331,
          0.00010808067243289865,
          0.00010708184353516216,
          0.00010610274340784456,
          0.00010514279631577934,
          0.00010420144868664462,
          0.0001032781680550784,
          0.00010237244206657951,
          0.00010148377753728149,
          0.0001006116995659779,
          9.975575069504254e-05,
          9.891549011713211e-05,
          9.809049292478403e-05
         ]
        },
        {
         "hoverinfo": "x+y",
         "name": "$$C_o(T=90^0 C)$$",
         "type": "scatter",
         "x": [
          1,
          2,
          3,
          4,
          5,
          6,
          7,
          8,
          9,
          10,
          11,
          12,
          13,
          14,
          15,
          16,
          17,
          18,
          19,
          20,
          21,
          22,
          23,
          24,
          25,
          26,
          27,
          28,
          29,
          30,
          31,
          32,
          33,
          34,
          35,
          36,
          37,
          38,
          39,
          40,
          41,
          42,
          43,
          44,
          45,
          46,
          47,
          48,
          49,
          50,
          51,
          52,
          53,
          54,
          55,
          56,
          57,
          58,
          59,
          60,
          61,
          62,
          63,
          64,
          65,
          66,
          67,
          68,
          69,
          70,
          71,
          72,
          73,
          74,
          75,
          76,
          77,
          78,
          79,
          80,
          81,
          82,
          83,
          84,
          85,
          86,
          87,
          88,
          89,
          90,
          91,
          92,
          93,
          94,
          95,
          96,
          97,
          98,
          99,
          100,
          101,
          102,
          103,
          104,
          105,
          106,
          107,
          108,
          109,
          110,
          111
         ],
         "y": [
          0.019488673307218332,
          0.00974576446942927,
          0.006498235790369014,
          0.0048745288572686635,
          0.0039003410192355857,
          0.0032509077426937554,
          0.002787045551927929,
          0.002439163389128578,
          0.0021685999430468435,
          0.0019521586649829496,
          0.001775078269642212,
          0.0016275180054148041,
          0.0015026651184707088,
          0.0013956534099804283,
          0.0013029143742906235,
          0.0012217716627205529,
          0.0011501786793814866,
          0.00108654364613555,
          0.0010296099109466203,
          0.000978372164255269,
          0.0009320165939145655,
          0.0008898773617879663,
          0.0008514044344879354,
          0.0008161394565887306,
          0.0007836974143899358,
          0.0007537525312137114,
          0.0007260272971545816,
          0.0007002838496558595,
          0.0006763171374620373,
          0.0006539494518185427,
          0.0006330260161797042,
          0.0006134114028716275,
          0.0005949866012916362,
          0.0005776466035014592,
          0.0005612984037330546,
          0.0005458593313221412,
          0.0005312556539869585,
          0.000517421401650535,
          0.0005042973712206771,
          0.0004918302806591958,
          0.0004799720468512372,
          0.00046867916664074873,
          0.0004579121842370823,
          0.0004476352312514319,
          0.00043781562806476283,
          0.00042842353719386436,
          0.00041943166091085507,
          0.0004108149766622797,
          0.00040255050488765783,
          0.00039461710470138867,
          0.0003869952936134812,
          0.0003796670880529833,
          0.0003726158619464712,
          0.0003658262210110305,
          0.0003592838907616149,
          0.00035297561651841006,
          0.00034688907394045073,
          0.0003410127888150228,
          0.00033533606500465285,
          0.00032984891959992154,
          0.0003245420244511612,
          0.0003194066533588051,
          0.00031443463429361513,
          0.0003096183060966181,
          0.0003049504791762921,
          0.00030042439977902996,
          0.00029603371745953136,
          0.0002917724554216995,
          0.0002876349834388148,
          0.00028361599309504335,
          0.000279710475119401,
          0.00027591369860872835,
          0.00027222119195852607,
          0.0002686287253400864,
          0.00026513229457959125,
          0.0002617281063100375,
          0.0002584125642802727,
          0.00025518225671728877,
          0.0002520339446484418,
          0.00024896455109959755,
          0.0002459711510935005,
          0.00024305096238004927,
          0.0002402013368367467,
          0.00023741975248347315,
          0.0002347038060609865,
          0.00023205120612726244,
          0.00022945976663000367,
          0.00022692740091744104,
          0.000224452116152949,
          0.00022203200810206613,
          0.00021966525626327112,
          0.00021735011931635768,
          0.00021508493086449954,
          0.00021286809544813462,
          0.0002106980848106365,
          0.0002085734343974131,
          0.00020649274007158473,
          0.00020445465503077137,
          0.00020245788691076647,
          0.00020050119506301545,
          0.00019858338799385084,
          0.0001967033209543827,
          0.00019485989367080386,
          0.00019305204820565887,
          0.00019127876694134422,
          0.00018953907067776764,
          0.00018783201683669648,
          0.0001861566977658809,
          0.0001845122391365419,
          0.00018289779842828346,
          0.00018131256349591436
         ]
        }
       ],
       "layout": {
        "legend": {
         "orientation": "h",
         "x": 0.5,
         "xanchor": "center"
        },
        "margin": {
         "b": 0,
         "l": 0,
         "r": 0,
         "t": 30
        },
        "template": {
         "data": {
          "bar": [
           {
            "error_x": {
             "color": "#2a3f5f"
            },
            "error_y": {
             "color": "#2a3f5f"
            },
            "marker": {
             "line": {
              "color": "#E5ECF6",
              "width": 0.5
             },
             "pattern": {
              "fillmode": "overlay",
              "size": 10,
              "solidity": 0.2
             }
            },
            "type": "bar"
           }
          ],
          "barpolar": [
           {
            "marker": {
             "line": {
              "color": "#E5ECF6",
              "width": 0.5
             },
             "pattern": {
              "fillmode": "overlay",
              "size": 10,
              "solidity": 0.2
             }
            },
            "type": "barpolar"
           }
          ],
          "carpet": [
           {
            "aaxis": {
             "endlinecolor": "#2a3f5f",
             "gridcolor": "white",
             "linecolor": "white",
             "minorgridcolor": "white",
             "startlinecolor": "#2a3f5f"
            },
            "baxis": {
             "endlinecolor": "#2a3f5f",
             "gridcolor": "white",
             "linecolor": "white",
             "minorgridcolor": "white",
             "startlinecolor": "#2a3f5f"
            },
            "type": "carpet"
           }
          ],
          "choropleth": [
           {
            "colorbar": {
             "outlinewidth": 0,
             "ticks": ""
            },
            "type": "choropleth"
           }
          ],
          "contour": [
           {
            "colorbar": {
             "outlinewidth": 0,
             "ticks": ""
            },
            "colorscale": [
             [
              0,
              "#0d0887"
             ],
             [
              0.1111111111111111,
              "#46039f"
             ],
             [
              0.2222222222222222,
              "#7201a8"
             ],
             [
              0.3333333333333333,
              "#9c179e"
             ],
             [
              0.4444444444444444,
              "#bd3786"
             ],
             [
              0.5555555555555556,
              "#d8576b"
             ],
             [
              0.6666666666666666,
              "#ed7953"
             ],
             [
              0.7777777777777778,
              "#fb9f3a"
             ],
             [
              0.8888888888888888,
              "#fdca26"
             ],
             [
              1,
              "#f0f921"
             ]
            ],
            "type": "contour"
           }
          ],
          "contourcarpet": [
           {
            "colorbar": {
             "outlinewidth": 0,
             "ticks": ""
            },
            "type": "contourcarpet"
           }
          ],
          "heatmap": [
           {
            "colorbar": {
             "outlinewidth": 0,
             "ticks": ""
            },
            "colorscale": [
             [
              0,
              "#0d0887"
             ],
             [
              0.1111111111111111,
              "#46039f"
             ],
             [
              0.2222222222222222,
              "#7201a8"
             ],
             [
              0.3333333333333333,
              "#9c179e"
             ],
             [
              0.4444444444444444,
              "#bd3786"
             ],
             [
              0.5555555555555556,
              "#d8576b"
             ],
             [
              0.6666666666666666,
              "#ed7953"
             ],
             [
              0.7777777777777778,
              "#fb9f3a"
             ],
             [
              0.8888888888888888,
              "#fdca26"
             ],
             [
              1,
              "#f0f921"
             ]
            ],
            "type": "heatmap"
           }
          ],
          "heatmapgl": [
           {
            "colorbar": {
             "outlinewidth": 0,
             "ticks": ""
            },
            "colorscale": [
             [
              0,
              "#0d0887"
             ],
             [
              0.1111111111111111,
              "#46039f"
             ],
             [
              0.2222222222222222,
              "#7201a8"
             ],
             [
              0.3333333333333333,
              "#9c179e"
             ],
             [
              0.4444444444444444,
              "#bd3786"
             ],
             [
              0.5555555555555556,
              "#d8576b"
             ],
             [
              0.6666666666666666,
              "#ed7953"
             ],
             [
              0.7777777777777778,
              "#fb9f3a"
             ],
             [
              0.8888888888888888,
              "#fdca26"
             ],
             [
              1,
              "#f0f921"
             ]
            ],
            "type": "heatmapgl"
           }
          ],
          "histogram": [
           {
            "marker": {
             "pattern": {
              "fillmode": "overlay",
              "size": 10,
              "solidity": 0.2
             }
            },
            "type": "histogram"
           }
          ],
          "histogram2d": [
           {
            "colorbar": {
             "outlinewidth": 0,
             "ticks": ""
            },
            "colorscale": [
             [
              0,
              "#0d0887"
             ],
             [
              0.1111111111111111,
              "#46039f"
             ],
             [
              0.2222222222222222,
              "#7201a8"
             ],
             [
              0.3333333333333333,
              "#9c179e"
             ],
             [
              0.4444444444444444,
              "#bd3786"
             ],
             [
              0.5555555555555556,
              "#d8576b"
             ],
             [
              0.6666666666666666,
              "#ed7953"
             ],
             [
              0.7777777777777778,
              "#fb9f3a"
             ],
             [
              0.8888888888888888,
              "#fdca26"
             ],
             [
              1,
              "#f0f921"
             ]
            ],
            "type": "histogram2d"
           }
          ],
          "histogram2dcontour": [
           {
            "colorbar": {
             "outlinewidth": 0,
             "ticks": ""
            },
            "colorscale": [
             [
              0,
              "#0d0887"
             ],
             [
              0.1111111111111111,
              "#46039f"
             ],
             [
              0.2222222222222222,
              "#7201a8"
             ],
             [
              0.3333333333333333,
              "#9c179e"
             ],
             [
              0.4444444444444444,
              "#bd3786"
             ],
             [
              0.5555555555555556,
              "#d8576b"
             ],
             [
              0.6666666666666666,
              "#ed7953"
             ],
             [
              0.7777777777777778,
              "#fb9f3a"
             ],
             [
              0.8888888888888888,
              "#fdca26"
             ],
             [
              1,
              "#f0f921"
             ]
            ],
            "type": "histogram2dcontour"
           }
          ],
          "mesh3d": [
           {
            "colorbar": {
             "outlinewidth": 0,
             "ticks": ""
            },
            "type": "mesh3d"
           }
          ],
          "parcoords": [
           {
            "line": {
             "colorbar": {
              "outlinewidth": 0,
              "ticks": ""
             }
            },
            "type": "parcoords"
           }
          ],
          "pie": [
           {
            "automargin": true,
            "type": "pie"
           }
          ],
          "scatter": [
           {
            "marker": {
             "colorbar": {
              "outlinewidth": 0,
              "ticks": ""
             }
            },
            "type": "scatter"
           }
          ],
          "scatter3d": [
           {
            "line": {
             "colorbar": {
              "outlinewidth": 0,
              "ticks": ""
             }
            },
            "marker": {
             "colorbar": {
              "outlinewidth": 0,
              "ticks": ""
             }
            },
            "type": "scatter3d"
           }
          ],
          "scattercarpet": [
           {
            "marker": {
             "colorbar": {
              "outlinewidth": 0,
              "ticks": ""
             }
            },
            "type": "scattercarpet"
           }
          ],
          "scattergeo": [
           {
            "marker": {
             "colorbar": {
              "outlinewidth": 0,
              "ticks": ""
             }
            },
            "type": "scattergeo"
           }
          ],
          "scattergl": [
           {
            "marker": {
             "colorbar": {
              "outlinewidth": 0,
              "ticks": ""
             }
            },
            "type": "scattergl"
           }
          ],
          "scattermapbox": [
           {
            "marker": {
             "colorbar": {
              "outlinewidth": 0,
              "ticks": ""
             }
            },
            "type": "scattermapbox"
           }
          ],
          "scatterpolar": [
           {
            "marker": {
             "colorbar": {
              "outlinewidth": 0,
              "ticks": ""
             }
            },
            "type": "scatterpolar"
           }
          ],
          "scatterpolargl": [
           {
            "marker": {
             "colorbar": {
              "outlinewidth": 0,
              "ticks": ""
             }
            },
            "type": "scatterpolargl"
           }
          ],
          "scatterternary": [
           {
            "marker": {
             "colorbar": {
              "outlinewidth": 0,
              "ticks": ""
             }
            },
            "type": "scatterternary"
           }
          ],
          "surface": [
           {
            "colorbar": {
             "outlinewidth": 0,
             "ticks": ""
            },
            "colorscale": [
             [
              0,
              "#0d0887"
             ],
             [
              0.1111111111111111,
              "#46039f"
             ],
             [
              0.2222222222222222,
              "#7201a8"
             ],
             [
              0.3333333333333333,
              "#9c179e"
             ],
             [
              0.4444444444444444,
              "#bd3786"
             ],
             [
              0.5555555555555556,
              "#d8576b"
             ],
             [
              0.6666666666666666,
              "#ed7953"
             ],
             [
              0.7777777777777778,
              "#fb9f3a"
             ],
             [
              0.8888888888888888,
              "#fdca26"
             ],
             [
              1,
              "#f0f921"
             ]
            ],
            "type": "surface"
           }
          ],
          "table": [
           {
            "cells": {
             "fill": {
              "color": "#EBF0F8"
             },
             "line": {
              "color": "white"
             }
            },
            "header": {
             "fill": {
              "color": "#C8D4E3"
             },
             "line": {
              "color": "white"
             }
            },
            "type": "table"
           }
          ]
         },
         "layout": {
          "annotationdefaults": {
           "arrowcolor": "#2a3f5f",
           "arrowhead": 0,
           "arrowwidth": 1
          },
          "autotypenumbers": "strict",
          "coloraxis": {
           "colorbar": {
            "outlinewidth": 0,
            "ticks": ""
           }
          },
          "colorscale": {
           "diverging": [
            [
             0,
             "#8e0152"
            ],
            [
             0.1,
             "#c51b7d"
            ],
            [
             0.2,
             "#de77ae"
            ],
            [
             0.3,
             "#f1b6da"
            ],
            [
             0.4,
             "#fde0ef"
            ],
            [
             0.5,
             "#f7f7f7"
            ],
            [
             0.6,
             "#e6f5d0"
            ],
            [
             0.7,
             "#b8e186"
            ],
            [
             0.8,
             "#7fbc41"
            ],
            [
             0.9,
             "#4d9221"
            ],
            [
             1,
             "#276419"
            ]
           ],
           "sequential": [
            [
             0,
             "#0d0887"
            ],
            [
             0.1111111111111111,
             "#46039f"
            ],
            [
             0.2222222222222222,
             "#7201a8"
            ],
            [
             0.3333333333333333,
             "#9c179e"
            ],
            [
             0.4444444444444444,
             "#bd3786"
            ],
            [
             0.5555555555555556,
             "#d8576b"
            ],
            [
             0.6666666666666666,
             "#ed7953"
            ],
            [
             0.7777777777777778,
             "#fb9f3a"
            ],
            [
             0.8888888888888888,
             "#fdca26"
            ],
            [
             1,
             "#f0f921"
            ]
           ],
           "sequentialminus": [
            [
             0,
             "#0d0887"
            ],
            [
             0.1111111111111111,
             "#46039f"
            ],
            [
             0.2222222222222222,
             "#7201a8"
            ],
            [
             0.3333333333333333,
             "#9c179e"
            ],
            [
             0.4444444444444444,
             "#bd3786"
            ],
            [
             0.5555555555555556,
             "#d8576b"
            ],
            [
             0.6666666666666666,
             "#ed7953"
            ],
            [
             0.7777777777777778,
             "#fb9f3a"
            ],
            [
             0.8888888888888888,
             "#fdca26"
            ],
            [
             1,
             "#f0f921"
            ]
           ]
          },
          "colorway": [
           "#636efa",
           "#EF553B",
           "#00cc96",
           "#ab63fa",
           "#FFA15A",
           "#19d3f3",
           "#FF6692",
           "#B6E880",
           "#FF97FF",
           "#FECB52"
          ],
          "font": {
           "color": "#2a3f5f"
          },
          "geo": {
           "bgcolor": "white",
           "lakecolor": "white",
           "landcolor": "#E5ECF6",
           "showlakes": true,
           "showland": true,
           "subunitcolor": "white"
          },
          "hoverlabel": {
           "align": "left"
          },
          "hovermode": "closest",
          "mapbox": {
           "style": "light"
          },
          "paper_bgcolor": "white",
          "plot_bgcolor": "#E5ECF6",
          "polar": {
           "angularaxis": {
            "gridcolor": "white",
            "linecolor": "white",
            "ticks": ""
           },
           "bgcolor": "#E5ECF6",
           "radialaxis": {
            "gridcolor": "white",
            "linecolor": "white",
            "ticks": ""
           }
          },
          "scene": {
           "xaxis": {
            "backgroundcolor": "#E5ECF6",
            "gridcolor": "white",
            "gridwidth": 2,
            "linecolor": "white",
            "showbackground": true,
            "ticks": "",
            "zerolinecolor": "white"
           },
           "yaxis": {
            "backgroundcolor": "#E5ECF6",
            "gridcolor": "white",
            "gridwidth": 2,
            "linecolor": "white",
            "showbackground": true,
            "ticks": "",
            "zerolinecolor": "white"
           },
           "zaxis": {
            "backgroundcolor": "#E5ECF6",
            "gridcolor": "white",
            "gridwidth": 2,
            "linecolor": "white",
            "showbackground": true,
            "ticks": "",
            "zerolinecolor": "white"
           }
          },
          "shapedefaults": {
           "line": {
            "color": "#2a3f5f"
           }
          },
          "ternary": {
           "aaxis": {
            "gridcolor": "white",
            "linecolor": "white",
            "ticks": ""
           },
           "baxis": {
            "gridcolor": "white",
            "linecolor": "white",
            "ticks": ""
           },
           "bgcolor": "#E5ECF6",
           "caxis": {
            "gridcolor": "white",
            "linecolor": "white",
            "ticks": ""
           }
          },
          "title": {
           "x": 0.05
          },
          "xaxis": {
           "automargin": true,
           "gridcolor": "white",
           "linecolor": "white",
           "ticks": "",
           "title": {
            "standoff": 15
           },
           "zerolinecolor": "white",
           "zerolinewidth": 2
          },
          "yaxis": {
           "automargin": true,
           "gridcolor": "white",
           "linecolor": "white",
           "ticks": "",
           "title": {
            "standoff": 15
           },
           "zerolinecolor": "white",
           "zerolinewidth": 2
          }
         }
        },
        "title": {
         "text": "Зависимость сжимаемости от давления"
        },
        "xaxis": {
         "title": {
          "text": "Давление, атм"
         }
        },
        "yaxis": {
         "title": {
          "text": "Сжимаемость, 1/атм"
         }
        }
       }
      },
      "text/html": [
       "<div>                            <div id=\"73d7a19d-7c44-47fd-9bfa-67db512321c9\" class=\"plotly-graph-div\" style=\"height:525px; width:100%;\"></div>            <script type=\"text/javascript\">                require([\"plotly\"], function(Plotly) {                    window.PLOTLYENV=window.PLOTLYENV || {};                                    if (document.getElementById(\"73d7a19d-7c44-47fd-9bfa-67db512321c9\")) {                    Plotly.newPlot(                        \"73d7a19d-7c44-47fd-9bfa-67db512321c9\",                        [{\"hoverinfo\":\"x+y\",\"name\":\"$$C_o(T=70^0 C)$$\",\"type\":\"scatter\",\"x\":[1,2,3,4,5,6,7,8,9,10,11,12,13,14,15,16,17,18,19,20,21,22,23,24,25,26,27,28,29,30,31,32,33,34,35,36,37,38,39,40,41,42,43,44,45,46,47,48,49,50,51,52,53,54,55,56,57,58,59,60,61,62,63,64,65,66,67,68,69,70,71,72,73,74,75,76,77,78,79,80,81,82,83,84,85,86,87,88,89,90,91,92,93,94,95,96,97,98,99,100,101,102,103,104,105,106,107,108,109,110,111],\"y\":[0.010213915440376567,0.00510846870974548,0.003406767001044192,0.002555976897187197,0.0020455412725347223,0.0017052776109930483,0.0014622519500596355,0.0012799980281457625,0.0011382572211444892,0.0010248746065081586,0.0009321153973283324,0.0008548231803839417,0.0007894282096676491,0.000733380723649183,0.0006848109397004258,0.0006423165531897044,0.000604825238587026,0.0005715029846763414,0.000541691377333898,0.0005148636980332401,0.0004905935660390332,0.0004685321330271542,0.00044839122715628626,0.0004299307112896874,0.00041294887537264585,0.0003972750460536393,0.0003827638386903709,0.00036929064113095376,0.00035674803193488046,0.00034504291498984566,0.0003340942087513964,0.0003238309687767672,0.00031419085163812986,0.00030511884992815417,0.0002965662441369186,0.0002884897292287136,0.0002808506828657548,0.0002736145491845948,0.00026675031738389006,0.00026023007853060245,0.0002540286472294972,0.00024812323734473777,0.00024249318297385258,0.00023711969747437238,0.00023198566462344106,0.00022707545702026671,0.00022237477767368284,0.0002178705213934133,0.00021355065315572982,0.00020940410106690414,0.0002054206619206797,0.00020159091765427513,0.0001979061612633728,0.00019435833094982264,0.00019093995145416938,0.00018764408167482022,0.0001844642678017388,0.00018139450129905628,0.00017842918116124906,0.0001755630799442516,0.00017279131313827144,0.00017010931150497854,0.00016751279604965995,0.00016499775534010866,0.00016256042491949476,0.0001601972685911047,0.00015790496137935752,0.00015568037399452098,0.0001535205586485597,0.00015142273608698587,0.0001493842837168101,0.00014740272472401405,0.00014547571808564696,0.0001436010493919083,0.00014177662240260797,0.00014000045127035497,0.0001382706533698546,0.00013658544267891178,0.00013494312366224903,0.00013334208561413573,0.0001317807974201731,0.00013025780270244712,0.00012877171531571355,0.00012732121516535687,0.00012590504432062006,0.0001245220033990682,0.00012317094820045896,0.00012185078657017677,0.00012056047547417324,0.00011929901826895972,0.00011806546215164562,0.00011685889577632157,0.00011567844702426351,0.00011452328091650227,0.00011339259765826561,0.0001122856308056754,0.00011120164554587664,0.00011013993708249333,0.00010909982911896331,0.00010808067243289865,0.00010708184353516216,0.00010610274340784456,0.00010514279631577934,0.00010420144868664462,0.0001032781680550784,0.00010237244206657951,0.00010148377753728149,0.0001006116995659779,9.975575069504254e-05,9.891549011713211e-05,9.809049292478403e-05]},{\"hoverinfo\":\"x+y\",\"name\":\"$$C_o(T=90^0 C)$$\",\"type\":\"scatter\",\"x\":[1,2,3,4,5,6,7,8,9,10,11,12,13,14,15,16,17,18,19,20,21,22,23,24,25,26,27,28,29,30,31,32,33,34,35,36,37,38,39,40,41,42,43,44,45,46,47,48,49,50,51,52,53,54,55,56,57,58,59,60,61,62,63,64,65,66,67,68,69,70,71,72,73,74,75,76,77,78,79,80,81,82,83,84,85,86,87,88,89,90,91,92,93,94,95,96,97,98,99,100,101,102,103,104,105,106,107,108,109,110,111],\"y\":[0.019488673307218332,0.00974576446942927,0.006498235790369014,0.0048745288572686635,0.0039003410192355857,0.0032509077426937554,0.002787045551927929,0.002439163389128578,0.0021685999430468435,0.0019521586649829496,0.001775078269642212,0.0016275180054148041,0.0015026651184707088,0.0013956534099804283,0.0013029143742906235,0.0012217716627205529,0.0011501786793814866,0.00108654364613555,0.0010296099109466203,0.000978372164255269,0.0009320165939145655,0.0008898773617879663,0.0008514044344879354,0.0008161394565887306,0.0007836974143899358,0.0007537525312137114,0.0007260272971545816,0.0007002838496558595,0.0006763171374620373,0.0006539494518185427,0.0006330260161797042,0.0006134114028716275,0.0005949866012916362,0.0005776466035014592,0.0005612984037330546,0.0005458593313221412,0.0005312556539869585,0.000517421401650535,0.0005042973712206771,0.0004918302806591958,0.0004799720468512372,0.00046867916664074873,0.0004579121842370823,0.0004476352312514319,0.00043781562806476283,0.00042842353719386436,0.00041943166091085507,0.0004108149766622797,0.00040255050488765783,0.00039461710470138867,0.0003869952936134812,0.0003796670880529833,0.0003726158619464712,0.0003658262210110305,0.0003592838907616149,0.00035297561651841006,0.00034688907394045073,0.0003410127888150228,0.00033533606500465285,0.00032984891959992154,0.0003245420244511612,0.0003194066533588051,0.00031443463429361513,0.0003096183060966181,0.0003049504791762921,0.00030042439977902996,0.00029603371745953136,0.0002917724554216995,0.0002876349834388148,0.00028361599309504335,0.000279710475119401,0.00027591369860872835,0.00027222119195852607,0.0002686287253400864,0.00026513229457959125,0.0002617281063100375,0.0002584125642802727,0.00025518225671728877,0.0002520339446484418,0.00024896455109959755,0.0002459711510935005,0.00024305096238004927,0.0002402013368367467,0.00023741975248347315,0.0002347038060609865,0.00023205120612726244,0.00022945976663000367,0.00022692740091744104,0.000224452116152949,0.00022203200810206613,0.00021966525626327112,0.00021735011931635768,0.00021508493086449954,0.00021286809544813462,0.0002106980848106365,0.0002085734343974131,0.00020649274007158473,0.00020445465503077137,0.00020245788691076647,0.00020050119506301545,0.00019858338799385084,0.0001967033209543827,0.00019485989367080386,0.00019305204820565887,0.00019127876694134422,0.00018953907067776764,0.00018783201683669648,0.0001861566977658809,0.0001845122391365419,0.00018289779842828346,0.00018131256349591436]}],                        {\"legend\":{\"orientation\":\"h\",\"x\":0.5,\"xanchor\":\"center\"},\"margin\":{\"b\":0,\"l\":0,\"r\":0,\"t\":30},\"template\":{\"data\":{\"bar\":[{\"error_x\":{\"color\":\"#2a3f5f\"},\"error_y\":{\"color\":\"#2a3f5f\"},\"marker\":{\"line\":{\"color\":\"#E5ECF6\",\"width\":0.5},\"pattern\":{\"fillmode\":\"overlay\",\"size\":10,\"solidity\":0.2}},\"type\":\"bar\"}],\"barpolar\":[{\"marker\":{\"line\":{\"color\":\"#E5ECF6\",\"width\":0.5},\"pattern\":{\"fillmode\":\"overlay\",\"size\":10,\"solidity\":0.2}},\"type\":\"barpolar\"}],\"carpet\":[{\"aaxis\":{\"endlinecolor\":\"#2a3f5f\",\"gridcolor\":\"white\",\"linecolor\":\"white\",\"minorgridcolor\":\"white\",\"startlinecolor\":\"#2a3f5f\"},\"baxis\":{\"endlinecolor\":\"#2a3f5f\",\"gridcolor\":\"white\",\"linecolor\":\"white\",\"minorgridcolor\":\"white\",\"startlinecolor\":\"#2a3f5f\"},\"type\":\"carpet\"}],\"choropleth\":[{\"colorbar\":{\"outlinewidth\":0,\"ticks\":\"\"},\"type\":\"choropleth\"}],\"contour\":[{\"colorbar\":{\"outlinewidth\":0,\"ticks\":\"\"},\"colorscale\":[[0.0,\"#0d0887\"],[0.1111111111111111,\"#46039f\"],[0.2222222222222222,\"#7201a8\"],[0.3333333333333333,\"#9c179e\"],[0.4444444444444444,\"#bd3786\"],[0.5555555555555556,\"#d8576b\"],[0.6666666666666666,\"#ed7953\"],[0.7777777777777778,\"#fb9f3a\"],[0.8888888888888888,\"#fdca26\"],[1.0,\"#f0f921\"]],\"type\":\"contour\"}],\"contourcarpet\":[{\"colorbar\":{\"outlinewidth\":0,\"ticks\":\"\"},\"type\":\"contourcarpet\"}],\"heatmap\":[{\"colorbar\":{\"outlinewidth\":0,\"ticks\":\"\"},\"colorscale\":[[0.0,\"#0d0887\"],[0.1111111111111111,\"#46039f\"],[0.2222222222222222,\"#7201a8\"],[0.3333333333333333,\"#9c179e\"],[0.4444444444444444,\"#bd3786\"],[0.5555555555555556,\"#d8576b\"],[0.6666666666666666,\"#ed7953\"],[0.7777777777777778,\"#fb9f3a\"],[0.8888888888888888,\"#fdca26\"],[1.0,\"#f0f921\"]],\"type\":\"heatmap\"}],\"heatmapgl\":[{\"colorbar\":{\"outlinewidth\":0,\"ticks\":\"\"},\"colorscale\":[[0.0,\"#0d0887\"],[0.1111111111111111,\"#46039f\"],[0.2222222222222222,\"#7201a8\"],[0.3333333333333333,\"#9c179e\"],[0.4444444444444444,\"#bd3786\"],[0.5555555555555556,\"#d8576b\"],[0.6666666666666666,\"#ed7953\"],[0.7777777777777778,\"#fb9f3a\"],[0.8888888888888888,\"#fdca26\"],[1.0,\"#f0f921\"]],\"type\":\"heatmapgl\"}],\"histogram\":[{\"marker\":{\"pattern\":{\"fillmode\":\"overlay\",\"size\":10,\"solidity\":0.2}},\"type\":\"histogram\"}],\"histogram2d\":[{\"colorbar\":{\"outlinewidth\":0,\"ticks\":\"\"},\"colorscale\":[[0.0,\"#0d0887\"],[0.1111111111111111,\"#46039f\"],[0.2222222222222222,\"#7201a8\"],[0.3333333333333333,\"#9c179e\"],[0.4444444444444444,\"#bd3786\"],[0.5555555555555556,\"#d8576b\"],[0.6666666666666666,\"#ed7953\"],[0.7777777777777778,\"#fb9f3a\"],[0.8888888888888888,\"#fdca26\"],[1.0,\"#f0f921\"]],\"type\":\"histogram2d\"}],\"histogram2dcontour\":[{\"colorbar\":{\"outlinewidth\":0,\"ticks\":\"\"},\"colorscale\":[[0.0,\"#0d0887\"],[0.1111111111111111,\"#46039f\"],[0.2222222222222222,\"#7201a8\"],[0.3333333333333333,\"#9c179e\"],[0.4444444444444444,\"#bd3786\"],[0.5555555555555556,\"#d8576b\"],[0.6666666666666666,\"#ed7953\"],[0.7777777777777778,\"#fb9f3a\"],[0.8888888888888888,\"#fdca26\"],[1.0,\"#f0f921\"]],\"type\":\"histogram2dcontour\"}],\"mesh3d\":[{\"colorbar\":{\"outlinewidth\":0,\"ticks\":\"\"},\"type\":\"mesh3d\"}],\"parcoords\":[{\"line\":{\"colorbar\":{\"outlinewidth\":0,\"ticks\":\"\"}},\"type\":\"parcoords\"}],\"pie\":[{\"automargin\":true,\"type\":\"pie\"}],\"scatter\":[{\"marker\":{\"colorbar\":{\"outlinewidth\":0,\"ticks\":\"\"}},\"type\":\"scatter\"}],\"scatter3d\":[{\"line\":{\"colorbar\":{\"outlinewidth\":0,\"ticks\":\"\"}},\"marker\":{\"colorbar\":{\"outlinewidth\":0,\"ticks\":\"\"}},\"type\":\"scatter3d\"}],\"scattercarpet\":[{\"marker\":{\"colorbar\":{\"outlinewidth\":0,\"ticks\":\"\"}},\"type\":\"scattercarpet\"}],\"scattergeo\":[{\"marker\":{\"colorbar\":{\"outlinewidth\":0,\"ticks\":\"\"}},\"type\":\"scattergeo\"}],\"scattergl\":[{\"marker\":{\"colorbar\":{\"outlinewidth\":0,\"ticks\":\"\"}},\"type\":\"scattergl\"}],\"scattermapbox\":[{\"marker\":{\"colorbar\":{\"outlinewidth\":0,\"ticks\":\"\"}},\"type\":\"scattermapbox\"}],\"scatterpolar\":[{\"marker\":{\"colorbar\":{\"outlinewidth\":0,\"ticks\":\"\"}},\"type\":\"scatterpolar\"}],\"scatterpolargl\":[{\"marker\":{\"colorbar\":{\"outlinewidth\":0,\"ticks\":\"\"}},\"type\":\"scatterpolargl\"}],\"scatterternary\":[{\"marker\":{\"colorbar\":{\"outlinewidth\":0,\"ticks\":\"\"}},\"type\":\"scatterternary\"}],\"surface\":[{\"colorbar\":{\"outlinewidth\":0,\"ticks\":\"\"},\"colorscale\":[[0.0,\"#0d0887\"],[0.1111111111111111,\"#46039f\"],[0.2222222222222222,\"#7201a8\"],[0.3333333333333333,\"#9c179e\"],[0.4444444444444444,\"#bd3786\"],[0.5555555555555556,\"#d8576b\"],[0.6666666666666666,\"#ed7953\"],[0.7777777777777778,\"#fb9f3a\"],[0.8888888888888888,\"#fdca26\"],[1.0,\"#f0f921\"]],\"type\":\"surface\"}],\"table\":[{\"cells\":{\"fill\":{\"color\":\"#EBF0F8\"},\"line\":{\"color\":\"white\"}},\"header\":{\"fill\":{\"color\":\"#C8D4E3\"},\"line\":{\"color\":\"white\"}},\"type\":\"table\"}]},\"layout\":{\"annotationdefaults\":{\"arrowcolor\":\"#2a3f5f\",\"arrowhead\":0,\"arrowwidth\":1},\"autotypenumbers\":\"strict\",\"coloraxis\":{\"colorbar\":{\"outlinewidth\":0,\"ticks\":\"\"}},\"colorscale\":{\"diverging\":[[0,\"#8e0152\"],[0.1,\"#c51b7d\"],[0.2,\"#de77ae\"],[0.3,\"#f1b6da\"],[0.4,\"#fde0ef\"],[0.5,\"#f7f7f7\"],[0.6,\"#e6f5d0\"],[0.7,\"#b8e186\"],[0.8,\"#7fbc41\"],[0.9,\"#4d9221\"],[1,\"#276419\"]],\"sequential\":[[0.0,\"#0d0887\"],[0.1111111111111111,\"#46039f\"],[0.2222222222222222,\"#7201a8\"],[0.3333333333333333,\"#9c179e\"],[0.4444444444444444,\"#bd3786\"],[0.5555555555555556,\"#d8576b\"],[0.6666666666666666,\"#ed7953\"],[0.7777777777777778,\"#fb9f3a\"],[0.8888888888888888,\"#fdca26\"],[1.0,\"#f0f921\"]],\"sequentialminus\":[[0.0,\"#0d0887\"],[0.1111111111111111,\"#46039f\"],[0.2222222222222222,\"#7201a8\"],[0.3333333333333333,\"#9c179e\"],[0.4444444444444444,\"#bd3786\"],[0.5555555555555556,\"#d8576b\"],[0.6666666666666666,\"#ed7953\"],[0.7777777777777778,\"#fb9f3a\"],[0.8888888888888888,\"#fdca26\"],[1.0,\"#f0f921\"]]},\"colorway\":[\"#636efa\",\"#EF553B\",\"#00cc96\",\"#ab63fa\",\"#FFA15A\",\"#19d3f3\",\"#FF6692\",\"#B6E880\",\"#FF97FF\",\"#FECB52\"],\"font\":{\"color\":\"#2a3f5f\"},\"geo\":{\"bgcolor\":\"white\",\"lakecolor\":\"white\",\"landcolor\":\"#E5ECF6\",\"showlakes\":true,\"showland\":true,\"subunitcolor\":\"white\"},\"hoverlabel\":{\"align\":\"left\"},\"hovermode\":\"closest\",\"mapbox\":{\"style\":\"light\"},\"paper_bgcolor\":\"white\",\"plot_bgcolor\":\"#E5ECF6\",\"polar\":{\"angularaxis\":{\"gridcolor\":\"white\",\"linecolor\":\"white\",\"ticks\":\"\"},\"bgcolor\":\"#E5ECF6\",\"radialaxis\":{\"gridcolor\":\"white\",\"linecolor\":\"white\",\"ticks\":\"\"}},\"scene\":{\"xaxis\":{\"backgroundcolor\":\"#E5ECF6\",\"gridcolor\":\"white\",\"gridwidth\":2,\"linecolor\":\"white\",\"showbackground\":true,\"ticks\":\"\",\"zerolinecolor\":\"white\"},\"yaxis\":{\"backgroundcolor\":\"#E5ECF6\",\"gridcolor\":\"white\",\"gridwidth\":2,\"linecolor\":\"white\",\"showbackground\":true,\"ticks\":\"\",\"zerolinecolor\":\"white\"},\"zaxis\":{\"backgroundcolor\":\"#E5ECF6\",\"gridcolor\":\"white\",\"gridwidth\":2,\"linecolor\":\"white\",\"showbackground\":true,\"ticks\":\"\",\"zerolinecolor\":\"white\"}},\"shapedefaults\":{\"line\":{\"color\":\"#2a3f5f\"}},\"ternary\":{\"aaxis\":{\"gridcolor\":\"white\",\"linecolor\":\"white\",\"ticks\":\"\"},\"baxis\":{\"gridcolor\":\"white\",\"linecolor\":\"white\",\"ticks\":\"\"},\"bgcolor\":\"#E5ECF6\",\"caxis\":{\"gridcolor\":\"white\",\"linecolor\":\"white\",\"ticks\":\"\"}},\"title\":{\"x\":0.05},\"xaxis\":{\"automargin\":true,\"gridcolor\":\"white\",\"linecolor\":\"white\",\"ticks\":\"\",\"title\":{\"standoff\":15},\"zerolinecolor\":\"white\",\"zerolinewidth\":2},\"yaxis\":{\"automargin\":true,\"gridcolor\":\"white\",\"linecolor\":\"white\",\"ticks\":\"\",\"title\":{\"standoff\":15},\"zerolinecolor\":\"white\",\"zerolinewidth\":2}}},\"title\":{\"text\":\"\\u0417\\u0430\\u0432\\u0438\\u0441\\u0438\\u043c\\u043e\\u0441\\u0442\\u044c \\u0441\\u0436\\u0438\\u043c\\u0430\\u0435\\u043c\\u043e\\u0441\\u0442\\u0438 \\u043e\\u0442 \\u0434\\u0430\\u0432\\u043b\\u0435\\u043d\\u0438\\u044f\"},\"xaxis\":{\"title\":{\"text\":\"\\u0414\\u0430\\u0432\\u043b\\u0435\\u043d\\u0438\\u0435, \\u0430\\u0442\\u043c\"}},\"yaxis\":{\"title\":{\"text\":\"\\u0421\\u0436\\u0438\\u043c\\u0430\\u0435\\u043c\\u043e\\u0441\\u0442\\u044c, 1/\\u0430\\u0442\\u043c\"}}},                        {\"responsive\": true}                    ).then(function(){\n",
       "                            \n",
       "var gd = document.getElementById('73d7a19d-7c44-47fd-9bfa-67db512321c9');\n",
       "var x = new MutationObserver(function (mutations, observer) {{\n",
       "        var display = window.getComputedStyle(gd).display;\n",
       "        if (!display || display === 'none') {{\n",
       "            console.log([gd, 'removed!']);\n",
       "            Plotly.purge(gd);\n",
       "            observer.disconnect();\n",
       "        }}\n",
       "}});\n",
       "\n",
       "// Listen for the removal of the full notebook cells\n",
       "var notebookContainer = gd.closest('#notebook-container');\n",
       "if (notebookContainer) {{\n",
       "    x.observe(notebookContainer, {childList: true});\n",
       "}}\n",
       "\n",
       "// Listen for the clearing of the current output cell\n",
       "var outputEl = gd.closest('.output');\n",
       "if (outputEl) {{\n",
       "    x.observe(outputEl, {childList: true});\n",
       "}}\n",
       "\n",
       "                        })                };                });            </script>        </div>"
      ]
     },
     "metadata": {},
     "output_type": "display_data"
    }
   ],
   "source": [
    "fig2 = go.Figure()\n",
    "\n",
    "fig2.add_trace(go.Scatter(x=p_list, y=co_70, name='$$C_o(T=70^0 C)$$'))\n",
    "fig2.add_trace(go.Scatter(x=p_list, y=co_90, name='$$C_o(T=90^0 C)$$'))\n",
    "fig2.update_layout(legend_orientation=\"h\",\n",
    "                  legend=dict(x=.5, xanchor=\"center\"),\n",
    "                  title=\"Зависимость сжимаемости от давления\",\n",
    "                  xaxis_title=\"Давление, атм\",\n",
    "                  yaxis_title=\"Сжимаемость, 1/атм\",\n",
    "                  margin=dict(l=0, r=0, t=30, b=0))\n",
    "fig2.update_traces(hoverinfo=\"x+y\")\n",
    "fig2.show()\n"
   ]
  },
  {
   "cell_type": "markdown",
   "id": "19654135",
   "metadata": {},
   "source": [
    "**Сравнение вязкости и давление насыщения с данными по месторождению №1 из тех.режима показывает, что расчет в целом верен, значения имеют один порядок, но условия на месторождение(низкая температура) и недостаток данных по месторождению не позволяют провести расчет по данным из тех.режима.**"
   ]
  },
  {
   "cell_type": "code",
   "execution_count": null,
   "id": "3b0c4fcf",
   "metadata": {},
   "outputs": [],
   "source": []
  }
 ],
 "metadata": {
  "kernelspec": {
   "display_name": "Python 3",
   "language": "python",
   "name": "python3"
  },
  "language_info": {
   "codemirror_mode": {
    "name": "ipython",
    "version": 3
   },
   "file_extension": ".py",
   "mimetype": "text/x-python",
   "name": "python",
   "nbconvert_exporter": "python",
   "pygments_lexer": "ipython3",
   "version": "3.8.8"
  }
 },
 "nbformat": 4,
 "nbformat_minor": 5
}
